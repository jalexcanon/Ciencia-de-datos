{
  "nbformat": 4,
  "nbformat_minor": 0,
  "metadata": {
    "colab": {
      "name": "Taller semana 5 (Judy Alexandra Cañón Benavides).ipynb",
      "provenance": [],
      "collapsed_sections": [],
      "include_colab_link": true
    },
    "kernelspec": {
      "name": "python3",
      "display_name": "Python 3"
    },
    "language_info": {
      "name": "python"
    }
  },
  "cells": [
    {
      "cell_type": "markdown",
      "metadata": {
        "id": "view-in-github",
        "colab_type": "text"
      },
      "source": [
        "<a href=\"https://colab.research.google.com/github/jalexcanon/MujeresDigitales/blob/master/Taller_semana_5_(Judy_Alexandra_Ca%C3%B1%C3%B3n_Benavides).ipynb\" target=\"_parent\"><img src=\"https://colab.research.google.com/assets/colab-badge.svg\" alt=\"Open In Colab\"/></a>"
      ]
    },
    {
      "cell_type": "markdown",
      "metadata": {
        "id": "POi23B_G6wnG"
      },
      "source": [
        "Un fanático de pokemones le pide analizar los datos de pokemones, para esto se le proporciona un conjunto de datos en archivo csv. Este fanático le pide a usted como analista investigar cuales son los pokemones con mayor ataque."
      ]
    },
    {
      "cell_type": "code",
      "metadata": {
        "id": "k7kCoay597D2"
      },
      "source": [
        "import pandas as pd\n",
        "import matplotlib.pyplot as plt\n",
        "import seaborn as sns\n",
        "from scipy import stats"
      ],
      "execution_count": 51,
      "outputs": []
    },
    {
      "cell_type": "code",
      "metadata": {
        "id": "wx9ixLT6EmQv"
      },
      "source": [
        "df = pd.read_csv('pokemon_data.csv')"
      ],
      "execution_count": 52,
      "outputs": []
    },
    {
      "cell_type": "markdown",
      "metadata": {
        "id": "WWVZnKFY9xsD"
      },
      "source": [
        "## Ejercicio 1:\n",
        "\n",
        "Calcule el promedio y la mediana del ataque de: \n",
        "1. Todos los pokemones\n",
        "2. Los pokemones agrupados por Legendary (es decir el promedio y mediana de pokemones legendarios y no legendarios)\n",
        "3. Los pokemones agrupados por Type 1"
      ]
    },
    {
      "cell_type": "code",
      "metadata": {
        "colab": {
          "base_uri": "https://localhost:8080/"
        },
        "id": "dOQAXHvZ4_YG",
        "outputId": "2094246e-60db-4dc3-a8eb-ef69419a00d2"
      },
      "source": [
        "attackP=df['Attack'].mean()\n",
        "attackM=df['Attack'].median()\n",
        "print(\"Ataque de todos los pokemones= media\",attackP,\"mediana\",attackM)"
      ],
      "execution_count": 53,
      "outputs": [
        {
          "output_type": "stream",
          "name": "stdout",
          "text": [
            "Ataque de todos los pokemones= media 79.00125 mediana 75.0\n"
          ]
        }
      ]
    },
    {
      "cell_type": "code",
      "metadata": {
        "colab": {
          "base_uri": "https://localhost:8080/"
        },
        "id": "R4_UEwsYEP0g",
        "outputId": "42d9183a-2049-46cf-9254-a01ccb304279"
      },
      "source": [
        "legendarios=df.loc[df['Legendary'] == True]\n",
        "promedio=legendarios['Attack'].mean()\n",
        "mediana=legendarios['Attack'].median()\n",
        "print(\"Legendarios = media\", promedio,\"mediana\",mediana)\n",
        "no_legendarios=df.loc[df['Legendary'] == False]\n",
        "nol_promedio=no_legendarios['Attack'].mean()\n",
        "nol_mediana=no_legendarios['Attack'].median()\n",
        "print(\"No legendarios = media\", nol_promedio,\"mediana\",nol_mediana)"
      ],
      "execution_count": 4,
      "outputs": [
        {
          "output_type": "stream",
          "name": "stdout",
          "text": [
            "Legendarios = media 116.67692307692307 mediana 110.0\n",
            "No legendarios = media 75.66938775510204 mediana 72.0\n"
          ]
        }
      ]
    },
    {
      "cell_type": "code",
      "metadata": {
        "colab": {
          "base_uri": "https://localhost:8080/"
        },
        "id": "ZF6EjmKbGUTh",
        "outputId": "78bef98a-a797-4b82-bd0a-039eeaba82b6"
      },
      "source": [
        "tipo=df.groupby(['Type 1']).mean().sort_values(['Attack'])\n",
        "tipo['Attack']"
      ],
      "execution_count": 54,
      "outputs": [
        {
          "output_type": "execute_result",
          "data": {
            "text/plain": [
              "Type 1\n",
              "Fairy        61.529412\n",
              "Electric     69.090909\n",
              "Bug          70.971014\n",
              "Psychic      71.456140\n",
              "Ice          72.750000\n",
              "Grass        73.214286\n",
              "Normal       73.469388\n",
              "Ghost        73.781250\n",
              "Water        74.151786\n",
              "Poison       74.678571\n",
              "Flying       78.750000\n",
              "Fire         84.769231\n",
              "Dark         88.387097\n",
              "Steel        92.703704\n",
              "Rock         92.863636\n",
              "Ground       95.750000\n",
              "Fighting     96.777778\n",
              "Dragon      112.125000\n",
              "Name: Attack, dtype: float64"
            ]
          },
          "metadata": {},
          "execution_count": 54
        }
      ]
    },
    {
      "cell_type": "code",
      "metadata": {
        "colab": {
          "base_uri": "https://localhost:8080/"
        },
        "id": "hxr8ffK9etpQ",
        "outputId": "21f0ba74-a558-49c8-b35e-0e65d168b55f"
      },
      "source": [
        "tipo2=df.groupby(['Type 1']).median().sort_values(['Attack'])\n",
        "tipo2['Attack']"
      ],
      "execution_count": 55,
      "outputs": [
        {
          "output_type": "execute_result",
          "data": {
            "text/plain": [
              "Type 1\n",
              "Fairy        52.0\n",
              "Psychic      57.0\n",
              "Bug          65.0\n",
              "Electric     65.0\n",
              "Ghost        66.0\n",
              "Ice          67.0\n",
              "Grass        70.0\n",
              "Normal       70.5\n",
              "Water        72.0\n",
              "Poison       74.0\n",
              "Fire         84.5\n",
              "Flying       85.0\n",
              "Ground       85.0\n",
              "Dark         88.0\n",
              "Steel        89.0\n",
              "Rock         95.0\n",
              "Fighting    100.0\n",
              "Dragon      113.5\n",
              "Name: Attack, dtype: float64"
            ]
          },
          "metadata": {},
          "execution_count": 55
        }
      ]
    },
    {
      "cell_type": "markdown",
      "metadata": {
        "id": "icVwAqRB-71l"
      },
      "source": [
        "## Ejercicio 2:\n",
        "\n",
        "Grafique el ataque de los pokemones con un grafico boxplot para los siguientes casos:\n",
        "1. Todos los pokemones\n",
        "2. Los pokemones agrupados por Legendary (es decir el promedio y mediana de pokemones legendarios y no legendarios)\n",
        "3. Los pokemones agrupados por Type 1"
      ]
    },
    {
      "cell_type": "code",
      "metadata": {
        "colab": {
          "base_uri": "https://localhost:8080/",
          "height": 337
        },
        "id": "O4noRRM_GTjX",
        "outputId": "91d0a933-fc3e-420a-a3af-9408a38971df"
      },
      "source": [
        "b_df = df['Attack'].values\n",
        "sns.boxplot(b_df, color='pink')"
      ],
      "execution_count": 7,
      "outputs": [
        {
          "output_type": "stream",
          "name": "stderr",
          "text": [
            "/usr/local/lib/python3.7/dist-packages/seaborn/_decorators.py:43: FutureWarning: Pass the following variable as a keyword arg: x. From version 0.12, the only valid positional argument will be `data`, and passing other arguments without an explicit keyword will result in an error or misinterpretation.\n",
            "  FutureWarning\n"
          ]
        },
        {
          "output_type": "execute_result",
          "data": {
            "text/plain": [
              "<matplotlib.axes._subplots.AxesSubplot at 0x7fe70f13ab50>"
            ]
          },
          "metadata": {},
          "execution_count": 7
        },
        {
          "output_type": "display_data",
          "data": {
            "image/png": "[encoded data removed]",
            "text/plain": [
              "<Figure size 432x288 with 1 Axes>"
            ]
          },
          "metadata": {
            "needs_background": "light"
          }
        }
      ]
    },
    {
      "cell_type": "code",
      "metadata": {
        "colab": {
          "base_uri": "https://localhost:8080/",
          "height": 455
        },
        "id": "DqvNCslPR9ae",
        "outputId": "c0e6765d-420c-406b-a2b3-2f315245d677"
      },
      "source": [
        "legendarios=df.loc[df['Legendary'] == False]\n",
        "legendarios2=df.loc[df['Legendary'] == True]\n",
        "sns.boxplot(legendarios['Attack'], color='blue')\n",
        "sns.boxplot(legendarios2['Attack'], color='aquamarine')"
      ],
      "execution_count": null,
      "outputs": [
        {
          "output_type": "stream",
          "name": "stderr",
          "text": [
            "/usr/local/lib/python3.7/dist-packages/seaborn/_decorators.py:43: FutureWarning:\n",
            "\n",
            "Pass the following variable as a keyword arg: x. From version 0.12, the only valid positional argument will be `data`, and passing other arguments without an explicit keyword will result in an error or misinterpretation.\n",
            "\n",
            "/usr/local/lib/python3.7/dist-packages/seaborn/_decorators.py:43: FutureWarning:\n",
            "\n",
            "Pass the following variable as a keyword arg: x. From version 0.12, the only valid positional argument will be `data`, and passing other arguments without an explicit keyword will result in an error or misinterpretation.\n",
            "\n"
          ]
        },
        {
          "output_type": "execute_result",
          "data": {
            "text/plain": [
              "<matplotlib.axes._subplots.AxesSubplot at 0x7f43de0bea90>"
            ]
          },
          "metadata": {},
          "execution_count": 184
        },
        {
          "output_type": "display_data",
          "data": {
            "image/png": "[encoded data removed]",
            "text/plain": [
              "<Figure size 432x288 with 1 Axes>"
            ]
          },
          "metadata": {
            "needs_background": "light"
          }
        }
      ]
    },
    {
      "cell_type": "code",
      "metadata": {
        "colab": {
          "base_uri": "https://localhost:8080/",
          "height": 372
        },
        "id": "1StxvrBlSPtI",
        "outputId": "730c47dd-c535-4929-e529-56e2722faafe"
      },
      "source": [
        "tipo2=df.groupby('Type 1').first()\n",
        "b_df2 = tipo2['Attack'].values\n",
        "sns.boxplot(b_df2, color='green')"
      ],
      "execution_count": null,
      "outputs": [
        {
          "output_type": "stream",
          "name": "stderr",
          "text": [
            "/usr/local/lib/python3.7/dist-packages/seaborn/_decorators.py:43: FutureWarning:\n",
            "\n",
            "Pass the following variable as a keyword arg: x. From version 0.12, the only valid positional argument will be `data`, and passing other arguments without an explicit keyword will result in an error or misinterpretation.\n",
            "\n"
          ]
        },
        {
          "output_type": "execute_result",
          "data": {
            "text/plain": [
              "<matplotlib.axes._subplots.AxesSubplot at 0x7f43dbc11090>"
            ]
          },
          "metadata": {},
          "execution_count": 185
        },
        {
          "output_type": "display_data",
          "data": {
            "image/png": "[encoded data removed]",
            "text/plain": [
              "<Figure size 432x288 with 1 Axes>"
            ]
          },
          "metadata": {
            "needs_background": "light"
          }
        }
      ]
    },
    {
      "cell_type": "markdown",
      "metadata": {
        "id": "tO65sHNiAmU9"
      },
      "source": [
        "## Ejercicio 3:\n",
        "\n",
        "Realice las siguientes pruebas de hipótesis:\n",
        "1. El promedio del ataque de los pokemones es mayor a 77\n",
        "2. El promedio del ataque de los pokemones legendarios es diferente a los no legendarios\n",
        "\n",
        "\n",
        "Y determine con un nivel de significancia del 5% (es decir $\\alpha$ = 0.05), si podemos rechazar o no las 3 hipótesis anteriores. "
      ]
    },
    {
      "cell_type": "markdown",
      "metadata": {
        "id": "VcgRlaS5bG3-"
      },
      "source": [
        "**Hipótesis 1**\n",
        "* $\\mu$ promedio del ataque de los pokemones 79.00125.\n",
        "* $ \\mu_0$ 77\n",
        "\n",
        "*Hipótesis nula:* 79.00125 < 77 \n",
        "\n",
        "*Hipótesis alternativa:* 79.00125 > 77 \n",
        "\n"
      ]
    },
    {
      "cell_type": "code",
      "metadata": {
        "colab": {
          "base_uri": "https://localhost:8080/"
        },
        "id": "-AIdoNlugLhi",
        "outputId": "c6127c61-a645-4e51-b9f1-44323f249e66"
      },
      "source": [
        "df['Attack'].mean()"
      ],
      "execution_count": 43,
      "outputs": [
        {
          "output_type": "execute_result",
          "data": {
            "text/plain": [
              "79.00125"
            ]
          },
          "metadata": {},
          "execution_count": 43
        }
      ]
    },
    {
      "cell_type": "code",
      "metadata": {
        "colab": {
          "base_uri": "https://localhost:8080/"
        },
        "id": "tHkPc5pMDgFx",
        "outputId": "5f53b425-0fd8-4059-9af0-2b5f965615f2"
      },
      "source": [
        "T,p = stats.ttest_1samp(df['Attack'], popmean=77)\n",
        "p_value1=(p/2)\n",
        "print(p_value1)"
      ],
      "execution_count": 44,
      "outputs": [
        {
          "output_type": "stream",
          "name": "stdout",
          "text": [
            "0.04077652822594917\n"
          ]
        }
      ]
    },
    {
      "cell_type": "code",
      "metadata": {
        "colab": {
          "base_uri": "https://localhost:8080/"
        },
        "id": "ua8NW34hkrsH",
        "outputId": "86e8d120-b66e-407a-9a40-b5ee91f9d5ab"
      },
      "source": [
        "alfa=0.05\n",
        "def pruebat(pvalue):\n",
        "  if pvalue <=alfa:\n",
        "    print(\"Se rechaza H0, la diferencia observada es estadísticamente significativa\")\n",
        "  else:\n",
        "    print(\"No se rechaza H0, la diferencia observada no es estadísticamente significativa\")\n",
        "pruebat(p_value1)"
      ],
      "execution_count": 49,
      "outputs": [
        {
          "output_type": "stream",
          "name": "stdout",
          "text": [
            "Se rechaza H0, la diferencia observada es estadísticamente significativa\n"
          ]
        }
      ]
    },
    {
      "cell_type": "markdown",
      "metadata": {
        "id": "kG8bj7Oay0EG"
      },
      "source": [
        "**Respuesta hipótesis 1:** \n",
        "* El promedio del ataque de los pokemones es de 79.00125 y este valor es mayor a 77. \n",
        "* Al querer comparar si $ \\mu $ > $\\mu_0$ (79.000125>77) se concluye que el  $p$-value es menor que el valor que el de $\\alpha$ (0.05), por ende, la diferencia es estadísticamente significativa, y no se debe retener la hipótesis nula de $ \\mu $ < $\\mu_0$\n"
      ]
    },
    {
      "cell_type": "markdown",
      "metadata": {
        "id": "gFMw7C-6X-_b"
      },
      "source": [
        "**Hipótesis 2**\n",
        "* $\\mu_1$ promedio del ataque de los pokemones 116.67692307692307 legendarios \n",
        "* $ \\mu_2$ promedio del ataque de los pokemones no legendarios 75.66938775510204 \n",
        "\n",
        "$$ H_0: \\mu_1=\\mu_2$$\n",
        "$$H_a: \\mu_1 \\neq \\mu_2$$\n",
        "\n",
        "*Hipótesis nula:* 116.67692307692307 = 75.66938775510204  \n",
        "\n",
        "*Hipótesis alternativa:* 116.67692307692307  ≠  75.66938775510204  "
      ]
    },
    {
      "cell_type": "code",
      "metadata": {
        "colab": {
          "base_uri": "https://localhost:8080/"
        },
        "id": "9VkG333MhX6X",
        "outputId": "1a17731e-f6fa-40ed-8261-c1db867d7171"
      },
      "source": [
        "prueba=df[df.Legendary==True].Attack.describe()\n",
        "prueba2=df[df.Legendary==False].Attack.describe()\n",
        "print(prueba,prueba2)"
      ],
      "execution_count": 45,
      "outputs": [
        {
          "output_type": "stream",
          "name": "stdout",
          "text": [
            "count     65.000000\n",
            "mean     116.676923\n",
            "std       30.348037\n",
            "min       50.000000\n",
            "25%      100.000000\n",
            "50%      110.000000\n",
            "75%      131.000000\n",
            "max      190.000000\n",
            "Name: Attack, dtype: float64 count    735.000000\n",
            "mean      75.669388\n",
            "std       30.490153\n",
            "min        5.000000\n",
            "25%       54.500000\n",
            "50%       72.000000\n",
            "75%       95.000000\n",
            "max      185.000000\n",
            "Name: Attack, dtype: float64\n"
          ]
        }
      ]
    },
    {
      "cell_type": "code",
      "metadata": {
        "colab": {
          "base_uri": "https://localhost:8080/"
        },
        "id": "ziAoi0XZeGWf",
        "outputId": "d0bd1695-b416-459d-ea74-fd36efa41623"
      },
      "source": [
        "prueba=df[df.Legendary==True].Attack\n",
        "prueba2=df[df.Legendary==False].Attack\n",
        "\n",
        "statistic, pvalue = stats.ttest_ind(prueba,prueba2,equal_var=False)\n",
        "statistic, pvalue"
      ],
      "execution_count": 35,
      "outputs": [
        {
          "output_type": "execute_result",
          "data": {
            "text/plain": [
              "(10.438133539322203, 2.520372449236646e-16)"
            ]
          },
          "metadata": {},
          "execution_count": 35
        }
      ]
    },
    {
      "cell_type": "code",
      "metadata": {
        "colab": {
          "base_uri": "https://localhost:8080/"
        },
        "id": "Ms_LcMJDjWRj",
        "outputId": "ab3c78c8-d7a2-4d20-8af9-740833420b76"
      },
      "source": [
        "alfa=0.05\n",
        "def pruebat(pvalue):\n",
        "  if pvalue <=alfa:\n",
        "    print(\"Se rechaza H0, la diferencia observada es estadísticamente significativa\")\n",
        "  else:\n",
        "    print(\"No se rechaza H0, la diferencia observada no es estadísticamente significativa\")\n",
        "pruebat(pvalue)"
      ],
      "execution_count": 50,
      "outputs": [
        {
          "output_type": "stream",
          "name": "stdout",
          "text": [
            "Se rechaza H0, la diferencia observada es estadísticamente significativa\n"
          ]
        }
      ]
    },
    {
      "cell_type": "markdown",
      "metadata": {
        "id": "sDoGjVSNC_An"
      },
      "source": [
        "**Respuesta hipótesis 2:**\n",
        "\n",
        "*   El promedio de los pokemones legendarios es de 116.67692307692307, y este valor es diferente al promedio de los pokemones no legendarios que es de 75.66938775510204. Con una diferencia de 41.00753532182104.\n",
        "*   Se rechaza la hipótesis nula pues el valor de $\\mu_1$ no es igual al valor de $ \\mu_2$. Lo cual se comprobo al vislumbrar que el $p$-value es menor que el valor que el de $\\alpha$ (0.05), por ende, la diferencia es estadísticamente significativa, y no se debe retener la hipótesis nula de $\\mu_1$ = $\\mu_2$\n"
      ]
    }
  ]
}