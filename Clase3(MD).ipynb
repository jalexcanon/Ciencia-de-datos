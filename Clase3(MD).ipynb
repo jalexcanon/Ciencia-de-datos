{
  "nbformat": 4,
  "nbformat_minor": 0,
  "metadata": {
    "colab": {
      "name": "Clase3(MD).ipynb",
      "provenance": [],
      "authorship_tag": "ABX9TyNv8kZpbFukhc/ksK7WxK53",
      "include_colab_link": true
    },
    "kernelspec": {
      "name": "python3",
      "display_name": "Python 3"
    },
    "language_info": {
      "name": "python"
    }
  },
  "cells": [
    {
      "cell_type": "markdown",
      "metadata": {
        "id": "view-in-github",
        "colab_type": "text"
      },
      "source": [
        "<a href=\"https://colab.research.google.com/github/jalexcanon/MujeresDigitales/blob/master/Clase3(MD).ipynb\" target=\"_parent\"><img src=\"https://colab.research.google.com/assets/colab-badge.svg\" alt=\"Open In Colab\"/></a>"
      ]
    },
    {
      "cell_type": "markdown",
      "metadata": {
        "id": "55LKMLho4oXp"
      },
      "source": [
        "# **Condicionales**\n",
        "1.   Se generan dos resultados: verdadero, falso. \n",
        "2.   En condiciones múltiples, podemos enlazar los operadores lógicos. \n",
        "\n"
      ]
    },
    {
      "cell_type": "markdown",
      "metadata": {
        "id": "xNpkSzZ9BTG6"
      },
      "source": [
        "**If**\n",
        "A través de él se evalua si una sentencia es verdadera o falsa. De cumplirse la condición se ejecutará el código.\n",
        "**Else** \"si no\" permite relacionar las acciones en caso de que la condición sea falsa.\n",
        "**Elif**\n",
        "\"si no, si\" permite concatenar condiciones."
      ]
    },
    {
      "cell_type": "code",
      "metadata": {
        "colab": {
          "base_uri": "https://localhost:8080/"
        },
        "id": "89z089o31j3m",
        "outputId": "6554afb3-28d6-4c00-c452-d7508f4ca9cc"
      },
      "source": [
        "num=int(input(\"Escriba un número cualquiera: \"))\n",
        "if num ==200:\n",
        "  print(\"Su número es 200\")\n",
        "elif num < 150 and num > 100:\n",
        "  print(\"Su número esta entre el 100 y el 150\")\n",
        "else:\n",
        "  print(\"Su número no es 200, es\",num)"
      ],
      "execution_count": 8,
      "outputs": [
        {
          "output_type": "stream",
          "text": [
            "Escriba un número cualquiera: 120\n",
            "Su número esta entre el 100 y el 150\n"
          ],
          "name": "stdout"
        }
      ]
    },
    {
      "cell_type": "markdown",
      "metadata": {
        "id": "h5vJadyvHiqp"
      },
      "source": [
        "**Condicionales múltiples**\n",
        "Cuando se presentan situaciones con más de una condición que dependen unas de otras, estas se pueden tratar mediante el manejo de varias sentencias o comandos.\n"
      ]
    },
    {
      "cell_type": "code",
      "metadata": {
        "colab": {
          "base_uri": "https://localhost:8080/"
        },
        "id": "oVOXnpAeIAoX",
        "outputId": "7a185bab-5fd0-4874-a0ab-e9264f2d92c9"
      },
      "source": [
        "x=8\n",
        "if 0<x:\n",
        "  if x<10:\n",
        "    print(x,\"es un número positivo\")\n",
        "y=9\n",
        "if 0<y and y<10:\n",
        "  print(y,\"es un número de un solo digito\")\n",
        "z=6\n",
        "if 0<z<10:\n",
        "  print(z,\"es un número de un solo digito\")"
      ],
      "execution_count": 12,
      "outputs": [
        {
          "output_type": "stream",
          "text": [
            "8 es un número positivo\n",
            "9 es un número de un solo digito\n",
            "6 es un número de un solo digito\n"
          ],
          "name": "stdout"
        }
      ]
    },
    {
      "cell_type": "markdown",
      "metadata": {
        "id": "SM7s5pv0ND_y"
      },
      "source": [
        "**Estructuras de control iterativas**\n",
        "Las variables son claves en las estructuras de control iterativas, puesto que, son el medio entre la iteración y condición que se está ejecutando. \n",
        "\n",
        "\n",
        "*   Banderas: variables que toman un valor preferiblemente binario, booleano e indican un estado. \n",
        "\n"
      ]
    },
    {
      "cell_type": "code",
      "metadata": {
        "colab": {
          "base_uri": "https://localhost:8080/"
        },
        "id": "PEuK15duN0Hf",
        "outputId": "5d68d1d0-0b27-40de-ee95-94ddef336016"
      },
      "source": [
        "suma=False\n",
        "total=0\n",
        "a=3;b=10\n",
        "\n",
        "if (suma==False):\n",
        "  total=a+b\n",
        "  suma=True\n",
        "  \n",
        "if (suma==True):\n",
        "  print(\"Suma es verdadera, y su valor es\", total)"
      ],
      "execution_count": 14,
      "outputs": [
        {
          "output_type": "stream",
          "text": [
            "Suma es verdadera, y su valor es 13\n"
          ],
          "name": "stdout"
        }
      ]
    },
    {
      "cell_type": "code",
      "metadata": {
        "colab": {
          "base_uri": "https://localhost:8080/"
        },
        "id": "SUBlOohKRVVm",
        "outputId": "d2fa31d8-9895-4aa1-e7ae-6b55ec5dc3d4"
      },
      "source": [
        "contagio_v=\"No\"\n",
        "paciente=\"Alexandra\"\n",
        "\n",
        "if contagio_v==\"No\":\n",
        "  print(\"La paciente\",paciente,\"no se ha realizado la prueba.\")\n",
        "  contagio_v=\"pendiente\"\n",
        "if contagio_v == \"pendiente\":\n",
        "  print(paciente, \"revise sus resultados, por favor.\")\n",
        "  contagio_v=\"Si\"\n",
        "if contagio_v == \"Si\":\n",
        "  print(paciente, \"debe aislarse, por favor.\")"
      ],
      "execution_count": 21,
      "outputs": [
        {
          "output_type": "stream",
          "text": [
            "La paciente Alexandra no se ha realizado la prueba.\n",
            "Alexandra revise sus resultados, por favor.\n",
            "Alexandra debe aislarse, por favor.\n"
          ],
          "name": "stdout"
        }
      ]
    },
    {
      "cell_type": "code",
      "metadata": {
        "colab": {
          "base_uri": "https://localhost:8080/"
        },
        "id": "V-JX7Qa6SyNc",
        "outputId": "df131f77-cf1c-4354-9f1e-8af67307617c"
      },
      "source": [
        "contagio_v=input(\"Digite el estado del paciente: \")\n",
        "paciente=\"Alexandra\"\n",
        "\n",
        "if contagio_v==\"No\":\n",
        "  print(\"La paciente\",paciente,\"no se ha realizado la prueba.\")\n",
        "if contagio_v == \"pendiente\":\n",
        "  print(paciente, \"revise sus resultados, por favor.\")\n",
        "if contagio_v == \"Si\":\n",
        "  print(paciente, \"debe aislarse, por favor.\")"
      ],
      "execution_count": 23,
      "outputs": [
        {
          "output_type": "stream",
          "text": [
            "Digite el estado del paciente: pendiente\n",
            "Alexandra revise sus resultados, por favor.\n"
          ],
          "name": "stdout"
        }
      ]
    },
    {
      "cell_type": "markdown",
      "metadata": {
        "id": "k7A2vX91T96S"
      },
      "source": [
        "El bootcamp comenzó el 26 de julio de 2021, se les explico a las estudiantes qe se les evaluaria de la siguiente forma\n",
        "\n",
        "\n",
        "*   Elemento de lista\n",
        "*   Elemento de lista\n",
        "\n",
        "\n",
        "Tareas=10% \n",
        "Talleres=25%\n",
        "Asistencia=5%\n",
        "Participación=15%\n",
        "Proyecto=45%\n",
        "¿Cuánto debería sacar en el proyecto para tener una nota definitiva de 3.7 en el total del curso?"
      ]
    },
    {
      "cell_type": "code",
      "metadata": {
        "id": "n6xK7tsnTnDM"
      },
      "source": [
        "tareas=4.5*0.10; talleres=4-0*0.25;asistencia=5.0*0.5;participacion=4.0*0.15; proyecto=3.0*0.45\n",
        "if "
      ],
      "execution_count": null,
      "outputs": []
    }
  ]
}