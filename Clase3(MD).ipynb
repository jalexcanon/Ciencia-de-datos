{
  "nbformat": 4,
  "nbformat_minor": 0,
  "metadata": {
    "colab": {
      "name": "Clase3(MD).ipynb",
      "provenance": [],
      "authorship_tag": "ABX9TyMQKv80fVuHcb8sVrju7xdN",
      "include_colab_link": true
    },
    "kernelspec": {
      "name": "python3",
      "display_name": "Python 3"
    },
    "language_info": {
      "name": "python"
    }
  },
  "cells": [
    {
      "cell_type": "markdown",
      "metadata": {
        "id": "view-in-github",
        "colab_type": "text"
      },
      "source": [
        "<a href=\"https://colab.research.google.com/github/jalexcanon/MujeresDigitales/blob/master/Clase3(MD).ipynb\" target=\"_parent\"><img src=\"https://colab.research.google.com/assets/colab-badge.svg\" alt=\"Open In Colab\"/></a>"
      ]
    },
    {
      "cell_type": "markdown",
      "metadata": {
        "id": "55LKMLho4oXp"
      },
      "source": [
        "# **Condicionales**\n",
        "1.   Se generan dos resultados: verdadero, falso. \n",
        "2.   En condiciones múltiples, podemos enlazar los operadores lógicos. \n",
        "\n"
      ]
    },
    {
      "cell_type": "markdown",
      "metadata": {
        "id": "xNpkSzZ9BTG6"
      },
      "source": [
        "**If**\n",
        "A través de él se evalua si una sentencia es verdadera o falsa. De cumplirse la condición se ejecutará el código.\n",
        "**Else** \"si no\" permite relacionar las acciones en caso de que la condición sea falsa.\n",
        "**Elif**\n",
        "\"si no, si\" permite concatenar condiciones.\n",
        "\n",
        "\n",
        "---\n",
        "Nota: Todo lo que ingrese por el input se toma como una cadena, por eso es necesario realizar una transformación.\n"
      ]
    },
    {
      "cell_type": "code",
      "metadata": {
        "colab": {
          "base_uri": "https://localhost:8080/"
        },
        "id": "89z089o31j3m",
        "outputId": "6554afb3-28d6-4c00-c452-d7508f4ca9cc"
      },
      "source": [
        "num=int(input(\"Escriba un número cualquiera: \"))\n",
        "if num ==200:\n",
        "  print(\"Su número es 200\")\n",
        "elif num < 150 and num > 100:\n",
        "  print(\"Su número esta entre el 100 y el 150\")\n",
        "else:\n",
        "  print(\"Su número no es 200, es\",num)"
      ],
      "execution_count": null,
      "outputs": [
        {
          "output_type": "stream",
          "text": [
            "Escriba un número cualquiera: 120\n",
            "Su número esta entre el 100 y el 150\n"
          ],
          "name": "stdout"
        }
      ]
    },
    {
      "cell_type": "markdown",
      "metadata": {
        "id": "h5vJadyvHiqp"
      },
      "source": [
        "**Condicionales múltiples**\n",
        "Cuando se presentan situaciones con más de una condición que dependen unas de otras, estas se pueden tratar mediante el manejo de varias sentencias o comandos.\n"
      ]
    },
    {
      "cell_type": "code",
      "metadata": {
        "colab": {
          "base_uri": "https://localhost:8080/"
        },
        "id": "oVOXnpAeIAoX",
        "outputId": "7a185bab-5fd0-4874-a0ab-e9264f2d92c9"
      },
      "source": [
        "x=8\n",
        "if 0<x:\n",
        "  if x<10:\n",
        "    print(x,\"es un número positivo\")\n",
        "y=9\n",
        "if 0<y and y<10:\n",
        "  print(y,\"es un número de un solo digito\")\n",
        "z=6\n",
        "if 0<z<10:\n",
        "  print(z,\"es un número de un solo digito\")"
      ],
      "execution_count": null,
      "outputs": [
        {
          "output_type": "stream",
          "text": [
            "8 es un número positivo\n",
            "9 es un número de un solo digito\n",
            "6 es un número de un solo digito\n"
          ],
          "name": "stdout"
        }
      ]
    },
    {
      "cell_type": "markdown",
      "metadata": {
        "id": "SM7s5pv0ND_y"
      },
      "source": [
        "**Estructuras de control iterativas**\n",
        "Las variables son claves en las estructuras de control iterativas, puesto que, son el medio entre la iteración y condición que se está ejecutando. \n",
        "\n",
        "\n",
        "*   Banderas: variables que toman un valor preferiblemente binario, booleano e indican un estado. (En el siguiente ejemplo tiene la función de indicar cuando se ejecuta la suma)\n",
        "\n"
      ]
    },
    {
      "cell_type": "code",
      "metadata": {
        "colab": {
          "base_uri": "https://localhost:8080/"
        },
        "id": "PEuK15duN0Hf",
        "outputId": "5d68d1d0-0b27-40de-ee95-94ddef336016"
      },
      "source": [
        "suma=False\n",
        "total=0\n",
        "a=3;b=10\n",
        "\n",
        "if (suma==False):\n",
        "  total=a+b\n",
        "  suma=True\n",
        "  \n",
        "if (suma==True):\n",
        "  print(\"Suma es verdadera, y su valor es\", total)"
      ],
      "execution_count": null,
      "outputs": [
        {
          "output_type": "stream",
          "text": [
            "Suma es verdadera, y su valor es 13\n"
          ],
          "name": "stdout"
        }
      ]
    },
    {
      "cell_type": "code",
      "metadata": {
        "colab": {
          "base_uri": "https://localhost:8080/"
        },
        "id": "SUBlOohKRVVm",
        "outputId": "d2fa31d8-9895-4aa1-e7ae-6b55ec5dc3d4"
      },
      "source": [
        "contagio_v=\"No\"\n",
        "paciente=\"Alexandra\"\n",
        "\n",
        "if contagio_v==\"No\":\n",
        "  print(\"La paciente\",paciente,\"no se ha realizado la prueba.\")\n",
        "  contagio_v=\"pendiente\"\n",
        "if contagio_v == \"pendiente\":\n",
        "  print(paciente, \"revise sus resultados, por favor.\")\n",
        "  contagio_v=\"Si\"\n",
        "if contagio_v == \"Si\":\n",
        "  print(paciente, \"debe aislarse, por favor.\")"
      ],
      "execution_count": null,
      "outputs": [
        {
          "output_type": "stream",
          "text": [
            "La paciente Alexandra no se ha realizado la prueba.\n",
            "Alexandra revise sus resultados, por favor.\n",
            "Alexandra debe aislarse, por favor.\n"
          ],
          "name": "stdout"
        }
      ]
    },
    {
      "cell_type": "code",
      "metadata": {
        "colab": {
          "base_uri": "https://localhost:8080/"
        },
        "id": "V-JX7Qa6SyNc",
        "outputId": "df131f77-cf1c-4354-9f1e-8af67307617c"
      },
      "source": [
        "contagio_v=input(\"Digite el estado del paciente: \")\n",
        "paciente=\"Alexandra\"\n",
        "\n",
        "if contagio_v==\"No\":\n",
        "  print(\"La paciente\",paciente,\"no se ha realizado la prueba.\")\n",
        "if contagio_v == \"pendiente\":\n",
        "  print(paciente, \"revise sus resultados, por favor.\")\n",
        "if contagio_v == \"Si\":\n",
        "  print(paciente, \"debe aislarse, por favor.\")"
      ],
      "execution_count": null,
      "outputs": [
        {
          "output_type": "stream",
          "text": [
            "Digite el estado del paciente: pendiente\n",
            "Alexandra revise sus resultados, por favor.\n"
          ],
          "name": "stdout"
        }
      ]
    },
    {
      "cell_type": "markdown",
      "metadata": {
        "id": "MvaIINbTVTDo"
      },
      "source": [
        "#**Ejercicios - Tarea**\n",
        "\n",
        "---\n",
        "\n"
      ]
    },
    {
      "cell_type": "markdown",
      "metadata": {
        "id": "k7A2vX91T96S"
      },
      "source": [
        "El bootcamp comenzó el 26 de julio de 2021, se les explico a las estudiantes que se les evaluaria de la siguiente forma:\n",
        "\n",
        "\n",
        "*   Tareas=10%\n",
        "*   Talleres=25%\n",
        "*   Asistencias=5%\n",
        "*   Participación=15%\n",
        "*   Proyecto=45%\n",
        "\n",
        "Notas:\n",
        "\n",
        "*   Tareas = 4.5\n",
        "*   Talleres = 4.0\n",
        "*   Asistencia = 5.0\n",
        "*   Participación = 4.0 \n",
        "\n",
        "\n",
        "\n",
        "¿Cuánto debería sacar en el proyecto para tener una nota definitiva de 3.7 en el total del curso?"
      ]
    },
    {
      "cell_type": "code",
      "metadata": {
        "id": "n6xK7tsnTnDM",
        "colab": {
          "base_uri": "https://localhost:8080/"
        },
        "outputId": "fa2e2b85-cd9c-42a4-8538-f3cd841e1462"
      },
      "source": [
        "tareas=4.5*0.10; talleres=4.0*0.25; asistencia=5.0*0.05; participacion=4.0*0.15\n",
        "nota_deseada=3.7\n",
        "x=tareas+talleres+asistencia+participacion\n",
        "x=(nota_deseada-cincuentacinto_porciento)*100/45\n",
        "print(\"La nota que deberá usted obtener, como mínimo es:\", x)"
      ],
      "execution_count": null,
      "outputs": [
        {
          "output_type": "stream",
          "text": [
            "La nota que deberá usted obtener, como mínimo es: 3.1111111111111116\n"
          ],
          "name": "stdout"
        }
      ]
    },
    {
      "cell_type": "code",
      "metadata": {
        "colab": {
          "base_uri": "https://localhost:8080/"
        },
        "id": "rtIgEvD7dhMb",
        "outputId": "3be47ef0-da4f-436f-bcfa-398734b85f70"
      },
      "source": [
        "#Comprobación ejercicio 1\n",
        "tareas=4.5*0.10; talleres=4.0*0.25; asistencia=5.0*0.05\n",
        "participacion=4.0*0.15; proyecto=3.2*0.45\n",
        "notas=tareas+talleres+asistencia+participacion+proyecto*100/100\n",
        "print(notas)"
      ],
      "execution_count": null,
      "outputs": [
        {
          "output_type": "stream",
          "text": [
            "3.74\n"
          ],
          "name": "stdout"
        }
      ]
    },
    {
      "cell_type": "code",
      "metadata": {
        "colab": {
          "base_uri": "https://localhost:8080/"
        },
        "id": "uE5YnxtpEIjN",
        "outputId": "502c7f44-89c9-4462-ef47-f2475914d36e"
      },
      "source": [
        "participante=input(\"Digite el nombre del participante: \")\n",
        "balota=input(\"Digite el color de la balota, por favor: \")\n",
        "if balota == \"Rosado\" or balota == \"rosado\":\n",
        "  print(\"\\nLa empresa VIVAFLY se complace en anunciar que la/el participante\", participante, \"ganó un viaje todo incluído para dos personas a San Andrés en nuestro sorteo de viajes de AMOR y AMISTAD\")\n",
        "  bono = 1000000*0.15\n",
        "  if (bono>120000):\n",
        "    print(\"Además usted ha ganado un bono por el valor de\", bono, \"pesos\")\n",
        "  else:\n",
        "    print(\"Además usted ha ganado dos boletas de cine 4D para la película en estreno del mes incluyendo un solo combo de palomitas\")\n",
        "elif balota == \"Verde\" or balota == \"verde\":\n",
        "  print(\"\\nLa empresa VIVAFLY se complace en anunciar que la/el participante\", participante, \"ganó un pasadía a los termales de San Vicente incluyendo almuerzo en nuestro sorteo de viajes de AMOR y AMISTAD\")\n",
        "  bono = 1000000*0.20\n",
        "  if (bono>120000):\n",
        "    print(\"Además usted ha ganado un bono por el valor de\", bono, \"pesos\")\n",
        "  else:\n",
        "    print(\"Además usted ha ganado dos boletas de cine 4D para la película en estreno del mes incluyendo un solo combo de palomitas\")\n",
        "elif balota == \"Azul\" or balota == \"azul\":\n",
        "  print(\"\\nLa empresa VIVAFLY se complace en anunciar que la/el participante\", participante, \"ganó un viaje todo incluido para dos personas a Santa Marta en nuestro sorteo de viajes de AMOR y AMISTAD\")\n",
        "  bono = 1000000*0.05\n",
        "  if (bono>120000):\n",
        "    print(\"Además usted ha ganado un bono por el valor de\", bono, \"pesos\")\n",
        "  else:\n",
        "    print(\"Además usted ha ganado dos boletas de cine 4D para la película en estreno del mes incluyendo un solo combo de palomitas\")\n",
        "elif balota == \"Gris\" or balota == \"gris\":\n",
        "  print(\"\\nLa empresa VIVAFLY se complace en anunciar que la/el participante\", participante, \"ganó un pasadía al desierto de Tatacoa (Sin incluír alimentación) en nuestro sorteo de viajes AMOR y AMISTAD\")\n",
        "  bono = 1000000*0.20\n",
        "  if (bono>120000):\n",
        "    print(\"Además usted ha ganado un bono por el valor de\", bono, \"pesos\")\n",
        "  else:\n",
        "    print(\"Además usted ha ganado dos boletas de cine 4D para la película en estreno del mes incluyendo un solo combo de palomitas\")\n",
        "elif balota == \"Roja\" or balota == \"roja\":\n",
        "  bono=120000\n",
        "  print(\"\\nLa empresa VIVAFLY lamenta informarle que usted no ha ganado un viaje, sin embargo, ha obtenido un bono por el valor de\",bono,\"pesos\")\n",
        "else:\n",
        "  print(\"La opción no es valida\")"
      ],
      "execution_count": 41,
      "outputs": [
        {
          "output_type": "stream",
          "text": [
            "Digite el nombre del participante: Alexa\n",
            "Digite el color de la balota, por favor: rosado\n",
            "\n",
            "La empresa VIVAFLY se complace en anunciar que la/el participante Alexa ganó un viaje todo incluído para dos personas a San Andrés en nuestro sorteo de viajes de AMOR y AMISTAD\n",
            "Además usted ha ganado un bono por el valor de 150000.0 pesos\n"
          ],
          "name": "stdout"
        }
      ]
    }
  ]
}