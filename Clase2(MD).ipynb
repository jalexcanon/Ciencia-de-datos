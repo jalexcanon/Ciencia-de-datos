{
  "nbformat": 4,
  "nbformat_minor": 0,
  "metadata": {
    "colab": {
      "name": "Clase2(MD).ipynb",
      "provenance": [],
      "collapsed_sections": [],
      "authorship_tag": "ABX9TyPkosyYqniYS7jrTIc0U3gN",
      "include_colab_link": true
    },
    "kernelspec": {
      "name": "python3",
      "display_name": "Python 3"
    },
    "language_info": {
      "name": "python"
    }
  },
  "cells": [
    {
      "cell_type": "markdown",
      "metadata": {
        "id": "view-in-github",
        "colab_type": "text"
      },
      "source": [
        "<a href=\"https://colab.research.google.com/github/jalexcanon/MujeresDigitales/blob/master/Clase2(MD).ipynb\" target=\"_parent\"><img src=\"https://colab.research.google.com/assets/colab-badge.svg\" alt=\"Open In Colab\"/></a>"
      ]
    },
    {
      "cell_type": "markdown",
      "metadata": {
        "id": "jquq1j0pu5B7"
      },
      "source": [
        "## **OPERADORES ARITMÉTICOS**"
      ]
    },
    {
      "cell_type": "markdown",
      "metadata": {
        "id": "sHWMGuEEvgyE"
      },
      "source": [
        "básicos: + - * /"
      ]
    },
    {
      "cell_type": "markdown",
      "metadata": {
        "id": "gBbFDkq7zhLA"
      },
      "source": [
        "La resta no funciona directamente entre variables tipo cadena. \n",
        "\n",
        "---\n",
        "\n"
      ]
    },
    {
      "cell_type": "code",
      "metadata": {
        "colab": {
          "base_uri": "https://localhost:8080/"
        },
        "id": "F79VQIBKsz4a",
        "outputId": "1def2fdb-f0aa-454f-cd6d-2855cca82843"
      },
      "source": [
        "#Suma\n",
        "print(\"Su resultado es:\",10+8)\n",
        "a=20;b=4;c=7\n",
        "print(\"Su resultado es:\",a+b+c)"
      ],
      "execution_count": null,
      "outputs": [
        {
          "output_type": "stream",
          "text": [
            "Su resultado es: 18\n",
            "Su resultado es: 31\n"
          ],
          "name": "stdout"
        }
      ]
    },
    {
      "cell_type": "code",
      "metadata": {
        "colab": {
          "base_uri": "https://localhost:8080/"
        },
        "id": "nWpHGqiNu5r5",
        "outputId": "249f628e-76c7-4fe3-df64-a0a9ca201b58"
      },
      "source": [
        "#Resta\n",
        "print(\"Su resultado es:\",10-8)\n",
        "a=20;b=4;c=7\n",
        "print(\"Su resultado es:\",a-b-c)"
      ],
      "execution_count": null,
      "outputs": [
        {
          "output_type": "stream",
          "text": [
            "Su resultado es: 2\n",
            "Su resultado es: 9\n"
          ],
          "name": "stdout"
        }
      ]
    },
    {
      "cell_type": "markdown",
      "metadata": {
        "id": "A7O6FLjQu5-V"
      },
      "source": [
        "Suma **->** conteos continuos"
      ]
    },
    {
      "cell_type": "code",
      "metadata": {
        "colab": {
          "base_uri": "https://localhost:8080/"
        },
        "id": "EK9Hp2sAwnc7",
        "outputId": "b6c5a1fc-5e80-44bd-c095-847394e97347"
      },
      "source": [
        "numero_botellas=12\n",
        "print(numero_botellas + 8, end=\",\")\n",
        "numero_botellas=numero_botellas+8\n",
        "print(numero_botellas)"
      ],
      "execution_count": null,
      "outputs": [
        {
          "output_type": "stream",
          "text": [
            "20,20\n"
          ],
          "name": "stdout"
        }
      ]
    },
    {
      "cell_type": "markdown",
      "metadata": {
        "id": "U8VXTnOhxVQw"
      },
      "source": [
        "Sumas entre dos diferentes tipos de variables\n",
        "*   Int, float, string\n",
        "*  **type** para saber el tipo de variable que se esta generando. "
      ]
    },
    {
      "cell_type": "code",
      "metadata": {
        "colab": {
          "base_uri": "https://localhost:8080/"
        },
        "id": "fDtuI8tixX81",
        "outputId": "7182391f-540f-458c-b481-83dd5141a3eb"
      },
      "source": [
        "q1=100\n",
        "q2=24.5\n",
        "print(q1+q2)"
      ],
      "execution_count": null,
      "outputs": [
        {
          "output_type": "stream",
          "text": [
            "124.5\n"
          ],
          "name": "stdout"
        }
      ]
    },
    {
      "cell_type": "code",
      "metadata": {
        "colab": {
          "base_uri": "https://localhost:8080/"
        },
        "id": "EdZTU9mIyMAr",
        "outputId": "8fb21902-4564-4dc8-c00d-ef48c143f68b"
      },
      "source": [
        "v1=\"Quiero\"\n",
        "v2=\"un celular\"\n",
        "print(v1,v2)"
      ],
      "execution_count": null,
      "outputs": [
        {
          "output_type": "stream",
          "text": [
            "Quiero un celular\n"
          ],
          "name": "stdout"
        }
      ]
    },
    {
      "cell_type": "code",
      "metadata": {
        "colab": {
          "base_uri": "https://localhost:8080/"
        },
        "id": "oOZ3nbH8ykeM",
        "outputId": "30cb86d6-4007-4821-e223-1e758c604e2d"
      },
      "source": [
        "xq2=234\n",
        "xq3=440\n",
        "print(xq2-xq3)\n",
        "\n",
        "xq2=24.66\n",
        "xq3=4\n",
        "print(type(xq2-xq3))"
      ],
      "execution_count": null,
      "outputs": [
        {
          "output_type": "stream",
          "text": [
            "-206\n",
            "<class 'float'>\n"
          ],
          "name": "stdout"
        }
      ]
    },
    {
      "cell_type": "markdown",
      "metadata": {
        "id": "EkdSaV4M1W7B"
      },
      "source": [
        "**Multiplicación**"
      ]
    },
    {
      "cell_type": "code",
      "metadata": {
        "colab": {
          "base_uri": "https://localhost:8080/"
        },
        "id": "LLPl96i6zJPG",
        "outputId": "f9ccba81-d7e6-4a63-a4de-ac101173de7a"
      },
      "source": [
        "cali=5\n",
        "palmira=5\n",
        "print(cali*palmira)"
      ],
      "execution_count": null,
      "outputs": [
        {
          "output_type": "stream",
          "text": [
            "25\n"
          ],
          "name": "stdout"
        }
      ]
    },
    {
      "cell_type": "markdown",
      "metadata": {
        "id": "fGJd_kSq1rOx"
      },
      "source": [
        "**División**"
      ]
    },
    {
      "cell_type": "code",
      "metadata": {
        "colab": {
          "base_uri": "https://localhost:8080/"
        },
        "id": "pmBO4BuB1t50",
        "outputId": "6cb5c835-db52-4583-9df8-c1b0c6054329"
      },
      "source": [
        "cali=5\n",
        "palmira=5\n",
        "print(cali/palmira)"
      ],
      "execution_count": null,
      "outputs": [
        {
          "output_type": "stream",
          "text": [
            "1.0\n"
          ],
          "name": "stdout"
        }
      ]
    },
    {
      "cell_type": "markdown",
      "metadata": {
        "id": "7cPBzXhi3Aef"
      },
      "source": [
        "Tipos de división\n",
        "\n",
        "*   División entero: exacta (/)\n",
        "*   División modulo: inexacta (//)\n",
        "\n"
      ]
    },
    {
      "cell_type": "code",
      "metadata": {
        "colab": {
          "base_uri": "https://localhost:8080/"
        },
        "id": "gVA_yokm2Xhj",
        "outputId": "ef50f987-ea7a-4491-93ca-2f66b6ff96ec"
      },
      "source": [
        "print(15/3, end=\", \")\n",
        "print(15//3, end=\", \")\n",
        "print(15/2, end=\", \")\n",
        "print(15//2, end=\", \")\n",
        "print(15%2,\",\",15%3)"
      ],
      "execution_count": null,
      "outputs": [
        {
          "output_type": "stream",
          "text": [
            "5.0, 5, 7.5, 7, 1 , 0\n"
          ],
          "name": "stdout"
        }
      ]
    },
    {
      "cell_type": "markdown",
      "metadata": {
        "id": "maWsU6Vj4Qop"
      },
      "source": [
        "**Potencia** (Doble asterisco)"
      ]
    },
    {
      "cell_type": "code",
      "metadata": {
        "colab": {
          "base_uri": "https://localhost:8080/"
        },
        "id": "HeBwdcDF4n6d",
        "outputId": "37a37814-22a8-4805-f0c8-4f132c3eea5e"
      },
      "source": [
        "print(3**3) #Primer valor es la base, el segundo es el exponente"
      ],
      "execution_count": null,
      "outputs": [
        {
          "output_type": "stream",
          "text": [
            "27\n"
          ],
          "name": "stdout"
        }
      ]
    },
    {
      "cell_type": "markdown",
      "metadata": {
        "id": "5HbqyIWC8Td1"
      },
      "source": [
        "**Operadores de comparación**\n",
        "\n",
        "Sirven para comparar varios valores.\n",
        "\n",
        "\n",
        "*   == Igualdad\n",
        "*   != Diferencia\n",
        "*   \">\" Mayor que\n",
        "*   \"<\" Menor que\n",
        "*   \">=\" Mayor que\n",
        "*   \"<=\" Menor que\n",
        "\n",
        "\n",
        "\n",
        "\n",
        "\n"
      ]
    },
    {
      "cell_type": "code",
      "metadata": {
        "colab": {
          "base_uri": "https://localhost:8080/"
        },
        "id": "3ebJ8JqO8ncQ",
        "outputId": "3579dd12-e90e-4efc-efd5-b511aed84de5"
      },
      "source": [
        "#Igualdad\n",
        "x=9;j=8\n",
        "print(x==j)\n",
        "#Diferencia\n",
        "x=9;j=8\n",
        "print(x!=j)\n",
        "#Mayor que\n",
        "z=9;y=8\n",
        "print(z>y)\n",
        "#Menor que\n",
        "z=6;y=4\n",
        "print(z<y)\n",
        "#Mayor o igual que \n",
        "z=6;y=6\n",
        "print(z>=y)\n",
        "#Menor o igual que \n",
        "z=5;y=6\n",
        "print(z<=y)"
      ],
      "execution_count": null,
      "outputs": [
        {
          "output_type": "stream",
          "text": [
            "False\n",
            "True\n",
            "True\n",
            "False\n",
            "True\n",
            "True\n"
          ],
          "name": "stdout"
        }
      ]
    },
    {
      "cell_type": "markdown",
      "metadata": {
        "id": "PqWpKWsiCbkQ"
      },
      "source": [
        "## **OPERADORES LÓGICOS**"
      ]
    },
    {
      "cell_type": "markdown",
      "metadata": {
        "id": "b5ktBfSPCoA5"
      },
      "source": [
        "Funcionan solo con variables booleanas, y a su vez, retornan booleanos.\n",
        "1. AND (y)\n",
        "2. OR  (o)\n",
        "3. NOT (No)\n"
      ]
    },
    {
      "cell_type": "code",
      "metadata": {
        "colab": {
          "base_uri": "https://localhost:8080/"
        },
        "id": "Skrk8oZWC_jm",
        "outputId": "4f6dc694-0ab3-46b4-b9b2-fb07c209005e"
      },
      "source": [
        "#And (Si ambos valores son verdaderos retorna verdadero)\n",
        "print(True and False)\n",
        "print(False and True)\n",
        "print(False and False)\n",
        "print(True and True)"
      ],
      "execution_count": null,
      "outputs": [
        {
          "output_type": "stream",
          "text": [
            "False\n",
            "False\n",
            "False\n",
            "True\n"
          ],
          "name": "stdout"
        }
      ]
    },
    {
      "cell_type": "code",
      "metadata": {
        "colab": {
          "base_uri": "https://localhost:8080/"
        },
        "id": "88wU0aSyEF8v",
        "outputId": "3b817d4d-86fe-41ec-ac5f-df7ff3aeb832"
      },
      "source": [
        "#Or (Si alguno de los valores es verdadero retornará True)\n",
        "print(True or False)\n",
        "print(False or True)\n",
        "print(False or False)\n",
        "print(True or True)"
      ],
      "execution_count": null,
      "outputs": [
        {
          "output_type": "stream",
          "text": [
            "True\n",
            "True\n",
            "False\n",
            "True\n"
          ],
          "name": "stdout"
        }
      ]
    },
    {
      "cell_type": "code",
      "metadata": {
        "colab": {
          "base_uri": "https://localhost:8080/"
        },
        "id": "LVOpVN9IFI6-",
        "outputId": "caa6103a-7149-417c-ed01-5611e04940b9"
      },
      "source": [
        "a=3\n",
        "b=2\n",
        "print(a>4 or a==4)\n",
        "print(b==b and a>=b)"
      ],
      "execution_count": null,
      "outputs": [
        {
          "output_type": "stream",
          "text": [
            "False\n",
            "True\n"
          ],
          "name": "stdout"
        }
      ]
    },
    {
      "cell_type": "code",
      "metadata": {
        "colab": {
          "base_uri": "https://localhost:8080/"
        },
        "id": "wnGb-CzEEUko",
        "outputId": "6db0f663-25b4-4b24-86dd-7adf9fd3d1e3"
      },
      "source": [
        "#Not: negación. Por si solo no sirve para hacer ninguna operación, lo único que hace es negar o invertir el valor booleano que viene después de él.\n",
        "print(not True)\n",
        "print(not False)"
      ],
      "execution_count": null,
      "outputs": [
        {
          "output_type": "stream",
          "text": [
            "False\n",
            "True\n"
          ],
          "name": "stdout"
        }
      ]
    },
    {
      "cell_type": "markdown",
      "metadata": {
        "id": "4ZrpYFx_Hjvf"
      },
      "source": [
        "**Precedencia de operadores**\n",
        "\n",
        "\n",
        "1.   De izquierda a derecha\n",
        "2.   Parentesis\n",
        "3.   Potenciación o radicación\n",
        "4.   Multiplicación y división\n",
        "5.   Suma y resta\n",
        "\n"
      ]
    },
    {
      "cell_type": "code",
      "metadata": {
        "colab": {
          "base_uri": "https://localhost:8080/"
        },
        "id": "vflv1tp-Ie1U",
        "outputId": "bfadbdcf-938a-4238-869f-8c1d86121233"
      },
      "source": [
        "c=4; b=2; a=10\n",
        "print(c-b*(a))"
      ],
      "execution_count": null,
      "outputs": [
        {
          "output_type": "stream",
          "text": [
            "-16\n"
          ],
          "name": "stdout"
        }
      ]
    },
    {
      "cell_type": "code",
      "metadata": {
        "colab": {
          "base_uri": "https://localhost:8080/"
        },
        "id": "plEJ_k-OI7Yl",
        "outputId": "121d2f08-7498-4eee-aedc-658678182dac"
      },
      "source": [
        "a=False\n",
        "b=True\n",
        "C=True\n",
        "print(not c and (a or b))"
      ],
      "execution_count": null,
      "outputs": [
        {
          "output_type": "stream",
          "text": [
            "False\n"
          ],
          "name": "stdout"
        }
      ]
    },
    {
      "cell_type": "code",
      "metadata": {
        "colab": {
          "base_uri": "https://localhost:8080/"
        },
        "id": "ITEL6PCQJH9Q",
        "outputId": "2d5a0d08-c9dd-41bb-d8df-ad4f13d2bba1"
      },
      "source": [
        "print(3-2*(13-5))"
      ],
      "execution_count": null,
      "outputs": [
        {
          "output_type": "stream",
          "text": [
            "-13\n"
          ],
          "name": "stdout"
        }
      ]
    }
  ]
}