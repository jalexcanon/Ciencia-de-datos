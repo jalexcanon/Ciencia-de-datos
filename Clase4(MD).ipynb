{
  "nbformat": 4,
  "nbformat_minor": 0,
  "metadata": {
    "colab": {
      "name": "Clase4(MD).ipynb",
      "provenance": [],
      "authorship_tag": "ABX9TyM6Pr6OcgVM8BvT29TeftDW",
      "include_colab_link": true
    },
    "kernelspec": {
      "name": "python3",
      "display_name": "Python 3"
    },
    "language_info": {
      "name": "python"
    }
  },
  "cells": [
    {
      "cell_type": "markdown",
      "metadata": {
        "id": "view-in-github",
        "colab_type": "text"
      },
      "source": [
        "<a href=\"https://colab.research.google.com/github/jalexcanon/MujeresDigitales/blob/master/Clase4(MD).ipynb\" target=\"_parent\"><img src=\"https://colab.research.google.com/assets/colab-badge.svg\" alt=\"Open In Colab\"/></a>"
      ]
    },
    {
      "cell_type": "markdown",
      "metadata": {
        "id": "wZ0eJxJJjV8Y"
      },
      "source": [
        "**Acumuladores**\n",
        "Variables que se encargan de almacenar algún tipo de información. "
      ]
    },
    {
      "cell_type": "code",
      "metadata": {
        "colab": {
          "base_uri": "https://localhost:8080/"
        },
        "id": "OaTUI8wsioic",
        "outputId": "76ada599-0109-4339-9fa1-1740f57698a6"
      },
      "source": [
        "nombre=input(\"Nombre del comprador: \" )\n",
        "listadecompras=\"\"\n",
        "print(nombre,\"escribe los siguientes viveres para su compra en el supermercado\")\n",
        "listadecompras=listadecompras+\"Paca de papel higienico\"\n",
        "listadecompras=listadecompras+\", Frutas\"\n",
        "listadecompras=listadecompras+\", Pollo\"\n",
        "print(listadecompras)"
      ],
      "execution_count": 6,
      "outputs": [
        {
          "output_type": "stream",
          "text": [
            "Nombre del comprador: Alexa\n",
            "Alexa escribe los siguientes viveres para su compra en el supermercado\n",
            "Paca de papel higienico, Frutas, Pollo\n"
          ],
          "name": "stdout"
        }
      ]
    },
    {
      "cell_type": "code",
      "metadata": {
        "colab": {
          "base_uri": "https://localhost:8080/"
        },
        "id": "G1l-wphtl-mC",
        "outputId": "e7cdf25c-f632-4901-868a-fc5c279bef82"
      },
      "source": [
        "pacaspapel=14000\n",
        "cpacasdepapel=2\n",
        "shampoo=4000\n",
        "cshampoo=3\n",
        "panales=17000\n",
        "cpanales=3\n",
        "\n",
        "subtotal=0\n",
        "print(\"Calculando el total de la compra:\")\n",
        "total_papel=pacaspapel*cpacasdepapel\n",
        "print(\"El valor total de papel higienico es:\",total_papel)\n",
        "subtotal+=total_papel\n",
        "print(subtotal)\n",
        "total_shampoo=shampoo*cshampoo\n",
        "print(\"El valor total de shampoo es:\",total_shampoo)\n",
        "subtotal+=total_shampoo\n",
        "print(subtotal)\n",
        "total_panales=panales*cpanales\n",
        "print(\"El valor total de pañales es:\",total_panales)\n",
        "subtotal+=total_panales\n",
        "print(subtotal)"
      ],
      "execution_count": 15,
      "outputs": [
        {
          "output_type": "stream",
          "text": [
            "Calculando el total de la compra:\n",
            "El valor total de papel higienico es: 28000\n",
            "28000\n",
            "El valor total de shampoo es: 12000\n",
            "40000\n",
            "El valor total de pañales es: 51000\n",
            "91000\n"
          ],
          "name": "stdout"
        }
      ]
    },
    {
      "cell_type": "markdown",
      "metadata": {
        "id": "zV-_LztloyK6"
      },
      "source": [
        "**Contadores**\n",
        "Tiene mucha relación con los acumuladores, visto en el apartado anterior. Estas variables se caracterizan por ser variables de control, es decir, controlan la cantidad de veces que se ejecuta determinada acción. "
      ]
    },
    {
      "cell_type": "code",
      "metadata": {
        "colab": {
          "base_uri": "https://localhost:8080/"
        },
        "id": "ToGA_v0Fm9Yo",
        "outputId": "6d33442b-4085-477d-87a3-ef88287bc1d3"
      },
      "source": [
        "contador=0\n",
        "print(contador)\n",
        "contador+=1\n",
        "print(\"Ahora hay\",contador, \"carro\")\n",
        "contador+=1\n",
        "print(\"Ahora hay\",contador, \"carros\")\n",
        "contador+=1\n",
        "print(\"Ahora hay\",contador, \"carros\")\n",
        "contador+=1\n",
        "print(\"Ahora hay\",contador, \"carros\")\n",
        "contador+=1\n",
        "print(\"Ahora hay\",contador, \"carros\")\n",
        "contador+=1\n",
        "print(\"Ahora hay\",contador, \"carros\")\n",
        "contador+=1\n",
        "print(\"Ahora hay\",contador, \"carros\")"
      ],
      "execution_count": 19,
      "outputs": [
        {
          "output_type": "stream",
          "text": [
            "0\n",
            "Ahora hay 1 carro\n",
            "Ahora hay 2 carros\n",
            "Ahora hay 3 carros\n",
            "Ahora hay 4 carros\n",
            "Ahora hay 5 carros\n",
            "Ahora hay 6 carros\n",
            "Ahora hay 7 carros\n"
          ],
          "name": "stdout"
        }
      ]
    },
    {
      "cell_type": "markdown",
      "metadata": {
        "id": "pA3zs41pq6_b"
      },
      "source": [
        "# **Ciclos contrados por condición**\n",
        "\n",
        "**While -mientras-**\n",
        "Recordemos que las variables de control, nos permiten manejar estados, pasar de un estado a otro. Por ejemplo, una variable que no contiene elementos a contenerlos, o una variable con un elemento en particular (Acumulador-contador) y cambiarlo por completo. (Bandera)\n",
        "\n",
        "Estas variables de control son la base de los ciclos de control.Siendo más claros, pasar de una adición manual a algo más automatizado. \n",
        "\n",
        "El ciclo while se compone de una condición y su bloque de código. Lo que nos quiere decir el while es que el bloque de código se ejecutará mientras la condición da como resultado True or False."
      ]
    },
    {
      "cell_type": "code",
      "metadata": {
        "colab": {
          "base_uri": "https://localhost:8080/"
        },
        "id": "qvuBQbrqrtkY",
        "outputId": "1462259b-8729-4ef4-c3fe-65cab38e4fb5"
      },
      "source": [
        "lapiz=5\n",
        "contlapiz=0\n",
        "print(\"Se ha iniciado la compra, en total hay:\",contlapiz, lapiz)\n",
        "while (contlapiz<lapiz):\n",
        "  contlapiz+=1\n",
        "  print(\"Se ha realizado la compra de lapices, ahora hay\", contlapiz)"
      ],
      "execution_count": 22,
      "outputs": [
        {
          "output_type": "stream",
          "text": [
            "Se ha iniciado la compra, en total hay: 0 5\n",
            "Se ha realizado la compra de lapices, ahora hay 1\n",
            "Se ha realizado la compra de lapices, ahora hay 2\n",
            "Se ha realizado la compra de lapices, ahora hay 3\n",
            "Se ha realizado la compra de lapices, ahora hay 4\n",
            "Se ha realizado la compra de lapices, ahora hay 5\n"
          ],
          "name": "stdout"
        }
      ]
    },
    {
      "cell_type": "markdown",
      "metadata": {
        "id": "nKN-yK-NvmCT"
      },
      "source": [
        "Tener en cuenta que dentro del ciclo While se va afectando las variables implicadas en la declaración de la condición que se debe cumplir el ciclo. En el ejemplo anterior la variable contlapiz para que en algún momento la condición sea verdadera y termine el ciclo que se tiene que cumplir la condición (contlapiz<lapiz). De lo contrario, tendríamos un ciclo que nunca se detendría, lo cual decantaría en un ciclo interminable. "
      ]
    },
    {
      "cell_type": "markdown",
      "metadata": {
        "id": "FkcVjt0c2SkK"
      },
      "source": [
        "**Ciclo For**\n",
        "Es un ciclo especializado y optimizado para ciclos controlados por cantidad. Se compone de tres elementos:\n",
        "\n",
        "\n",
        "1.   La variable de iteración\n",
        "2.   Elemento de iteración\n",
        "3.   Bloque de código a iterar\n",
        "\n",
        "**Ventajas de usar el FOR**\n",
        "En Python es muy importante y se considera una herramienta bastante flexible y poderosa, por permitir ingresar estructuras de datos complejas, cadenas de caracteres, rangos, entre otros. \n",
        "A diferencia del While se requiere que tenga una cantidad definida, pues este no parte de una condición de verdad. "
      ]
    },
    {
      "cell_type": "code",
      "metadata": {
        "colab": {
          "base_uri": "https://localhost:8080/"
        },
        "id": "lkQaaTEa3MfD",
        "outputId": "ef7ca27a-8059-4a02-d86c-59f5a548f13f"
      },
      "source": [
        "print(\"Se ha iniciado la compra. En total hay 0 lapices\")\n",
        "for i in range(1,6): #Se maneja un intervalo abierto a la derecha y cerrado a la izquierda\n",
        "  print(\"Se ha realizado la compra de lapices. Ahora hay\",i,\"lapices\")"
      ],
      "execution_count": 23,
      "outputs": [
        {
          "output_type": "stream",
          "text": [
            "Se ha iniciado la compra. En total hay 0 lapices\n",
            "Se ha realizado la compra de lapices. Ahora hay 1 lapices\n",
            "Se ha realizado la compra de lapices. Ahora hay 2 lapices\n",
            "Se ha realizado la compra de lapices. Ahora hay 3 lapices\n",
            "Se ha realizado la compra de lapices. Ahora hay 4 lapices\n",
            "Se ha realizado la compra de lapices. Ahora hay 5 lapices\n"
          ],
          "name": "stdout"
        }
      ]
    },
    {
      "cell_type": "code",
      "metadata": {
        "id": "Ke4ZQ9wJrfas"
      },
      "source": [
        ""
      ],
      "execution_count": null,
      "outputs": []
    }
  ]
}