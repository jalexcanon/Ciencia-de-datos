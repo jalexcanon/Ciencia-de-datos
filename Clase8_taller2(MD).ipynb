{
  "nbformat": 4,
  "nbformat_minor": 0,
  "metadata": {
    "colab": {
      "name": "Clase8-taller2(MD).ipynb",
      "provenance": [],
      "collapsed_sections": [],
      "authorship_tag": "ABX9TyPqtZdHq8XR7F5HD50O/m6R",
      "include_colab_link": true
    },
    "kernelspec": {
      "name": "python3",
      "display_name": "Python 3"
    },
    "language_info": {
      "name": "python"
    }
  },
  "cells": [
    {
      "cell_type": "markdown",
      "metadata": {
        "id": "view-in-github",
        "colab_type": "text"
      },
      "source": [
        "<a href=\"https://colab.research.google.com/github/jalexcanon/MujeresDigitales/blob/master/Clase8_taller2(MD).ipynb\" target=\"_parent\"><img src=\"https://colab.research.google.com/assets/colab-badge.svg\" alt=\"Open In Colab\"/></a>"
      ]
    },
    {
      "cell_type": "markdown",
      "metadata": {
        "id": "5xlJGmed7vhL"
      },
      "source": [
        "**Ejemplo**\n"
      ]
    },
    {
      "cell_type": "code",
      "metadata": {
        "id": "QXLB9BYB6I1D",
        "colab": {
          "base_uri": "https://localhost:8080/"
        },
        "outputId": "672eaf26-b2ca-4b3d-c094-9ace0575c49c"
      },
      "source": [
        "lcompras=list()\n",
        "articulo=list()\n",
        "while articulo!=\"\":\n",
        "  articulo=input(\"¿Cuáles productos desea llevar? \")\n",
        "  lcompras.append(articulo)\n",
        "print(lcompras)"
      ],
      "execution_count": null,
      "outputs": [
        {
          "output_type": "stream",
          "text": [
            "¿Cuáles productos desea llevar? arroz\n",
            "¿Cuáles productos desea llevar? huevo\n",
            "¿Cuáles productos desea llevar? \n",
            "['arroz', 'huevo', '']\n"
          ],
          "name": "stdout"
        }
      ]
    },
    {
      "cell_type": "markdown",
      "metadata": {
        "id": "DBjXeA7pAHko"
      },
      "source": [
        "Se le pide a la analista realizar una estimación poblacional a partir de información descriptiva relevante, sobre la población de los paises en vida de desarrollo.\n",
        "Para ello, se solicita que se cree un programa que permita ingresar como prueba 5 paises y su respectiva población e identificar que pais tiene la mayor cantidad de habitantes. "
      ]
    },
    {
      "cell_type": "code",
      "metadata": {
        "colab": {
          "base_uri": "https://localhost:8080/"
        },
        "id": "zIPCqLhNArIl",
        "outputId": "c551ffb4-83bd-4311-8d8d-35a77e8cd6dd"
      },
      "source": [
        "def paises_poblacion():\n",
        "  pais=[]\n",
        "  for x in range(2):\n",
        "    nombre_pais=input(\"Ingresa el nombre del país: \")\n",
        "    poblacion_pais=int(input(\"Ingresa la población: \"))\n",
        "    pais.append((nombre_pais, poblacion_pais))\n",
        "  return pais\n",
        "\n",
        "def view(pais):\n",
        "  print(\"Habitantes por país: \")\n",
        "  for x in range(len(pais)):\n",
        "    print(pais[x][0],pais[x][1])\n",
        "\n",
        "def mayor(pais):\n",
        "  p=0\n",
        "  for x in range(1, len(pais)):\n",
        "    if pais[x][1]>pais[p][1]:\n",
        "      p=x\n",
        "  print(\"El pais con la más alta población registrada es: \", pais[p][0])\n",
        "\n",
        "pais=paises_poblacion()\n",
        "view(pais)\n",
        "mayor(pais)"
      ],
      "execution_count": null,
      "outputs": [
        {
          "output_type": "stream",
          "text": [
            "Ingresa el nombre del país: c\n",
            "Ingresa la población: 78\n",
            "Ingresa el nombre del país: p\n",
            "Ingresa la población: 89\n",
            "Habitantes por país: \n",
            "c 78\n",
            "p 89\n",
            "El pais con la más alta población registrada es:  p\n"
          ],
          "name": "stdout"
        }
      ]
    },
    {
      "cell_type": "code",
      "metadata": {
        "colab": {
          "base_uri": "https://localhost:8080/"
        },
        "id": "e4wBEj97GPhB",
        "outputId": "9c489ac5-bf4e-4117-9cb9-62034804720e"
      },
      "source": [
        "se=[1,4,10,20,7,8]\n",
        "sorted(se)"
      ],
      "execution_count": null,
      "outputs": [
        {
          "output_type": "execute_result",
          "data": {
            "text/plain": [
              "[1, 4, 7, 8, 10, 20]"
            ]
          },
          "metadata": {
            "tags": []
          },
          "execution_count": 36
        }
      ]
    },
    {
      "cell_type": "markdown",
      "metadata": {
        "id": "Wkx6NYL8E5Xk"
      },
      "source": [
        "**Taller**\n",
        "\n",
        "Se solicita realizar un programa que permita identificar el nivel de cumplimiento del area de ventas de la empresa AVA. Entre los principales requirimientos se encuentra lo siguiente:\n",
        "\n",
        "1. Permita ingresar la cantidad de vendedores del area de ventas.\n",
        "2. Permita ingresar la puntuación por cada uno de ellos (La escala es de 1 a 10)\n",
        "3. El programa debe permitir identificar el vendedor con peor rendimiento y mejor rendimiento. \n",
        "4. Obtener tambien el promedio general del nivel de cumplimiento del area de ventas. \n",
        "\n",
        "**Nota:** Si hay empate en la puntuación para definir el primer y último puesto, se define por orden alfabetico. "
      ]
    },
    {
      "cell_type": "code",
      "metadata": {
        "id": "4Vkcc3ylGPZ-",
        "colab": {
          "base_uri": "https://localhost:8080/"
        },
        "outputId": "4bb40102-c728-45af-86c9-afa0fe26dd77"
      },
      "source": [
        "vendedores=int(input(\"Ingresar la cantidad de vendedores: \"))\n",
        "def ejercicio():\n",
        "  puntuacion_lista=[]\n",
        "  for x in range(vendedores):\n",
        "    nombre_vendedor=input(\"Ingresar el nombre del vendedor: \")\n",
        "    puntuacion=int(input(\"Ingresa la puntuación(escala de 1 a 10): \"))\n",
        "    puntuacion_lista.append((nombre_vendedor,puntuacion))\n",
        "  return puntuacion_lista\n",
        "\n",
        "def rendimiento(puntuacion_lista):\n",
        "  m=0;n=0\n",
        "  for x in range(len(puntuacion_lista)):\n",
        "    if puntuacion_lista[x][1]>puntuacion_lista[m][1]:\n",
        "      m=x\n",
        "  print(\"El vendedor con mayor rendimiento es: \", puntuacion_lista[m][0])\n",
        "  for j in range(1,len(puntuacion_lista)):\n",
        "    if puntuacion_lista[j][1]<puntuacion_lista[n][1]:\n",
        "      n=j\n",
        "  print(\"El vendedor con menor rendimiento es: \", puntuacion_lista[j][0])\n",
        "def promedio(puntuacion_lista):\n",
        "  suma=0\n",
        "  for x in range(len(puntuacion_lista)):\n",
        "    suma+=puntuacion_lista[x][1]\n",
        "  suma=suma/vendedores\n",
        "  print(\"El promedio general es:\", suma)\n",
        "  \n",
        "puntuacion_lista=ejercicio()\n",
        "rendimiento(puntuacion_lista)\n",
        "promedio(puntuacion_lista)"
      ],
      "execution_count": 1,
      "outputs": [
        {
          "output_type": "stream",
          "text": [
            "Ingresar la cantidad de vendedores: 5\n",
            "Ingresar el nombre del vendedor: Juan\n",
            "Ingresa la puntuación(escala de 1 a 10): 9\n",
            "Ingresar el nombre del vendedor: Maya\n",
            "Ingresa la puntuación(escala de 1 a 10): 8\n",
            "Ingresar el nombre del vendedor: Danna\n",
            "Ingresa la puntuación(escala de 1 a 10): 4\n",
            "Ingresar el nombre del vendedor: Andres\n",
            "Ingresa la puntuación(escala de 1 a 10): 6\n",
            "Ingresar el nombre del vendedor: Andrea\n",
            "Ingresa la puntuación(escala de 1 a 10): 2\n",
            "El vendedor con mayor rendimiento es:  Juan\n",
            "El vendedor con menor rendimiento es:  Andrea\n",
            "El promedio general es: 5.8\n"
          ],
          "name": "stdout"
        }
      ]
    }
  ]
}