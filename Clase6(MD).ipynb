{
  "nbformat": 4,
  "nbformat_minor": 0,
  "metadata": {
    "colab": {
      "name": "Clase6(MD).ipynb",
      "provenance": [],
      "authorship_tag": "ABX9TyOOp92Mzu6PVLjmULT4v2h6",
      "include_colab_link": true
    },
    "kernelspec": {
      "name": "python3",
      "display_name": "Python 3"
    },
    "language_info": {
      "name": "python"
    }
  },
  "cells": [
    {
      "cell_type": "markdown",
      "metadata": {
        "id": "view-in-github",
        "colab_type": "text"
      },
      "source": [
        "<a href=\"https://colab.research.google.com/github/jalexcanon/MujeresDigitales/blob/master/Clase6(MD).ipynb\" target=\"_parent\"><img src=\"https://colab.research.google.com/assets/colab-badge.svg\" alt=\"Open In Colab\"/></a>"
      ]
    },
    {
      "cell_type": "markdown",
      "metadata": {
        "id": "yyeNpffqo5DW"
      },
      "source": [
        "# **Comprensión de conjuntos**\n",
        "Es similar a lo que veniamos manejando con lista. La unica diferencia es que se usan los {}\n",
        "Recordemeos que los conjuntos tambien denominados \"sets\" no permiten duplicados, es decir, cada elemento es único. Si se llega añadir un elemento repetido, no arrojará error, pero no se mostrará en el print. "
      ]
    },
    {
      "cell_type": "code",
      "metadata": {
        "id": "tf81QAD1oAIu",
        "colab": {
          "base_uri": "https://localhost:8080/"
        },
        "outputId": "527b713d-8084-440b-ed23-e90ea553c62c"
      },
      "source": [
        "sa=\"ema ama a mamá\"\n",
        "sa2={i for i in sa if i==\"m\"} #en conjuntos solo trae un unico valor\n",
        "print(sa2)\n",
        "\n",
        "sa=\"ema ama a mamá\"\n",
        "sa2=[i for i in sa if i==\"m\"]\n",
        "print(sa2)"
      ],
      "execution_count": 6,
      "outputs": [
        {
          "output_type": "stream",
          "text": [
            "{'m'}\n",
            "['m', 'm', 'm', 'm']\n"
          ],
          "name": "stdout"
        }
      ]
    },
    {
      "cell_type": "markdown",
      "metadata": {
        "id": "Y-pF_BDzO0_D"
      },
      "source": [
        "**Diccionarios de comprensión**\n",
        "La unica diferencia que tiene respecto a las listad o conjuntos de comprensión, es la especifición de llaves o claves. "
      ]
    },
    {
      "cell_type": "code",
      "metadata": {
        "colab": {
          "base_uri": "https://localhost:8080/"
        },
        "id": "yncDFs-KPLL-",
        "outputId": "f59984f3-793a-452c-d4a7-c702c5faf6b8"
      },
      "source": [
        "lista=[\"nombre\", \"apellido\", \"ciudad\"]\n",
        "lista2=[\"Ana\", \"Rodriguez\", \"Popayan\"]\n",
        "\n",
        "dic={i:j for i,j in zip(lista,lista2)} #i para las llaves y j los valores. zip agrupa dos listas. \n",
        "print(dic)\n",
        "#con dos puntos se asigna un valor a la llave declarante. "
      ],
      "execution_count": 9,
      "outputs": [
        {
          "output_type": "stream",
          "text": [
            "{'nombre': 'Ana', 'apellido': 'Rodriguez', 'ciudad': 'Popayan'}\n"
          ],
          "name": "stdout"
        }
      ]
    },
    {
      "cell_type": "markdown",
      "metadata": {
        "id": "6Xrlw1OCUCXG"
      },
      "source": [
        "**OTRAS ESTRUCTURAS DE CONTROL**\n",
        "1. Switch\n",
        "2. Break\n",
        "3. Continue\n",
        "4. Complemento de iteración (enumerate)\n",
        "\n",
        "\n",
        "---\n",
        "*  **Switch**\n",
        "Es una herramienta que permite ejecutar diferentes secciones de código, dependiento de las condicioens impuestas. Su función es similar a usar if anidados o varios por separados. \n",
        "En Python como tal no existe, pero se puede simular. \n",
        "* **Break**\n",
        "Permite alterar el comportamiento de los ciclos de while y for. Directamente su función es la finalizar los ciclos.\n",
        "* **Continue**\n",
        "Se salta todo el código restante en la iteración actual y vuelve al principio en caso que queden elementos por iterar. \n",
        "\n",
        "Diferencia con el break: el continue no rompe el ciclo, sino que pasa a la iteración pendiente. \n",
        "\n",
        "* **Iterrar con enumerate**\n",
        "Pyhton nos permite iterar colecciones de objetos y elemento de la misma forma. Sin embargo hay una opción que es que en algunas situaciones que queramos acceder a un elemento ordenado podemos hacerlo nombrando el indice de cada elemento."
      ]
    },
    {
      "cell_type": "code",
      "metadata": {
        "colab": {
          "base_uri": "https://localhost:8080/"
        },
        "id": "T7JiqRtMUBtR",
        "outputId": "53b270d4-158b-4c27-e88f-df34daa945a5"
      },
      "source": [
        "x=\"Alexandra\"\n",
        "for i in x:\n",
        "  if i==\"x\":\n",
        "    print(\"Se obtuvo la letra x\")\n",
        "    break\n",
        "  print(i)"
      ],
      "execution_count": 19,
      "outputs": [
        {
          "output_type": "stream",
          "text": [
            "A\n",
            "l\n",
            "e\n",
            "Se obtuvo la letra e\n"
          ],
          "name": "stdout"
        }
      ]
    },
    {
      "cell_type": "code",
      "metadata": {
        "colab": {
          "base_uri": "https://localhost:8080/"
        },
        "id": "Ra-rdl-HZz9l",
        "outputId": "6954e65d-112b-4776-84ed-8977a2056247"
      },
      "source": [
        "#Break con while\n",
        "x=15\n",
        "while True:\n",
        "  x -=1\n",
        "  print(x)\n",
        "  if x==10:\n",
        "    break"
      ],
      "execution_count": 22,
      "outputs": [
        {
          "output_type": "stream",
          "text": [
            "14\n",
            "13\n",
            "12\n",
            "11\n",
            "10\n"
          ],
          "name": "stdout"
        }
      ]
    },
    {
      "cell_type": "code",
      "metadata": {
        "colab": {
          "base_uri": "https://localhost:8080/"
        },
        "id": "FtopQ-t5ajfc",
        "outputId": "ee849877-0672-4238-be9d-bc9a0d2428f9"
      },
      "source": [
        "#Uso de break con ciclos anidados:\n",
        "for i in range(1,8):\n",
        "  for j in range(1,8):\n",
        "    break #paró el ciclo del segundo ciclo, y el del primero no. \n",
        "  print(i,j)"
      ],
      "execution_count": 30,
      "outputs": [
        {
          "output_type": "stream",
          "text": [
            "1 1\n",
            "2 1\n",
            "3 1\n",
            "4 1\n",
            "5 1\n",
            "6 1\n",
            "7 1\n"
          ],
          "name": "stdout"
        }
      ]
    },
    {
      "cell_type": "code",
      "metadata": {
        "colab": {
          "base_uri": "https://localhost:8080/"
        },
        "id": "CQ9Q5qWLbNLQ",
        "outputId": "b3b56d54-1f72-42a2-a111-4ef60361ac72"
      },
      "source": [
        "#Continue\n",
        "x=\"Alexandra\"\n",
        "for i in x:\n",
        "  if i ==\"r\":\n",
        "    continue #continua el ciclo despues de llegar a la condición\n",
        "  print(i) #salta la r"
      ],
      "execution_count": 31,
      "outputs": [
        {
          "output_type": "stream",
          "text": [
            "A\n",
            "l\n",
            "e\n",
            "x\n",
            "a\n",
            "n\n",
            "d\n",
            "a\n"
          ],
          "name": "stdout"
        }
      ]
    },
    {
      "cell_type": "code",
      "metadata": {
        "colab": {
          "base_uri": "https://localhost:8080/"
        },
        "id": "d7IYW7M9cEvY",
        "outputId": "030224e2-fc27-43ce-be3a-6a4e9c3fe797"
      },
      "source": [
        "x=15\n",
        "while x>10:\n",
        "  x-=1\n",
        "  if x==13: #se salto el 13\n",
        "    continue\n",
        "  print(x)"
      ],
      "execution_count": 34,
      "outputs": [
        {
          "output_type": "stream",
          "text": [
            "14\n",
            "12\n",
            "11\n",
            "10\n"
          ],
          "name": "stdout"
        }
      ]
    },
    {
      "cell_type": "code",
      "metadata": {
        "colab": {
          "base_uri": "https://localhost:8080/"
        },
        "id": "FXWHR7incday",
        "outputId": "f008978c-1c72-41f0-e5fd-4952cd05b8ac"
      },
      "source": [
        "#Enumerate\n",
        "w=[\"sa\",\"se\",\"si\",\"so\",\"su\"]\n",
        "indice=1\n",
        "for i in w:\n",
        "  print(indice, i)\n",
        "  indice+=1"
      ],
      "execution_count": 37,
      "outputs": [
        {
          "output_type": "stream",
          "text": [
            "1 sa\n",
            "2 se\n",
            "3 si\n",
            "4 so\n",
            "5 su\n"
          ],
          "name": "stdout"
        }
      ]
    },
    {
      "cell_type": "code",
      "metadata": {
        "colab": {
          "base_uri": "https://localhost:8080/"
        },
        "id": "kWKqAuMUda0h",
        "outputId": "6633a278-f132-488a-85c4-2e017add4aaa"
      },
      "source": [
        "wa=[\"sa\",\"se\",\"si\",\"so\",\"su\"]\n",
        "for indice, i in enumerate(wa):\n",
        "  print(indice,i)\n",
        "\n",
        "x=list(enumerate(wa))\n",
        "print(x)"
      ],
      "execution_count": 40,
      "outputs": [
        {
          "output_type": "stream",
          "text": [
            "0 sa\n",
            "1 se\n",
            "2 si\n",
            "3 so\n",
            "4 su\n",
            "[(0, 'sa'), (1, 'se'), (2, 'si'), (3, 'so'), (4, 'su')]\n"
          ],
          "name": "stdout"
        }
      ]
    },
    {
      "cell_type": "markdown",
      "metadata": {
        "id": "EID3WTvzeO1B"
      },
      "source": [
        "**Uso del zip()**\n",
        "Si pasamos dos listas a zip, el resultado será una tupla donde cada elemento tendrá todos y cada uno de los elementos de las entradas"
      ]
    },
    {
      "cell_type": "code",
      "metadata": {
        "colab": {
          "base_uri": "https://localhost:8080/"
        },
        "id": "tsUfOnhDeT8u",
        "outputId": "337fdfed-e267-48bd-a71a-1cc41c197d59"
      },
      "source": [
        "a=[1,2,4]\n",
        "b=[\"a\",\"b\",\"c\"]\n",
        "x=(\"q\",\"w\",\"e\")\n",
        "z=(10,20,30)\n",
        "c=zip(a,b)\n",
        "print(c)\n",
        "print(list(c))\n",
        "\n",
        "for i,j,k,l in zip(a,b,x,z):\n",
        "  print(\"Número\", i,\"Letras\",j)\n",
        "  print(i,j,k,l)"
      ],
      "execution_count": 46,
      "outputs": [
        {
          "output_type": "stream",
          "text": [
            "<zip object at 0x7f45914b9500>\n",
            "[(1, 'a'), (2, 'b'), (4, 'c')]\n",
            "Número 1 Letras a\n",
            "1 a q 10\n",
            "Número 2 Letras b\n",
            "2 b w 20\n",
            "Número 4 Letras c\n",
            "4 c e 30\n"
          ],
          "name": "stdout"
        }
      ]
    },
    {
      "cell_type": "code",
      "metadata": {
        "colab": {
          "base_uri": "https://localhost:8080/"
        },
        "id": "5OXH37WMg40c",
        "outputId": "267b2a0b-d957-4d40-d5ea-33aba9868879"
      },
      "source": [
        "a=[1,2,4] #No itera el elemento restante (impar), pues se basa en matricez cuadradas para recorrer\n",
        "b=[\"a\",\"b\"]\n",
        "\n",
        "for sa,se in zip(a,b):\n",
        "  print(sa,se)"
      ],
      "execution_count": 47,
      "outputs": [
        {
          "output_type": "stream",
          "text": [
            "1 a\n",
            "2 b\n"
          ],
          "name": "stdout"
        }
      ]
    },
    {
      "cell_type": "code",
      "metadata": {
        "colab": {
          "base_uri": "https://localhost:8080/"
        },
        "id": "37dHktvCiijC",
        "outputId": "98d90421-0cbb-4fca-c9cc-00b3373c9aeb"
      },
      "source": [
        "#Romper el zip\n",
        "c=[(1,\"a\"),(2,\"b\"), (4,\"c\")]\n",
        "x,z=zip(*c)\n",
        "print(x,z)"
      ],
      "execution_count": 53,
      "outputs": [
        {
          "output_type": "stream",
          "text": [
            "(1, 2, 4) ('a', 'b', 'c')\n"
          ],
          "name": "stdout"
        }
      ]
    },
    {
      "cell_type": "markdown",
      "metadata": {
        "id": "ozitKXk4kJqc"
      },
      "source": [
        "## **Funciones**\n",
        "\n",
        "La función nos permite ordenar de manera adecuada la generación de objetos y bloques de código por ciclos y demás estructuras."
      ]
    },
    {
      "cell_type": "code",
      "metadata": {
        "colab": {
          "base_uri": "https://localhost:8080/"
        },
        "id": "Y6JDofH8kI9O",
        "outputId": "eddb2abb-5713-4a98-c277-7a3b73e88593"
      },
      "source": [
        "def maya_l(a):\n",
        "  return 2*a\n",
        "y=maya_l(3)\n",
        "print(y)"
      ],
      "execution_count": 55,
      "outputs": [
        {
          "output_type": "stream",
          "text": [
            "6\n"
          ],
          "name": "stdout"
        }
      ]
    },
    {
      "cell_type": "markdown",
      "metadata": {
        "id": "UiAz3LwMqh2o"
      },
      "source": [
        "Las funciones no sólo realizan una operación con sus entradas (argumentos de inicio), sino tambien partes de los siguientes principios:\n",
        "\n",
        "1. Reusabilidad: si tenemos un fragmento de código usado en muchos sitios y se guarda en una función, nos evitará tener códigos repetidos. \n",
        "2. Modularidad: permite legibilidad de forma más sencilla, es decir, los largos bloques de código se pueden agrupar en módulos o funciones, y la lectura va ser mucho más sencilla."
      ]
    },
    {
      "cell_type": "code",
      "metadata": {
        "colab": {
          "base_uri": "https://localhost:8080/"
        },
        "id": "eA5SEF6tuV0k",
        "outputId": "e4756a10-7ba0-47cf-f268-6dac7e2b5336"
      },
      "source": [
        "#Función sin argumentos de entrada ni parámetros de salida\n",
        "def s(): #Declaración de la función\n",
        "  print(\"Hi Maya\")\n",
        "s() #al cerrar la definición de la función aparecerá la ejecución del código"
      ],
      "execution_count": 57,
      "outputs": [
        {
          "output_type": "stream",
          "text": [
            "Hi Maya\n"
          ],
          "name": "stdout"
        }
      ]
    },
    {
      "cell_type": "code",
      "metadata": {
        "colab": {
          "base_uri": "https://localhost:8080/"
        },
        "id": "u4abonPMwzWm",
        "outputId": "e74adb6d-89b1-4c1c-c2de-a75d66f90dcc"
      },
      "source": [
        "#Incluir argumentos de entrada\n",
        "def a(apellido):\n",
        "  print(\"Hi luisa\",apellido)\n",
        "a(\"Varon\")"
      ],
      "execution_count": 59,
      "outputs": [
        {
          "output_type": "stream",
          "text": [
            "Hi luisa Varon\n"
          ],
          "name": "stdout"
        }
      ]
    },
    {
      "cell_type": "code",
      "metadata": {
        "colab": {
          "base_uri": "https://localhost:8080/"
        },
        "id": "rUFwiwfI2ZWH",
        "outputId": "7e342f99-a1ad-4e53-dd05-c271958733a7"
      },
      "source": [
        "#Usando dos argumentos de entrada y saida y operación matematica\n",
        "def suma(a,b):\n",
        "  return a+b\n",
        "suma(4,5)"
      ],
      "execution_count": 60,
      "outputs": [
        {
          "output_type": "execute_result",
          "data": {
            "text/plain": [
              "9"
            ]
          },
          "metadata": {
            "tags": []
          },
          "execution_count": 60
        }
      ]
    },
    {
      "cell_type": "code",
      "metadata": {
        "colab": {
          "base_uri": "https://localhost:8080/"
        },
        "id": "gR9ajQAw25Jl",
        "outputId": "d6fc1fb7-f38c-47fd-b438-b5dde1e3f5e4"
      },
      "source": [
        "#reusabilidad del código\n",
        "suma(a=6,b=7)"
      ],
      "execution_count": 61,
      "outputs": [
        {
          "output_type": "execute_result",
          "data": {
            "text/plain": [
              "13"
            ]
          },
          "metadata": {
            "tags": []
          },
          "execution_count": 61
        }
      ]
    },
    {
      "cell_type": "code",
      "metadata": {
        "colab": {
          "base_uri": "https://localhost:8080/"
        },
        "id": "xnjBC2Vq3NOG",
        "outputId": "cd3f084b-8b37-452a-844a-bacbb8f69b67"
      },
      "source": [
        "#Argumentos tipos desde el inicio\n",
        "def sma(a,b,c,d=1):\n",
        "  return a+b+c+d\n",
        "print(sma(2,3,5))\n",
        "\n",
        "print(sma(1,2,4,9))"
      ],
      "execution_count": 69,
      "outputs": [
        {
          "output_type": "stream",
          "text": [
            "11\n",
            "16\n"
          ],
          "name": "stdout"
        }
      ]
    },
    {
      "cell_type": "code",
      "metadata": {
        "colab": {
          "base_uri": "https://localhost:8080/"
        },
        "id": "XawZIq8b4X8-",
        "outputId": "9273fb6a-d2f7-4876-fa36-756db240d620"
      },
      "source": [
        "def sma(a=4,b=5,c=8,d=1):\n",
        "  return a+b+c+d\n",
        "print(sma())\n",
        "print(sma(1))\n",
        "print(sma(a=6,c=20))"
      ],
      "execution_count": 71,
      "outputs": [
        {
          "output_type": "stream",
          "text": [
            "18\n",
            "15\n",
            "32\n"
          ],
          "name": "stdout"
        }
      ]
    },
    {
      "cell_type": "code",
      "metadata": {
        "colab": {
          "base_uri": "https://localhost:8080/"
        },
        "id": "-rpCfYwy4x3B",
        "outputId": "d78ac53b-1309-4a9b-c644-d445859f8009"
      },
      "source": [
        "#ciclos dentro de una función (argumentos de longitud variable)\n",
        "\n",
        "def sma(number):\n",
        "  total=0\n",
        "  for i in number:\n",
        "    total+=i\n",
        "  return total\n",
        "sma([1,3,5,4]) #suma de todos los números de entrada"
      ],
      "execution_count": 80,
      "outputs": [
        {
          "output_type": "execute_result",
          "data": {
            "text/plain": [
              "13"
            ]
          },
          "metadata": {
            "tags": []
          },
          "execution_count": 80
        }
      ]
    },
    {
      "cell_type": "markdown",
      "metadata": {
        "id": "7RSbMfel55WC"
      },
      "source": [
        "Si se declara un argumento con *, esto hará que el argumento sea guardado como tupla de manera automatica. "
      ]
    },
    {
      "cell_type": "code",
      "metadata": {
        "colab": {
          "base_uri": "https://localhost:8080/"
        },
        "id": "G_gJXqUA6IlO",
        "outputId": "baeb4b21-d10c-4c8d-ed7d-defbd9730295"
      },
      "source": [
        "def sma(*number):\n",
        "  print(type(number))\n",
        "  total=0\n",
        "  for i in number:\n",
        "    total+=i\n",
        "  return total\n",
        "sma(1,2,4,6,7)"
      ],
      "execution_count": 83,
      "outputs": [
        {
          "output_type": "stream",
          "text": [
            "<class 'tuple'>\n"
          ],
          "name": "stdout"
        },
        {
          "output_type": "execute_result",
          "data": {
            "text/plain": [
              "20"
            ]
          },
          "metadata": {
            "tags": []
          },
          "execution_count": 83
        }
      ]
    }
  ]
}