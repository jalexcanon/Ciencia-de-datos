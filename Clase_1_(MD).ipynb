{
  "nbformat": 4,
  "nbformat_minor": 0,
  "metadata": {
    "colab": {
      "name": "Clase 1 (MD).ipynb",
      "provenance": [],
      "authorship_tag": "ABX9TyPPYcpcidPlS6HmFay18iyQ",
      "include_colab_link": true
    },
    "kernelspec": {
      "name": "python3",
      "display_name": "Python 3"
    },
    "language_info": {
      "name": "python"
    }
  },
  "cells": [
    {
      "cell_type": "markdown",
      "metadata": {
        "id": "view-in-github",
        "colab_type": "text"
      },
      "source": [
        "<a href=\"https://colab.research.google.com/github/jalexcanon/MujeresDigitales/blob/master/Clase_1_(MD).ipynb\" target=\"_parent\"><img src=\"https://colab.research.google.com/assets/colab-badge.svg\" alt=\"Open In Colab\"/></a>"
      ]
    },
    {
      "cell_type": "markdown",
      "metadata": {
        "id": "Q4-PlaL4lFEq"
      },
      "source": [
        "**Introducción**\n",
        "En python hay varios tipos de datos compuestos y están disponibles por defecto en los intérpretes.\n",
        "\n",
        "\n",
        "1.   Númericos\n",
        "2.   Secuenciales\n",
        "3.   Mapeos\n",
        "4.   Conjuntos usados para agrupar valores\n",
        "\n",
        "Para manejar un código limpio en Python\n",
        "\n",
        "\n",
        "1.   Manejar siempre minúscula\n",
        "2.   Se le pueden añadir números\n",
        "\n",
        "\n",
        "\n"
      ]
    },
    {
      "cell_type": "markdown",
      "metadata": {
        "id": "dMPyT6BdlkrP"
      },
      "source": [
        "**Diferencias entre variables y constantes** Constante: una magnitud que no cambia con el paso del tiempo. Variable: cantidad que es susceptible a tomar distintos valores númericos. "
      ]
    },
    {
      "cell_type": "code",
      "metadata": {
        "colab": {
          "base_uri": "https://localhost:8080/"
        },
        "id": "KFRGcMjtkktT",
        "outputId": "a19ef89b-4de3-4716-e70d-650d15705616"
      },
      "source": [
        "x=30\n",
        "print(x)"
      ],
      "execution_count": 1,
      "outputs": [
        {
          "output_type": "stream",
          "text": [
            "30\n"
          ],
          "name": "stdout"
        }
      ]
    },
    {
      "cell_type": "markdown",
      "metadata": {
        "id": "HL0LtHe1mw2E"
      },
      "source": [
        "**Tipos de datos**\n",
        "\n",
        "\n",
        "*   Enteros: números que no tienen decimales, puedens ser positivos o negativos. (int)\n",
        "*   Float: permite valores con decimales\n",
        "\n"
      ]
    },
    {
      "cell_type": "code",
      "metadata": {
        "colab": {
          "base_uri": "https://localhost:8080/"
        },
        "id": "gWS3f20knLc2",
        "outputId": "98ff6f7b-0e4d-4d03-abe9-ec5eb71a39cf"
      },
      "source": [
        "a=int(3.14)\n",
        "print(a)"
      ],
      "execution_count": 2,
      "outputs": [
        {
          "output_type": "stream",
          "text": [
            "3\n"
          ],
          "name": "stdout"
        }
      ]
    },
    {
      "cell_type": "code",
      "metadata": {
        "colab": {
          "base_uri": "https://localhost:8080/"
        },
        "id": "mB4lA4qvnPBZ",
        "outputId": "1f5efd41-eaa3-42f7-cb83-352db3131b64"
      },
      "source": [
        "a=float(5.67)\n",
        "print(a)"
      ],
      "execution_count": 3,
      "outputs": [
        {
          "output_type": "stream",
          "text": [
            "5.67\n"
          ],
          "name": "stdout"
        }
      ]
    },
    {
      "cell_type": "markdown",
      "metadata": {
        "id": "Tq8N3qAToCEQ"
      },
      "source": [
        "**Tipos cadena**\n",
        "Las cadenas son texto encerrado entre comillas (simples o dobles) y se pueden conformar de diferentes caracteres (Númericos, alfabéticos, especiales) Tener en cuenta que las cadenas admiten operadores como la suma y la resta. "
      ]
    },
    {
      "cell_type": "code",
      "metadata": {
        "colab": {
          "base_uri": "https://localhost:8080/"
        },
        "id": "EiNk1JoRob1t",
        "outputId": "b83d9b8c-85a2-4c46-edb2-b9ee0066fa6c"
      },
      "source": [
        "val2=\"Hola mundo\"\n",
        "print(val2)\n",
        "val3=\"soy Alexandra\"\n",
        "print(val3)\n",
        "print(val2+\" \"+val3)\n",
        "print(val2, val3) #Es una opción más limpia"
      ],
      "execution_count": 10,
      "outputs": [
        {
          "output_type": "stream",
          "text": [
            "Hola mundo\n",
            "soy Alexandra\n",
            "Hola mundo soy Alexandra\n",
            "Hola mundo soy Alexandra\n"
          ],
          "name": "stdout"
        }
      ]
    },
    {
      "cell_type": "code",
      "metadata": {
        "colab": {
          "base_uri": "https://localhost:8080/"
        },
        "id": "rKjX9l7Gqllk",
        "outputId": "87138055-82ff-40fd-e4a0-9b1716c05fcd"
      },
      "source": [
        "q=\"5\"\n",
        "c=\"2\"\n",
        "q=int(q)\n",
        "c=int(c)\n",
        "print(q-c)"
      ],
      "execution_count": 13,
      "outputs": [
        {
          "output_type": "stream",
          "text": [
            "3\n"
          ],
          "name": "stdout"
        }
      ]
    },
    {
      "cell_type": "markdown",
      "metadata": {
        "id": "hrjt2vjkrC1F"
      },
      "source": [
        "**Tipo booleano**\n",
        "Este tipo de variable solo tendrá un valor -verdadero- o -falso-\n",
        "Son valores muy usados en condiciones y bucles"
      ]
    },
    {
      "cell_type": "code",
      "metadata": {
        "colab": {
          "base_uri": "https://localhost:8080/"
        },
        "id": "caSheRbIrPj-",
        "outputId": "eab570a6-76c5-45d4-8bce-980fde0ec456"
      },
      "source": [
        "lola=True\n",
        "print(\"El valor es\",lola, \"el cual es de tipo\", type(lola))"
      ],
      "execution_count": 16,
      "outputs": [
        {
          "output_type": "stream",
          "text": [
            "El valor es True el cual es de tipo <class 'bool'>\n"
          ],
          "name": "stdout"
        }
      ]
    },
    {
      "cell_type": "markdown",
      "metadata": {
        "id": "MlB-deQHr6r-"
      },
      "source": [
        "**Colecciones**\n",
        "Tipo de conjuntos: son una colección de datos sin elementos que se repiten. \n",
        "\n",
        "*   Listas\n",
        "*   Tuplas\n",
        "*   Diccionarios\n",
        "\n"
      ]
    },
    {
      "cell_type": "code",
      "metadata": {
        "colab": {
          "base_uri": "https://localhost:8080/"
        },
        "id": "Mt1YgXEcsOhZ",
        "outputId": "fa160fc9-7642-4c33-8993-4bb85512fbf1"
      },
      "source": [
        "fruta= \"pera\", \"manzana\", \"mandarina\"\n",
        "colores = \"morado\", \"blanco\", \"azul\"\n",
        "print(fruta, colores)"
      ],
      "execution_count": 19,
      "outputs": [
        {
          "output_type": "stream",
          "text": [
            "('pera', 'manzana', 'mandarina') ('morado', 'blanco', 'azul')\n"
          ],
          "name": "stdout"
        }
      ]
    },
    {
      "cell_type": "markdown",
      "metadata": {
        "id": "90VUA0Z3sdsn"
      },
      "source": [
        "**Listas**\n",
        "\n",
        "---\n",
        "\n",
        "\n",
        "Las que almacenan vectores. [ ]\n",
        "El conteo inicia desde 0"
      ]
    },
    {
      "cell_type": "code",
      "metadata": {
        "colab": {
          "base_uri": "https://localhost:8080/"
        },
        "id": "-a9bP5aIsdFD",
        "outputId": "73cfeddd-02f1-48af-c884-49d6dde15769"
      },
      "source": [
        "Ines=[\"3\",\"Azul\", \"Naranja\", \"Perro\"]\n",
        "print(Ines)\n",
        "ines=Ines[0:3:2] #Realizo dos saltos a partir del 2\n",
        "print(ines)"
      ],
      "execution_count": 22,
      "outputs": [
        {
          "output_type": "stream",
          "text": [
            "['3', 'Azul', 'Naranja', 'Perro']\n",
            "['3', 'Naranja']\n"
          ],
          "name": "stdout"
        }
      ]
    },
    {
      "cell_type": "markdown",
      "metadata": {
        "id": "ooFjm1J8uPzG"
      },
      "source": [
        "**Tuplas**\n",
        "Es similar a una lista pero no es inmutable"
      ]
    },
    {
      "cell_type": "code",
      "metadata": {
        "colab": {
          "base_uri": "https://localhost:8080/"
        },
        "id": "v4-Dh_wDug7m",
        "outputId": "9c98b983-71ff-478f-89f5-d14a02cb3383"
      },
      "source": [
        "tupla=(2,4,\"Hola\")\n",
        "print(tupla)\n",
        "otra=tupla, (2,3,5) #tupla anidada\n",
        "print(otra)"
      ],
      "execution_count": 25,
      "outputs": [
        {
          "output_type": "stream",
          "text": [
            "(2, 4, 'Hola')\n",
            "((2, 4, 'Hola'), (2, 3, 5))\n"
          ],
          "name": "stdout"
        }
      ]
    },
    {
      "cell_type": "markdown",
      "metadata": {
        "id": "6nTTJxIlvAVX"
      },
      "source": [
        "**Tipo diccionario**\n",
        "Define los datos uno a uno entre un campo (ID-identificador-clave) y un valor. {}"
      ]
    },
    {
      "cell_type": "code",
      "metadata": {
        "colab": {
          "base_uri": "https://localhost:8080/"
        },
        "id": "cM3VOgUDvOps",
        "outputId": "fbb4f7a9-25df-4be3-d387-f6245d7dae3e"
      },
      "source": [
        "datos_b={\n",
        "    \"nombres\": \"Alexandra\",\n",
        "    \"edad\":\"26\",\n",
        "    \"cedula\": \"123124\",\n",
        "    \"estado civil\":\"soltera\",\n",
        "    \"lugar de nacimiento\":\"Bogotá\",\n",
        "    \"Fecha de nacimiento\": \"4/09/1994\",\n",
        "}\n",
        "print(datos_b)\n",
        "print(\"Id del diccionario: \", datos_b.keys())\n",
        "print(\"valores del diccionario: \", datos_b.values())\n",
        "print(\"Imprimir como conjunto: \", datos_b.items())\n",
        "print(\"Cédula es igual a:\", datos_b[\"cedula\"])"
      ],
      "execution_count": 44,
      "outputs": [
        {
          "output_type": "stream",
          "text": [
            "{'nombres': 'Alexandra', 'edad': '26', 'cedula': '123124', 'estado civil': 'soltera', 'lugar de nacimiento': 'Bogotá', 'Fecha de nacimiento': '4/09/1994'}\n",
            "Id del diccionario:  dict_keys(['nombres', 'edad', 'cedula', 'estado civil', 'lugar de nacimiento', 'Fecha de nacimiento'])\n",
            "valores del diccionario:  dict_values(['Alexandra', '26', '123124', 'soltera', 'Bogotá', '4/09/1994'])\n",
            "Imprimir como conjunto:  dict_items([('nombres', 'Alexandra'), ('edad', '26'), ('cedula', '123124'), ('estado civil', 'soltera'), ('lugar de nacimiento', 'Bogotá'), ('Fecha de nacimiento', '4/09/1994')])\n",
            "Cédula es igual a: 123124\n"
          ],
          "name": "stdout"
        }
      ]
    },
    {
      "cell_type": "code",
      "metadata": {
        "colab": {
          "base_uri": "https://localhost:8080/"
        },
        "id": "OJyGcQu_wsVR",
        "outputId": "a41a0f64-620c-4f56-bf55-cfdcf4e0f49b"
      },
      "source": [
        "datos_carros={ }\n",
        "datos_carros[\"Tamaño\"]=\"grande\"\n",
        "datos_carros[\"Color\"]=\"cafe\"\n",
        "datos_carros[\"Marca\"]=\"Renault\"\n",
        "datos_carros[\"Precio\"]= 60\n",
        "print(datos_carros)\n",
        "\n",
        "datos_carros2={ }\n",
        "datos_carros2[\"Tamaño\"]=\"pequeño\"\n",
        "datos_carros2[\"Color\"]=\"azul\"\n",
        "datos_carros2[\"Marca\"]=\"Renault\"\n",
        "datos_carros2[\"Precio\"]= 30\n",
        "print(datos_carros2)\n",
        "\n",
        "compra=datos_carros[\"Precio\"]+datos_carros2[\"Precio\"]\n",
        "print(\"La compra total fue de:\", compra)\n",
        "print(\"La compra total fue de: \" + str(compra))"
      ],
      "execution_count": 40,
      "outputs": [
        {
          "output_type": "stream",
          "text": [
            "{'Tamaño': 'grande', 'Color': 'cafe', 'Marca': 'Renault', 'Precio': 60}\n",
            "{'Tamaño': 'pequeño', 'Color': 'azul', 'Marca': 'Renault', 'Precio': 30}\n",
            "La compra total fue de: 90\n",
            "La compra total fue de: 90\n"
          ],
          "name": "stdout"
        }
      ]
    },
    {
      "cell_type": "markdown",
      "metadata": {
        "id": "3_PKmLRK1WNW"
      },
      "source": [
        "**Ejercicios**"
      ]
    },
    {
      "cell_type": "code",
      "metadata": {
        "colab": {
          "base_uri": "https://localhost:8080/"
        },
        "id": "Lg3qAVfk1Yju",
        "outputId": "429dc4ed-5505-429f-9b81-e6d5700b69e5"
      },
      "source": [
        "#Enteros\n",
        "numero_1=5\n",
        "numero_2=8\n",
        "print(\"La suma de\",numero_1,\"y\",numero_2,\"es:\",numero_1+numero_2)\n",
        "numero_3=9\n",
        "numero_4=10\n",
        "print(\"La resta de\",numero_3,\"y\",numero_4,\"es:\",numero_3-numero_4)\n",
        "numero_5=6.8\n",
        "numero_6=8.9\n",
        "#float\n",
        "print(\"La suma de\",numero_5,\"y\",numero_6,\"es:\",numero_5+numero_6)\n",
        "numero_7=4.5\n",
        "numero_8=5.8\n",
        "print(\"La resta de\",numero_7,\"y\",numero_8,\"es:\",numero_7-numero_8)"
      ],
      "execution_count": 53,
      "outputs": [
        {
          "output_type": "stream",
          "text": [
            "La suma de 5 y 8 es: 13\n",
            "La resta de 9 y 10 es: -1\n",
            "La suma de 6.8 y 8.9 es: 15.7\n",
            "La resta de 4.5 y 5.8 es: -1.2999999999999998\n"
          ],
          "name": "stdout"
        }
      ]
    },
    {
      "cell_type": "code",
      "metadata": {
        "colab": {
          "base_uri": "https://localhost:8080/"
        },
        "id": "-BW_v6Mt2mOG",
        "outputId": "789b165e-75a6-451e-f14c-401f81b31b11"
      },
      "source": [
        "#Cadenas\n",
        "cadena_1=\"Hola\"\n",
        "print(cadena_1)\n",
        "cadena_2=\"¿Cómo estás?\"\n",
        "print(cadena_2)\n",
        "print(cadena_1, cadena_2, \"\\n\")\n",
        "\n",
        "cadena_1=\"Mi nombre es\"\n",
        "print(cadena_1)\n",
        "cadena_2=\"Alexandra\"\n",
        "print(cadena_2)\n",
        "print(cadena_1, cadena_2)"
      ],
      "execution_count": 58,
      "outputs": [
        {
          "output_type": "stream",
          "text": [
            "Hola\n",
            "¿Cómo estás?\n",
            "Hola ¿Cómo estás? \n",
            "\n",
            "Mi nombre es\n",
            "Alexandra\n",
            "Mi nombre es Alexandra\n"
          ],
          "name": "stdout"
        }
      ]
    },
    {
      "cell_type": "code",
      "metadata": {
        "colab": {
          "base_uri": "https://localhost:8080/"
        },
        "id": "y6_Di-Xb3W0d",
        "outputId": "5c3a0d26-37b0-45dd-8cf3-e0e4dcb037f0"
      },
      "source": [
        "#booleanos\n",
        "Maya=True\n",
        "print(Maya, type(Maya))\n",
        "Maya=False\n",
        "print(Maya, type(Maya))"
      ],
      "execution_count": 61,
      "outputs": [
        {
          "output_type": "stream",
          "text": [
            "True <class 'bool'>\n",
            "False <class 'bool'>\n"
          ],
          "name": "stdout"
        }
      ]
    },
    {
      "cell_type": "code",
      "metadata": {
        "colab": {
          "base_uri": "https://localhost:8080/"
        },
        "id": "tK5fAJbq3xqu",
        "outputId": "04eb96f2-96f9-4c9e-acc0-69a6bbdf5278"
      },
      "source": [
        "#Listas\n",
        "mi_lista=[\"Perro\",\"Gato\",\"Aves\"]\n",
        "mi_lista_dos=[\"Azul\",\"Blanco\",\"Verde\"]\n",
        "print(mi_lista+mi_lista_dos)\n",
        "print(mi_lista,mi_lista_dos)\n",
        "print(mi_lista[0:1])\n",
        "print(mi_lista_dos[0:2])\n",
        "\n",
        "carbohidratos=[\"Arroz\",\"Galleta\",\"Pan\"]\n",
        "proteinas=[\"Huevos\",\"Leche\",\"Carne\"]\n",
        "print(carbohidratos+proteinas)\n",
        "print(carbohidratos,proteinas)\n",
        "print(carbohidratos[0:3])\n",
        "print(proteinas[0:2])"
      ],
      "execution_count": 72,
      "outputs": [
        {
          "output_type": "stream",
          "text": [
            "['Perro', 'Gato', 'Aves', 'Azul', 'Blanco', 'Verde']\n",
            "['Perro', 'Gato', 'Aves'] ['Azul', 'Blanco', 'Verde']\n",
            "['Perro']\n",
            "['Azul', 'Blanco']\n",
            "['Arroz', 'Galleta', 'Pan', 'Huevos', 'Leche', 'Carne']\n",
            "['Arroz', 'Galleta', 'Pan'] ['Huevos', 'Leche', 'Carne']\n",
            "['Arroz', 'Galleta', 'Pan']\n",
            "['Huevos', 'Leche']\n"
          ],
          "name": "stdout"
        }
      ]
    },
    {
      "cell_type": "code",
      "metadata": {
        "colab": {
          "base_uri": "https://localhost:8080/"
        },
        "id": "I5Zy2b2L5FfB",
        "outputId": "f0565d38-5c31-4bbe-f4af-0fe8c1a781e2"
      },
      "source": [
        "#Tuplas\n",
        "tupla_uno=(5,4,3,2,1, \"números\", True)\n",
        "print(tupla_uno)\n",
        "union=tupla_uno, (2.1,3.2,5.0)\n",
        "print(union)"
      ],
      "execution_count": 74,
      "outputs": [
        {
          "output_type": "stream",
          "text": [
            "(5, 4, 3, 2, 1, 'números', True)\n",
            "((5, 4, 3, 2, 1, 'números', True), (2.1, 3.2, 5.0))\n"
          ],
          "name": "stdout"
        }
      ]
    },
    {
      "cell_type": "code",
      "metadata": {
        "colab": {
          "base_uri": "https://localhost:8080/"
        },
        "id": "mSELk9sC5fVU",
        "outputId": "9f6049eb-b65c-423a-cc50-30541f288e90"
      },
      "source": [
        "#Diccionarios\n",
        "datos_perro={ }\n",
        "datos_perro[\"Nombre\"]=\"Rocky\"\n",
        "datos_perro[\"Tamaño\"]=\"pequeño\"\n",
        "datos_perro[\"Color\"]=\"blanco\"\n",
        "datos_perro[\"Raza\"]=\"mestizo\"\n",
        "datos_perro[\"Estado\"]=\"Adoptado\"\n",
        "print(datos_perro)\n",
        "print(\"El estado de\", datos_perro[\"Nombre\"], \"es\", datos_perro[\"Estado\"])\n",
        "print(\"Los Id de los perros son:\", datos_perro.keys())\n",
        "\n",
        "datos_perro2={\n",
        "    \"nombre\": \"Maya\",\n",
        "    \"tamaño\":\"grande\",\n",
        "    \"color\": \"blanco\",\n",
        "    \"raza\":\"samoyedo\",\n",
        "    \"estado\":\"no adoptada\",\n",
        "}\n",
        "\n",
        "print(\"El estado de\", datos_perro2[\"nombre\"], \"es\", datos_perro2[\"estado\"])\n",
        "print(\"valores del diccionario de los perros son: \", datos_perro2.values())"
      ],
      "execution_count": 82,
      "outputs": [
        {
          "output_type": "stream",
          "text": [
            "{'Nombre': 'Rocky', 'Tamaño': 'pequeño', 'Color': 'blanco', 'Raza': 'mestizo', 'Estado': 'Adoptado'}\n",
            "El estado de Rocky es Adoptado\n",
            "Los Id de los perros son: dict_keys(['Nombre', 'Tamaño', 'Color', 'Raza', 'Estado'])\n",
            "El estado de Maya es no adoptada\n",
            "valores del diccionario de los perros son:  dict_values(['Maya', 'grande', 'blanco', 'samoyedo', 'no adoptada'])\n"
          ],
          "name": "stdout"
        }
      ]
    }
  ]
}