{
  "nbformat": 4,
  "nbformat_minor": 0,
  "metadata": {
    "colab": {
      "name": "Clase 1 (MD).ipynb",
      "provenance": [],
      "authorship_tag": "ABX9TyPSyDbgPYjpQEfvJ4Pdacav",
      "include_colab_link": true
    },
    "kernelspec": {
      "name": "python3",
      "display_name": "Python 3"
    },
    "language_info": {
      "name": "python"
    }
  },
  "cells": [
    {
      "cell_type": "markdown",
      "metadata": {
        "id": "view-in-github",
        "colab_type": "text"
      },
      "source": [
        "<a href=\"https://colab.research.google.com/github/jalexcanon/MujeresDigitales/blob/master/Clase_1_(MD).ipynb\" target=\"_parent\"><img src=\"https://colab.research.google.com/assets/colab-badge.svg\" alt=\"Open In Colab\"/></a>"
      ]
    },
    {
      "cell_type": "markdown",
      "metadata": {
        "id": "Q4-PlaL4lFEq"
      },
      "source": [
        "**Introducción**\n",
        "En python hay varios tipos de datos compuestos y están disponibles por defecto en los intérpretes.\n",
        "\n",
        "\n",
        "1.   Númericos\n",
        "2.   Secuenciales\n",
        "3.   Mapeos\n",
        "4.   Conjuntos usados para agrupar valores\n",
        "\n",
        "Para manejar un código limpio en Python\n",
        "\n",
        "\n",
        "1.   Manejar siempre minúscula\n",
        "2.   Se le pueden añadir números\n",
        "\n",
        "\n",
        "\n"
      ]
    },
    {
      "cell_type": "markdown",
      "metadata": {
        "id": "dMPyT6BdlkrP"
      },
      "source": [
        "**Diferencias entre variables y constantes** Constante: una magnitud que no cambia con el paso del tiempo. Variable: cantidad que es susceptible a tomar distintos valores númericos. "
      ]
    },
    {
      "cell_type": "code",
      "metadata": {
        "colab": {
          "base_uri": "https://localhost:8080/"
        },
        "id": "KFRGcMjtkktT",
        "outputId": "a19ef89b-4de3-4716-e70d-650d15705616"
      },
      "source": [
        "x=30\n",
        "print(x)"
      ],
      "execution_count": 1,
      "outputs": [
        {
          "output_type": "stream",
          "text": [
            "30\n"
          ],
          "name": "stdout"
        }
      ]
    },
    {
      "cell_type": "markdown",
      "metadata": {
        "id": "HL0LtHe1mw2E"
      },
      "source": [
        "**Tipos de datos**\n",
        "\n",
        "\n",
        "*   Enteros: números que no tienen decimales, puedens ser positivos o negativos. (int)\n",
        "*   Float: permite valores con decimales\n",
        "\n"
      ]
    },
    {
      "cell_type": "code",
      "metadata": {
        "colab": {
          "base_uri": "https://localhost:8080/"
        },
        "id": "gWS3f20knLc2",
        "outputId": "98ff6f7b-0e4d-4d03-abe9-ec5eb71a39cf"
      },
      "source": [
        "a=int(3.14)\n",
        "print(a)"
      ],
      "execution_count": 2,
      "outputs": [
        {
          "output_type": "stream",
          "text": [
            "3\n"
          ],
          "name": "stdout"
        }
      ]
    },
    {
      "cell_type": "code",
      "metadata": {
        "colab": {
          "base_uri": "https://localhost:8080/"
        },
        "id": "mB4lA4qvnPBZ",
        "outputId": "1f5efd41-eaa3-42f7-cb83-352db3131b64"
      },
      "source": [
        "a=float(5.67)\n",
        "print(a)"
      ],
      "execution_count": 3,
      "outputs": [
        {
          "output_type": "stream",
          "text": [
            "5.67\n"
          ],
          "name": "stdout"
        }
      ]
    },
    {
      "cell_type": "markdown",
      "metadata": {
        "id": "Tq8N3qAToCEQ"
      },
      "source": [
        "**Tipos cadena**\n",
        "Las cadenas son texto encerrado entre comillas (simples o dobles) y se pueden conformar de diferentes caracteres (Númericos, alfabéticos, especiales) Tener en cuenta que las cadenas admiten operadores como la suma y la resta. "
      ]
    },
    {
      "cell_type": "code",
      "metadata": {
        "colab": {
          "base_uri": "https://localhost:8080/"
        },
        "id": "EiNk1JoRob1t",
        "outputId": "b83d9b8c-85a2-4c46-edb2-b9ee0066fa6c"
      },
      "source": [
        "val2=\"Hola mundo\"\n",
        "print(val2)\n",
        "val3=\"soy Alexandra\"\n",
        "print(val3)\n",
        "print(val2+\" \"+val3)\n",
        "print(val2, val3) #Es una opción más limpia"
      ],
      "execution_count": 10,
      "outputs": [
        {
          "output_type": "stream",
          "text": [
            "Hola mundo\n",
            "soy Alexandra\n",
            "Hola mundo soy Alexandra\n",
            "Hola mundo soy Alexandra\n"
          ],
          "name": "stdout"
        }
      ]
    },
    {
      "cell_type": "code",
      "metadata": {
        "colab": {
          "base_uri": "https://localhost:8080/"
        },
        "id": "rKjX9l7Gqllk",
        "outputId": "87138055-82ff-40fd-e4a0-9b1716c05fcd"
      },
      "source": [
        "q=\"5\"\n",
        "c=\"2\"\n",
        "q=int(q)\n",
        "c=int(c)\n",
        "print(q-c)"
      ],
      "execution_count": 13,
      "outputs": [
        {
          "output_type": "stream",
          "text": [
            "3\n"
          ],
          "name": "stdout"
        }
      ]
    },
    {
      "cell_type": "markdown",
      "metadata": {
        "id": "hrjt2vjkrC1F"
      },
      "source": [
        "**Tipo booleano**\n",
        "Este tipo de variable solo tendrá un valor -verdadero- o -falso-\n",
        "Son valores muy usados en condiciones y bucles"
      ]
    },
    {
      "cell_type": "code",
      "metadata": {
        "colab": {
          "base_uri": "https://localhost:8080/"
        },
        "id": "caSheRbIrPj-",
        "outputId": "eab570a6-76c5-45d4-8bce-980fde0ec456"
      },
      "source": [
        "lola=True\n",
        "print(\"El valor es\",lola, \"el cual es de tipo\", type(lola))"
      ],
      "execution_count": 16,
      "outputs": [
        {
          "output_type": "stream",
          "text": [
            "El valor es True el cual es de tipo <class 'bool'>\n"
          ],
          "name": "stdout"
        }
      ]
    },
    {
      "cell_type": "markdown",
      "metadata": {
        "id": "MlB-deQHr6r-"
      },
      "source": [
        "**Colecciones**\n",
        "Tipo de conjuntos: son una colección de datos sin elementos que se repiten. \n",
        "\n",
        "*   Listas\n",
        "*   Tuplas\n",
        "*   Diccionarios\n",
        "\n"
      ]
    },
    {
      "cell_type": "code",
      "metadata": {
        "colab": {
          "base_uri": "https://localhost:8080/"
        },
        "id": "Mt1YgXEcsOhZ",
        "outputId": "fa160fc9-7642-4c33-8993-4bb85512fbf1"
      },
      "source": [
        "fruta= \"pera\", \"manzana\", \"mandarina\"\n",
        "colores = \"morado\", \"blanco\", \"azul\"\n",
        "print(fruta, colores)"
      ],
      "execution_count": 19,
      "outputs": [
        {
          "output_type": "stream",
          "text": [
            "('pera', 'manzana', 'mandarina') ('morado', 'blanco', 'azul')\n"
          ],
          "name": "stdout"
        }
      ]
    },
    {
      "cell_type": "markdown",
      "metadata": {
        "id": "90VUA0Z3sdsn"
      },
      "source": [
        "**Listas**\n",
        "\n",
        "---\n",
        "\n",
        "\n",
        "Las que almacenan vectores. [ ]\n",
        "El conteo inicia desde 0"
      ]
    },
    {
      "cell_type": "code",
      "metadata": {
        "colab": {
          "base_uri": "https://localhost:8080/"
        },
        "id": "-a9bP5aIsdFD",
        "outputId": "73cfeddd-02f1-48af-c884-49d6dde15769"
      },
      "source": [
        "Ines=[\"3\",\"Azul\", \"Naranja\", \"Perro\"]\n",
        "print(Ines)\n",
        "ines=Ines[0:3:2] #Realizo dos saltos a partir del 2\n",
        "print(ines)"
      ],
      "execution_count": 22,
      "outputs": [
        {
          "output_type": "stream",
          "text": [
            "['3', 'Azul', 'Naranja', 'Perro']\n",
            "['3', 'Naranja']\n"
          ],
          "name": "stdout"
        }
      ]
    },
    {
      "cell_type": "markdown",
      "metadata": {
        "id": "ooFjm1J8uPzG"
      },
      "source": [
        "**Tuplas**\n",
        "Es similar a una lista pero no es inmutable"
      ]
    },
    {
      "cell_type": "code",
      "metadata": {
        "colab": {
          "base_uri": "https://localhost:8080/"
        },
        "id": "v4-Dh_wDug7m",
        "outputId": "9c98b983-71ff-478f-89f5-d14a02cb3383"
      },
      "source": [
        "tupla=(2,4,\"Hola\")\n",
        "print(tupla)\n",
        "otra=tupla, (2,3,5) #tupla anidada\n",
        "print(otra)"
      ],
      "execution_count": 25,
      "outputs": [
        {
          "output_type": "stream",
          "text": [
            "(2, 4, 'Hola')\n",
            "((2, 4, 'Hola'), (2, 3, 5))\n"
          ],
          "name": "stdout"
        }
      ]
    },
    {
      "cell_type": "markdown",
      "metadata": {
        "id": "6nTTJxIlvAVX"
      },
      "source": [
        "**Tipo diccionario**\n",
        "Define los datos uno a uno entre un campo (ID-identificador-clave) y un valor. {}"
      ]
    },
    {
      "cell_type": "code",
      "metadata": {
        "colab": {
          "base_uri": "https://localhost:8080/"
        },
        "id": "cM3VOgUDvOps",
        "outputId": "fbb4f7a9-25df-4be3-d387-f6245d7dae3e"
      },
      "source": [
        "datos_b={\n",
        "    \"nombres\": \"Alexandra\",\n",
        "    \"edad\":\"26\",\n",
        "    \"cedula\": \"123124\",\n",
        "    \"estado civil\":\"soltera\",\n",
        "    \"lugar de nacimiento\":\"Bogotá\",\n",
        "    \"Fecha de nacimiento\": \"4/09/1994\",\n",
        "}\n",
        "print(datos_b)\n",
        "print(\"Id del diccionario: \", datos_b.keys())\n",
        "print(\"valores del diccionario: \", datos_b.values())\n",
        "print(\"Imprimir como conjunto: \", datos_b.items())\n",
        "print(\"Cédula es igual a:\", datos_b[\"cedula\"])"
      ],
      "execution_count": 44,
      "outputs": [
        {
          "output_type": "stream",
          "text": [
            "{'nombres': 'Alexandra', 'edad': '26', 'cedula': '123124', 'estado civil': 'soltera', 'lugar de nacimiento': 'Bogotá', 'Fecha de nacimiento': '4/09/1994'}\n",
            "Id del diccionario:  dict_keys(['nombres', 'edad', 'cedula', 'estado civil', 'lugar de nacimiento', 'Fecha de nacimiento'])\n",
            "valores del diccionario:  dict_values(['Alexandra', '26', '123124', 'soltera', 'Bogotá', '4/09/1994'])\n",
            "Imprimir como conjunto:  dict_items([('nombres', 'Alexandra'), ('edad', '26'), ('cedula', '123124'), ('estado civil', 'soltera'), ('lugar de nacimiento', 'Bogotá'), ('Fecha de nacimiento', '4/09/1994')])\n",
            "Cédula es igual a: 123124\n"
          ],
          "name": "stdout"
        }
      ]
    },
    {
      "cell_type": "code",
      "metadata": {
        "colab": {
          "base_uri": "https://localhost:8080/"
        },
        "id": "OJyGcQu_wsVR",
        "outputId": "a41a0f64-620c-4f56-bf55-cfdcf4e0f49b"
      },
      "source": [
        "datos_carros={ }\n",
        "datos_carros[\"Tamaño\"]=\"grande\"\n",
        "datos_carros[\"Color\"]=\"cafe\"\n",
        "datos_carros[\"Marca\"]=\"Renault\"\n",
        "datos_carros[\"Precio\"]= 60\n",
        "print(datos_carros)\n",
        "\n",
        "datos_carros2={ }\n",
        "datos_carros2[\"Tamaño\"]=\"pequeño\"\n",
        "datos_carros2[\"Color\"]=\"azul\"\n",
        "datos_carros2[\"Marca\"]=\"Renault\"\n",
        "datos_carros2[\"Precio\"]= 30\n",
        "print(datos_carros2)\n",
        "\n",
        "compra=datos_carros[\"Precio\"]+datos_carros2[\"Precio\"]\n",
        "print(\"La compra total fue de:\", compra)\n",
        "print(\"La compra total fue de: \" + str(compra))"
      ],
      "execution_count": 40,
      "outputs": [
        {
          "output_type": "stream",
          "text": [
            "{'Tamaño': 'grande', 'Color': 'cafe', 'Marca': 'Renault', 'Precio': 60}\n",
            "{'Tamaño': 'pequeño', 'Color': 'azul', 'Marca': 'Renault', 'Precio': 30}\n",
            "La compra total fue de: 90\n",
            "La compra total fue de: 90\n"
          ],
          "name": "stdout"
        }
      ]
    }
  ]
}