{
  "nbformat": 4,
  "nbformat_minor": 0,
  "metadata": {
    "colab": {
      "name": "Clase5(MD).ipynb",
      "provenance": [],
      "authorship_tag": "ABX9TyP8dZ6kWvcubbJiR2NCF9NB",
      "include_colab_link": true
    },
    "kernelspec": {
      "name": "python3",
      "display_name": "Python 3"
    },
    "language_info": {
      "name": "python"
    }
  },
  "cells": [
    {
      "cell_type": "markdown",
      "metadata": {
        "id": "view-in-github",
        "colab_type": "text"
      },
      "source": [
        "<a href=\"https://colab.research.google.com/github/jalexcanon/MujeresDigitales/blob/master/Clase5(MD).ipynb\" target=\"_parent\"><img src=\"https://colab.research.google.com/assets/colab-badge.svg\" alt=\"Open In Colab\"/></a>"
      ]
    },
    {
      "cell_type": "code",
      "metadata": {
        "colab": {
          "base_uri": "https://localhost:8080/"
        },
        "id": "ZA4C8v1hojvv",
        "outputId": "4f25a6f3-7f30-453e-d6d1-e44ef12489ad"
      },
      "source": [
        "for i in range(1,5): #intervalo cerrado a la  izquierda y abierto en la derecha (es decir, no toma en cuenta el último valor)\n",
        "  print(i)"
      ],
      "execution_count": null,
      "outputs": [
        {
          "output_type": "stream",
          "text": [
            "1\n",
            "2\n",
            "3\n",
            "4\n"
          ],
          "name": "stdout"
        }
      ]
    },
    {
      "cell_type": "markdown",
      "metadata": {
        "id": "6aZmqiiMolow"
      },
      "source": [
        "1. iterable: son los objetos que pueden ser iterados.Por ejemplo, una lista, un valor tipo cadena, etc.\n",
        "2. iterador: son objetos que hacen referencia a un elemento (Para hacer referencia a cada uno de los elementos hay un método denominado *Next* que permite hacer referencia a los elementos del conjunto. \n",
        "\n",
        "isinstance() para saber que un elemento es iterable."
      ]
    },
    {
      "cell_type": "code",
      "metadata": {
        "colab": {
          "base_uri": "https://localhost:8080/"
        },
        "id": "D2BVkApUecP8",
        "outputId": "a0581245-3066-4aa8-c451-a8dd7aca4512"
      },
      "source": [
        "from collections import Iterable\n",
        "lista=[1,2,3,4,5,6,7,8,9,0]\n",
        "a=\"computador\"\n",
        "b=10\n",
        "print(isinstance(lista,Iterable)) #Es iterable o no\n",
        "print(isinstance(a,Iterable))\n",
        "print(isinstance(b,Iterable))"
      ],
      "execution_count": null,
      "outputs": [
        {
          "output_type": "stream",
          "text": [
            "True\n",
            "True\n",
            "False\n"
          ],
          "name": "stdout"
        }
      ]
    },
    {
      "cell_type": "markdown",
      "metadata": {
        "id": "nInTMTclv7vt"
      },
      "source": [
        "Para enterder los iteradores, es importante conocer la función *iter()*, esta función puede ser llamada sobre un objeto que sea iterable, y nos devolverá un iterador"
      ]
    },
    {
      "cell_type": "code",
      "metadata": {
        "colab": {
          "base_uri": "https://localhost:8080/"
        },
        "id": "czM02nBgwIMa",
        "outputId": "f2d6c74d-9319-4936-d4d1-821c699df71a"
      },
      "source": [
        "lista=[1,2,4,5,6,7,7]\n",
        "ref=iter(lista)\n",
        "print(ref)\n",
        "print(ref)\n",
        "print(iter(lista))"
      ],
      "execution_count": null,
      "outputs": [
        {
          "output_type": "stream",
          "text": [
            "<list_iterator object at 0x7f870cdad850>\n",
            "<list_iterator object at 0x7f870cdad850>\n",
            "<list_iterator object at 0x7f870cde66d0>\n"
          ],
          "name": "stdout"
        }
      ]
    },
    {
      "cell_type": "markdown",
      "metadata": {
        "id": "gZWhaVKPwfkm"
      },
      "source": [
        "Al imprimir la variable ref es un iterador, de la clase \"list_iterador\" Hace referencia a la lista original y nos permite acceder a sus elementos con la función *next()*"
      ]
    },
    {
      "cell_type": "code",
      "metadata": {
        "colab": {
          "base_uri": "https://localhost:8080/"
        },
        "id": "-_YaOFfpwvPW",
        "outputId": "09df1779-b942-45c4-eb57-774ad31ffbaa"
      },
      "source": [
        "lista=[3,4,5,6,\"Maya\",8]\n",
        "ref=iter(lista)\n",
        "print(next(ref))\n",
        "print(next(ref))\n",
        "print(next(ref))\n",
        "print(next(ref))\n",
        "print(next(ref))"
      ],
      "execution_count": null,
      "outputs": [
        {
          "output_type": "stream",
          "text": [
            "3\n",
            "4\n",
            "5\n",
            "6\n",
            "Maya\n"
          ],
          "name": "stdout"
        }
      ]
    },
    {
      "cell_type": "markdown",
      "metadata": {
        "id": "bDUD2RvCxcxO"
      },
      "source": [
        "**Tener en cuenta**\n",
        "Existen  varios iteradores para los diferentes casos.\n",
        "1. str_iterador para cadenas.\n",
        "2. list_iterador para listas\n",
        "3. set_iterador para conjuntos\n",
        "4. dict_keyiterador para diccionarios"
      ]
    },
    {
      "cell_type": "markdown",
      "metadata": {
        "id": "ghdFF6eWyD56"
      },
      "source": [
        "For anidados, es decir, ingresar uno dentro de otro.\n",
        "Si se quiere acceder a cada elemento de manera individual, se procede a realizar un bucle de for anidado. Es decir, un for se encargará de iterar las columnas y el otro las filas. "
      ]
    },
    {
      "cell_type": "code",
      "metadata": {
        "colab": {
          "base_uri": "https://localhost:8080/"
        },
        "id": "fwlUbeyqxyj2",
        "outputId": "31a0822e-ae74-4445-8e67-1bed23df3940"
      },
      "source": [
        "qa=[[1,2,3,5],\n",
        "    [8,6,8,9],\n",
        "    [12,55,77]]\n",
        "\n",
        "for i in qa:\n",
        "  print(i)\n",
        "  for j in i:\n",
        "    print(j)"
      ],
      "execution_count": null,
      "outputs": [
        {
          "output_type": "stream",
          "text": [
            "[1, 2, 3, 5]\n",
            "1\n",
            "2\n",
            "3\n",
            "5\n",
            "[8, 6, 8, 9]\n",
            "8\n",
            "6\n",
            "8\n",
            "9\n",
            "[12, 55, 77]\n",
            "12\n",
            "55\n",
            "77\n"
          ],
          "name": "stdout"
        }
      ]
    },
    {
      "cell_type": "code",
      "metadata": {
        "colab": {
          "base_uri": "https://localhost:8080/"
        },
        "id": "toZyImooz3DQ",
        "outputId": "c45af23e-c6fc-4e50-bcdd-6e24190e1a50"
      },
      "source": [
        "q=[[1, 2, 3, 5]]\n",
        "for i in q:\n",
        "  print(i)\n",
        "  for j in i:\n",
        "    print(j)"
      ],
      "execution_count": null,
      "outputs": [
        {
          "output_type": "stream",
          "text": [
            "[1, 2, 3, 5]\n",
            "1\n",
            "2\n",
            "3\n",
            "5\n"
          ],
          "name": "stdout"
        }
      ]
    },
    {
      "cell_type": "markdown",
      "metadata": {
        "id": "lV-5Na9wz8f9"
      },
      "source": [
        "Otra forma de utilizar el for es hacerlo al revés"
      ]
    },
    {
      "cell_type": "code",
      "metadata": {
        "colab": {
          "base_uri": "https://localhost:8080/"
        },
        "id": "FTf21Zzc0DnU",
        "outputId": "9b3738a9-46bc-41ad-be1c-407cd185a9d7"
      },
      "source": [
        "qu=[1,2,3,5]\n",
        "for i in qu[::-1]:\n",
        "  print(i)"
      ],
      "execution_count": null,
      "outputs": [
        {
          "output_type": "stream",
          "text": [
            "5\n",
            "3\n",
            "2\n",
            "1\n"
          ],
          "name": "stdout"
        }
      ]
    },
    {
      "cell_type": "code",
      "metadata": {
        "colab": {
          "base_uri": "https://localhost:8080/"
        },
        "id": "EWgNZf2w0kz5",
        "outputId": "21bdc878-8552-4676-b436-8a13ffebca7e"
      },
      "source": [
        "qu=[1,2,3,5]\n",
        "for i in qu[::2]:\n",
        "  print(i)\n",
        "\n",
        "a=\"computador\"\n",
        "for i in a[::3]:\n",
        "  print(i, end=\" \")"
      ],
      "execution_count": null,
      "outputs": [
        {
          "output_type": "stream",
          "text": [
            "1\n",
            "3\n",
            "c p a r "
          ],
          "name": "stdout"
        }
      ]
    },
    {
      "cell_type": "code",
      "metadata": {
        "colab": {
          "base_uri": "https://localhost:8080/"
        },
        "id": "PQNCKPFn0vWj",
        "outputId": "f6a74f00-15a8-42e8-f23f-4491e4cb9990"
      },
      "source": [
        "for i in range(1,10,2): #inicio, fin, salto\n",
        "  print(i)"
      ],
      "execution_count": null,
      "outputs": [
        {
          "output_type": "stream",
          "text": [
            "1\n",
            "3\n",
            "5\n",
            "7\n",
            "9\n"
          ],
          "name": "stdout"
        }
      ]
    },
    {
      "cell_type": "code",
      "metadata": {
        "colab": {
          "base_uri": "https://localhost:8080/"
        },
        "id": "9XbKj__w2klR",
        "outputId": "e12d26b4-1723-440a-9677-01130ab15ad6"
      },
      "source": [
        "print(list(range(2,10,2))) #convertir un rango en euna lista"
      ],
      "execution_count": null,
      "outputs": [
        {
          "output_type": "stream",
          "text": [
            "[2, 4, 6, 8]\n"
          ],
          "name": "stdout"
        }
      ]
    },
    {
      "cell_type": "markdown",
      "metadata": {
        "id": "_N6JdkD93VGQ"
      },
      "source": [
        "**Listas de comprensión**\n",
        "\n",
        "\n",
        "---\n",
        "\n",
        "Nos permiten crear listas de elementos en una sola linea de código. Ejemplo: crear una lista de las potencias a la 3 de los números impares de 0 a 9."
      ]
    },
    {
      "cell_type": "code",
      "metadata": {
        "id": "3_S00fl8398P",
        "colab": {
          "base_uri": "https://localhost:8080/"
        },
        "outputId": "e4d46075-ef49-4bfe-d4a9-55de4ea57328"
      },
      "source": [
        "tres=[i**3 for i in range(1,10,2)]\n",
        "print(tres)\n",
        "\n",
        "tres=[]\n",
        "for i in range(1,10,2):\n",
        "  tres.append(i**3)\n",
        "print(tres)"
      ],
      "execution_count": 53,
      "outputs": [
        {
          "output_type": "stream",
          "text": [
            "[1, 27, 125, 343, 729]\n",
            "[1, 27, 125, 343, 729]\n"
          ],
          "name": "stdout"
        }
      ]
    },
    {
      "cell_type": "code",
      "metadata": {
        "colab": {
          "base_uri": "https://localhost:8080/"
        },
        "id": "ouukodKv57oh",
        "outputId": "6a35692c-0d14-4b1b-dd5c-ea940cc7293c"
      },
      "source": [
        "s=[\"Maya\" for i in range(10)]\n",
        "print(s)"
      ],
      "execution_count": 55,
      "outputs": [
        {
          "output_type": "stream",
          "text": [
            "['Maya', 'Maya', 'Maya', 'Maya', 'Maya', 'Maya', 'Maya', 'Maya', 'Maya', 'Maya']\n"
          ],
          "name": "stdout"
        }
      ]
    },
    {
      "cell_type": "code",
      "metadata": {
        "colab": {
          "base_uri": "https://localhost:8080/"
        },
        "id": "VaUtJfrG6Tbs",
        "outputId": "da5a72cd-8921-43ec-d696-9f42f80a5834"
      },
      "source": [
        "lw=[5,4,6,4,3,5,7]\n",
        "lw1=[i/5 for i in lw]\n",
        "print(lw1)"
      ],
      "execution_count": 59,
      "outputs": [
        {
          "output_type": "stream",
          "text": [
            "[1.0, 0.8, 1.2, 0.8, 0.6, 1.0, 1.4]\n"
          ],
          "name": "stdout"
        }
      ]
    },
    {
      "cell_type": "code",
      "metadata": {
        "colab": {
          "base_uri": "https://localhost:8080/"
        },
        "id": "DvgbqpG_64kR",
        "outputId": "665d5fac-ff50-475a-a2dd-b1cd86db5f73"
      },
      "source": [
        "pera=\"mamá ama a Ema\"\n",
        "pera2=[i for i in pera if i==\"E\"] #Condicionales despues de la estructura.\n",
        "print(pera2)\n",
        "\n",
        "print(len(pera2))"
      ],
      "execution_count": 67,
      "outputs": [
        {
          "output_type": "stream",
          "text": [
            "['E']\n",
            "1\n"
          ],
          "name": "stdout"
        }
      ]
    }
  ]
}