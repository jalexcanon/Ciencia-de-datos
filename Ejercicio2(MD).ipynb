{
  "nbformat": 4,
  "nbformat_minor": 0,
  "metadata": {
    "colab": {
      "name": "Ejercicio2(MD).ipynb",
      "provenance": [],
      "authorship_tag": "ABX9TyPIQ+KJoVXEtSBdnfyXXQKT",
      "include_colab_link": true
    },
    "kernelspec": {
      "name": "python3",
      "display_name": "Python 3"
    },
    "language_info": {
      "name": "python"
    }
  },
  "cells": [
    {
      "cell_type": "markdown",
      "metadata": {
        "id": "view-in-github",
        "colab_type": "text"
      },
      "source": [
        "<a href=\"https://colab.research.google.com/github/jalexcanon/MujeresDigitales/blob/master/Ejercicio2(MD).ipynb\" target=\"_parent\"><img src=\"https://colab.research.google.com/assets/colab-badge.svg\" alt=\"Open In Colab\"/></a>"
      ]
    },
    {
      "cell_type": "code",
      "metadata": {
        "id": "rMG4SjtdqU1H",
        "colab": {
          "base_uri": "https://localhost:8080/"
        },
        "outputId": "b1f44946-2c1d-4091-9bcb-017a76818470"
      },
      "source": [
        "vendedores=int(input(\"Ingresar la cantidad de vendedores: \"))\n",
        "def ejercicio():\n",
        "  puntuacion_lista=[]\n",
        "  for x in range(vendedores):\n",
        "    nombre_vendedor=input(\"Ingresar el nombre del vendedor: \")\n",
        "    puntuacion=int(input(\"Ingresa la puntuación(escala de 1 a 10): \"))\n",
        "    puntuacion_lista.append((nombre_vendedor,puntuacion))\n",
        "  return puntuacion_lista\n",
        "\n",
        "def rendimiento(puntuacion_lista):\n",
        "  m=0;n=0\n",
        "  for x in range(len(puntuacion_lista)):\n",
        "    if puntuacion_lista[x][1]>puntuacion_lista[m][1]:\n",
        "      m=x\n",
        "  if puntuacion_lista[x][1]<puntuacion_lista[n][1]:\n",
        "    n=x\n",
        "  return m,n\n",
        "\n",
        "def promedio(puntuacion_lista):\n",
        "  suma=0\n",
        "  for x in range(len(puntuacion_lista)):\n",
        "    suma+=puntuacion_lista[x][1]\n",
        "  suma=suma/vendedores\n",
        "  print(\"El promedio general es:\", suma)\n",
        "\n",
        "puntuacion_lista=ejercicio()\n",
        "rendimiento(puntuacion_lista)\n",
        "m,n=rendimiento(puntuacion_lista)\n",
        "print(\"El vendedor con mayor rendimiento es: \",puntuacion_lista[m][0])\n",
        "print(\"El vendedor con menor rendimiento es: \",puntuacion_lista[n][0])\n",
        "orden=sorted(puntuacion_lista, key=lambda punto: punto[0])\n",
        "print(orden)\n",
        "promedio(puntuacion_lista)"
      ],
      "execution_count": 15,
      "outputs": [
        {
          "output_type": "stream",
          "text": [
            "Ingresar la cantidad de vendedores: 4\n",
            "Ingresar el nombre del vendedor: Maya\n",
            "Ingresa la puntuación(escala de 1 a 10): 10\n",
            "Ingresar el nombre del vendedor: Ana\n",
            "Ingresa la puntuación(escala de 1 a 10): 8\n",
            "Ingresar el nombre del vendedor: Tata\n",
            "Ingresa la puntuación(escala de 1 a 10): 10\n",
            "Ingresar el nombre del vendedor: Pedro\n",
            "Ingresa la puntuación(escala de 1 a 10): 5\n",
            "El vendedor con mayor rendimiento es:  Maya\n",
            "El vendedor con menor rendimiento es:  Pedro\n",
            "[('Ana', 8), ('Maya', 10), ('Pedro', 5), ('Tata', 10)]\n",
            "El promedio general es: 8.25\n"
          ],
          "name": "stdout"
        }
      ]
    }
  ]
}