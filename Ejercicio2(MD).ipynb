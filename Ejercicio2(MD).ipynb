{
  "nbformat": 4,
  "nbformat_minor": 0,
  "metadata": {
    "colab": {
      "name": "Ejercicio2(MD).ipynb",
      "provenance": [],
      "authorship_tag": "ABX9TyMrhA84Hd9Ww/s1p03uuUSb",
      "include_colab_link": true
    },
    "kernelspec": {
      "name": "python3",
      "display_name": "Python 3"
    },
    "language_info": {
      "name": "python"
    }
  },
  "cells": [
    {
      "cell_type": "markdown",
      "metadata": {
        "id": "view-in-github",
        "colab_type": "text"
      },
      "source": [
        "<a href=\"https://colab.research.google.com/github/jalexcanon/MujeresDigitales/blob/master/Ejercicio2(MD).ipynb\" target=\"_parent\"><img src=\"https://colab.research.google.com/assets/colab-badge.svg\" alt=\"Open In Colab\"/></a>"
      ]
    },
    {
      "cell_type": "code",
      "metadata": {
        "id": "rMG4SjtdqU1H",
        "colab": {
          "base_uri": "https://localhost:8080/"
        },
        "outputId": "7e0acd5b-3b7d-4028-bfc7-3fe4379acced"
      },
      "source": [
        "vendedores=int(input(\"Ingresar la cantidad de vendedores: \"))\n",
        "def ejercicio():\n",
        "  puntuacion_lista=[]\n",
        "  for x in range(vendedores):\n",
        "    nombre_vendedor=input(\"Ingresar el nombre del vendedor: \")\n",
        "    puntuacion=int(input(\"Ingresa la puntuación(escala de 1 a 10): \"))\n",
        "    puntuacion_lista.append((nombre_vendedor,puntuacion))\n",
        "  return puntuacion_lista\n",
        "\n",
        "def rendimiento(puntuacion_lista):\n",
        "  m=0;n=0\n",
        "  for x in range(len(puntuacion_lista)):\n",
        "    if puntuacion_lista[x][1]>puntuacion_lista[m][1]:\n",
        "      m=x\n",
        "  print(\"El vendedor con mayor rendimiento es: \", puntuacion_lista[m][0])\n",
        "  for j in range(1,len(puntuacion_lista)):\n",
        "    if puntuacion_lista[j][1]<puntuacion_lista[n][1]:\n",
        "      n=j\n",
        "  print(\"El vendedor con menor rendimiento es: \", puntuacion_lista[j][0])\n",
        "def promedio(puntuacion_lista):\n",
        "  suma=0\n",
        "  for x in range(len(puntuacion_lista)):\n",
        "    suma+=puntuacion_lista[x][1]\n",
        "  suma=suma/vendedores\n",
        "  print(\"El promedio general es:\", suma)\n",
        "  \n",
        "puntuacion_lista=ejercicio()\n",
        "rendimiento(puntuacion_lista)\n",
        "promedio(puntuacion_lista)1"
      ],
      "execution_count": 6,
      "outputs": [
        {
          "output_type": "stream",
          "text": [
            "Ingresar la cantidad de vendedores: 6\n",
            "Ingresar el nombre del vendedor: Maya\n",
            "Ingresa la puntuación(escala de 1 a 10): 8\n",
            "Ingresar el nombre del vendedor: Danna\n",
            "Ingresa la puntuación(escala de 1 a 10): 10\n",
            "Ingresar el nombre del vendedor: Alexandra\n",
            "Ingresa la puntuación(escala de 1 a 10): 6\n",
            "Ingresar el nombre del vendedor: Rafa\n",
            "Ingresa la puntuación(escala de 1 a 10): 7\n",
            "Ingresar el nombre del vendedor: Nataly\n",
            "Ingresa la puntuación(escala de 1 a 10): 5\n",
            "Ingresar el nombre del vendedor: Leidy\n",
            "Ingresa la puntuación(escala de 1 a 10): 2\n",
            "El vendedor con mayor rendimiento es:  Danna\n",
            "El vendedor con menor rendimiento es:  Leidy\n",
            "El promedio general es: 6.333333333333333\n"
          ],
          "name": "stdout"
        }
      ]
    }
  ]
}