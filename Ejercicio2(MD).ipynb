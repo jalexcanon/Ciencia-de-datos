{
  "nbformat": 4,
  "nbformat_minor": 0,
  "metadata": {
    "colab": {
      "name": "Ejercicio2(MD).ipynb",
      "provenance": [],
      "authorship_tag": "ABX9TyOuxfIRUZMxCR9H6tKg8lCY",
      "include_colab_link": true
    },
    "kernelspec": {
      "name": "python3",
      "display_name": "Python 3"
    },
    "language_info": {
      "name": "python"
    }
  },
  "cells": [
    {
      "cell_type": "markdown",
      "metadata": {
        "id": "view-in-github",
        "colab_type": "text"
      },
      "source": [
        "<a href=\"https://colab.research.google.com/github/jalexcanon/MujeresDigitales/blob/master/Ejercicio2(MD).ipynb\" target=\"_parent\"><img src=\"https://colab.research.google.com/assets/colab-badge.svg\" alt=\"Open In Colab\"/></a>"
      ]
    },
    {
      "cell_type": "code",
      "metadata": {
        "id": "rMG4SjtdqU1H",
        "colab": {
          "base_uri": "https://localhost:8080/"
        },
        "outputId": "3688eb6a-dae2-4f15-db83-be519c301bf2"
      },
      "source": [
        "vendedores=int(input(\"Ingresar la cantidad de vendedores: \"))\n",
        "def ejercicio():\n",
        "  puntuacion_lista=[]\n",
        "  for x in range(vendedores):\n",
        "    nombre_vendedor=input(\"Ingresar el nombre del vendedor: \")\n",
        "    puntuacion=int(input(\"Ingresa la puntuación(escala de 1 a 10): \"))\n",
        "    puntuacion_lista.append((nombre_vendedor,puntuacion))\n",
        "  return puntuacion_lista\n",
        "\n",
        "def rendimiento(puntuacion_lista):\n",
        "  m=0\n",
        "  for x in range(1,len(puntuacion_lista)):\n",
        "    if puntuacion_lista[x][1]>puntuacion_lista[m][1]:\n",
        "      m=x\n",
        "  print(\"El vendedor con mayor rendimiento es: \", puntuacion_lista[m][0])\n",
        "  if puntuacion_lista[x][1]<puntuacion_lista[m][1]:\n",
        "    m=x\n",
        "  print(\"El vendedor con menor rendimiento es: \", puntuacion_lista[m][0M])\n",
        "def promedio(puntuacion_lista):\n",
        "  suma=0\n",
        "  for x in range(len(puntuacion_lista)):\n",
        "    suma=suma+int(puntuacion_lista[x][1])\n",
        "  suma=suma/vendedores\n",
        "  print(\"El promedio general es:\", suma)\n",
        "  \n",
        "puntuacion_lista=ejercicio()\n",
        "rendimiento(puntuacion_lista)\n",
        "promedio(puntuacion_lista)"
      ],
      "execution_count": 5,
      "outputs": [
        {
          "output_type": "stream",
          "text": [
            "Ingresar la cantidad de vendedores: 5\n",
            "Ingresar el nombre del vendedor: Maya\n",
            "Ingresa la puntuación(escala de 1 a 10): 8\n",
            "Ingresar el nombre del vendedor: Ana\n",
            "Ingresa la puntuación(escala de 1 a 10): 7\n",
            "Ingresar el nombre del vendedor: Juan\n",
            "Ingresa la puntuación(escala de 1 a 10): 3\n",
            "Ingresar el nombre del vendedor: Oscar\n",
            "Ingresa la puntuación(escala de 1 a 10): 4\n",
            "Ingresar el nombre del vendedor: Victor\n",
            "Ingresa la puntuación(escala de 1 a 10): 2\n",
            "El vendedor con mayor rendimiento es:  Maya\n",
            "El vendedor con menor rendimiento es:  Victor\n",
            "El promedio general es: 4.8\n"
          ],
          "name": "stdout"
        }
      ]
    }
  ]
}