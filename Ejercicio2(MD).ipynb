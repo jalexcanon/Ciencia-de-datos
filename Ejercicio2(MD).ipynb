{
  "nbformat": 4,
  "nbformat_minor": 0,
  "metadata": {
    "colab": {
      "name": "Ejercicio2(MD).ipynb",
      "provenance": [],
      "authorship_tag": "ABX9TyNDAmUq/kKbf+5VKLR7YZj9",
      "include_colab_link": true
    },
    "kernelspec": {
      "name": "python3",
      "display_name": "Python 3"
    },
    "language_info": {
      "name": "python"
    }
  },
  "cells": [
    {
      "cell_type": "markdown",
      "metadata": {
        "id": "view-in-github",
        "colab_type": "text"
      },
      "source": [
        "<a href=\"https://colab.research.google.com/github/jalexcanon/MujeresDigitales/blob/master/Ejercicio2(MD).ipynb\" target=\"_parent\"><img src=\"https://colab.research.google.com/assets/colab-badge.svg\" alt=\"Open In Colab\"/></a>"
      ]
    },
    {
      "cell_type": "code",
      "metadata": {
        "colab": {
          "base_uri": "https://localhost:8080/"
        },
        "id": "rMG4SjtdqU1H",
        "outputId": "4f544b73-86b2-4317-82c7-f1600953f6dc"
      },
      "source": [
        "import statistics\n",
        "puntuacion_datos=[]\n",
        "def ejercicio():\n",
        "  vendedores=int(input(\"Ingresar la cantidad de vendedores: \"))\n",
        "  puntuacion_lista=[]\n",
        "  for x in range(vendedores):\n",
        "    nombre_vendedor=input(\"Ingresar el nombre del vendedor: \")\n",
        "    puntuacion=int(input(\"Ingresa la puntuación(escala de 1 a 10): \"))\n",
        "    puntuacion_lista.append((nombre_vendedor,puntuacion))\n",
        "    puntuacion_datos.append(puntuacion)\n",
        "    promedio=sum(puntuacion_datos)/len(puntuacion_datos)\n",
        "  print(\"El promedio general es\", promedio)\n",
        "  return puntuacion_lista\n",
        "\n",
        "def rendimiento(puntuacion_lista):\n",
        "  p=0\n",
        "  for x in range(1, len(puntuacion_lista)):\n",
        "    if puntuacion_lista[x][1]>puntuacion_lista[p][1]:\n",
        "      p=x\n",
        "  print(\"El vendedor con mayor rendimiento es: \", puntuacion_lista[p][0])\n",
        "  print(\"El vendedor con menor rendimiento es: \", puntuacion_lista[x][0])\n",
        "  \n",
        "puntuacion_lista=ejercicio()\n",
        "rendimiento(puntuacion_lista)"
      ],
      "execution_count": 1,
      "outputs": [
        {
          "output_type": "stream",
          "text": [
            "Ingresar la cantidad de vendedores: 5\n",
            "Ingresar el nombre del vendedor: Andres\n",
            "Ingresa la puntuación(escala de 1 a 10): 8\n",
            "Ingresar el nombre del vendedor: Juan\n",
            "Ingresa la puntuación(escala de 1 a 10): 6\n",
            "Ingresar el nombre del vendedor: Maya\n",
            "Ingresa la puntuación(escala de 1 a 10): 10\n",
            "Ingresar el nombre del vendedor: Dana\n",
            "Ingresa la puntuación(escala de 1 a 10): 5\n",
            "Ingresar el nombre del vendedor: Pedro\n",
            "Ingresa la puntuación(escala de 1 a 10): 2\n",
            "El promedio general es 6.2\n",
            "El vendedor con mayor rendimiento es:  Maya\n",
            "El vendedor con menor rendimiento es:  Pedro\n"
          ],
          "name": "stdout"
        }
      ]
    },
    {
      "cell_type": "code",
      "metadata": {
        "colab": {
          "base_uri": "https://localhost:8080/"
        },
        "id": "Y2UQtUKJqW8x",
        "outputId": "4de59690-9d84-4979-8abb-cf154814bc50"
      },
      "source": [
        "import statistics\n",
        "\n",
        "vendedores=int(input(\"Ingresar la cantidad de vendedores: \"))\n",
        "puntuacion_lista=[]\n",
        "puntuacion_datos=[]\n",
        "for x in range(vendedores):\n",
        "  nombre_vendedor=input(\"Ingresar el nombre del vendedor: \")\n",
        "  puntuacion=int(input(\"Ingresa la puntuación(escala de 1 a 10): \"))\n",
        "  puntuacion_lista.append((nombre_vendedor,puntuacion))\n",
        "  puntuacion_datos.append(puntuacion)\n",
        "\n",
        "p=0\n",
        "for x in range(1, len(puntuacion_lista)):\n",
        "  if puntuacion_lista[x][1]>puntuacion_lista[p][1]:\n",
        "    p=x\n",
        "print(\"El vendedor con mayor rendimiento es: \", puntuacion_lista[p][0])\n",
        "print(\"El vendedor con menor rendimiento es: \", puntuacion_lista[x][0])\n",
        "\n",
        "promedio=sum(puntuacion_datos)/len(puntuacion_datos)\n",
        "print(\"El promedio general es\", promedio)"
      ],
      "execution_count": 2,
      "outputs": [
        {
          "output_type": "stream",
          "text": [
            "Ingresar la cantidad de vendedores: 3\n",
            "Ingresar el nombre del vendedor: Maya\n",
            "Ingresa la puntuación(escala de 1 a 10): 10\n",
            "Ingresar el nombre del vendedor: Juan\n",
            "Ingresa la puntuación(escala de 1 a 10): 2\n",
            "Ingresar el nombre del vendedor: Pedro\n",
            "Ingresa la puntuación(escala de 1 a 10): 9\n",
            "El vendedor con mayor rendimiento es:  Maya\n",
            "El vendedor con menor rendimiento es:  Pedro\n",
            "El promedio general es 7.0\n"
          ],
          "name": "stdout"
        }
      ]
    }
  ]
}