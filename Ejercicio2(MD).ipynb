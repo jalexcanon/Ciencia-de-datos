{
  "nbformat": 4,
  "nbformat_minor": 0,
  "metadata": {
    "colab": {
      "name": "Ejercicio2(MD).ipynb",
      "provenance": [],
      "authorship_tag": "ABX9TyPDwd+qgyWecXDF+daVKxaR",
      "include_colab_link": true
    },
    "kernelspec": {
      "name": "python3",
      "display_name": "Python 3"
    },
    "language_info": {
      "name": "python"
    }
  },
  "cells": [
    {
      "cell_type": "markdown",
      "metadata": {
        "id": "view-in-github",
        "colab_type": "text"
      },
      "source": [
        "<a href=\"https://colab.research.google.com/github/jalexcanon/MujeresDigitales/blob/master/Ejercicio2(MD).ipynb\" target=\"_parent\"><img src=\"https://colab.research.google.com/assets/colab-badge.svg\" alt=\"Open In Colab\"/></a>"
      ]
    },
    {
      "cell_type": "code",
      "metadata": {
        "id": "rMG4SjtdqU1H",
        "colab": {
          "base_uri": "https://localhost:8080/"
        },
        "outputId": "c5584dc8-894d-403c-8fc0-f7bce5c9d210"
      },
      "source": [
        "vendedores=int(input(\"Ingresar la cantidad de vendedores: \"))\n",
        "def ejercicio():\n",
        "  puntuacion_lista=[]\n",
        "  for x in range(vendedores):\n",
        "    nombre_vendedor=input(\"Ingresar el nombre del vendedor: \")\n",
        "    puntuacion=int(input(\"Ingresa la puntuación(escala de 1 a 10): \"))\n",
        "    puntuacion_lista.append((nombre_vendedor,puntuacion))\n",
        "  return puntuacion_lista\n",
        "\n",
        "def rendimiento(puntuacion_lista):\n",
        "  m=0;n=0\n",
        "  lista2 = sorted(puntuacion_lista)\n",
        "  for x in range(0, len(lista2)):\n",
        "    if lista2[x][1]>lista2[m][1]:\n",
        "      m=x\n",
        "    if lista2[x][1]<lista2[n][1]:\n",
        "      n=x\n",
        "\n",
        "  print(\"El vendedor con mayor rendimiento es: \",lista2[m][0])\n",
        "  print(\"El vendedor con menor rendimiento es: \",lista2[n][0])\n",
        "\n",
        "def promedio(puntuacion_lista):\n",
        "  suma=0\n",
        "  for x in range(len(puntuacion_lista)):\n",
        "    suma+=puntuacion_lista[x][1]\n",
        "  suma=suma/vendedores\n",
        "  print(\"El promedio general es:\", suma)\n",
        "  \n",
        "puntuacion_lista=ejercicio()\n",
        "rendimiento(puntuacion_lista)\n",
        "promedio(puntuacion_lista)1"
      ],
      "execution_count": 16,
      "outputs": [
        {
          "output_type": "stream",
          "text": [
            "Ingresar la cantidad de vendedores: 4\n",
            "Ingresar el nombre del vendedor: Maya\n",
            "Ingresa la puntuación(escala de 1 a 10): 10\n",
            "Ingresar el nombre del vendedor: Danna\n",
            "Ingresa la puntuación(escala de 1 a 10): 8\n",
            "Ingresar el nombre del vendedor: María\n",
            "Ingresa la puntuación(escala de 1 a 10): 10\n",
            "Ingresar el nombre del vendedor: Pedro\n",
            "Ingresa la puntuación(escala de 1 a 10): 5\n",
            "El vendedor con mayor rendimiento es:  María\n",
            "El vendedor con menor rendimiento es:  Pedro\n",
            "El promedio general es: 8.25\n"
          ],
          "name": "stdout"
        }
      ]
    }
  ]
}