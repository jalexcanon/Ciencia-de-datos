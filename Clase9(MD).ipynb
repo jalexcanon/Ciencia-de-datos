{
  "nbformat": 4,
  "nbformat_minor": 0,
  "metadata": {
    "colab": {
      "name": "Clase9(MD).ipynb",
      "provenance": [],
      "collapsed_sections": [
        "iT5wu3i_15vH",
        "EO_UNYob5CSH"
      ],
      "include_colab_link": true
    },
    "kernelspec": {
      "name": "python3",
      "display_name": "Python 3"
    },
    "language_info": {
      "name": "python"
    }
  },
  "cells": [
    {
      "cell_type": "markdown",
      "metadata": {
        "id": "view-in-github",
        "colab_type": "text"
      },
      "source": [
        "<a href=\"https://colab.research.google.com/github/jalexcanon/MujeresDigitales/blob/master/Clase9(MD).ipynb\" target=\"_parent\"><img src=\"https://colab.research.google.com/assets/colab-badge.svg\" alt=\"Open In Colab\"/></a>"
      ]
    },
    {
      "cell_type": "markdown",
      "metadata": {
        "id": "Lv9yZbyQKN_o"
      },
      "source": [
        "# **Pandas**\n",
        "Is a fast, powerful, flexible and easy to use open source data analysis and manipulation tool,\n",
        "built on top of the Python programming language.\n",
        "\n",
        "\n"
      ]
    },
    {
      "cell_type": "markdown",
      "metadata": {
        "id": "v0gmvmidtjl7"
      },
      "source": [
        "Para poder entender pandas se requiere conocer dos tipos de estructuras:\n",
        "\n",
        "1. Series\n",
        "2. DataFrame\n",
        "3. Panel \n",
        "\n",
        "\n",
        "Data structure  | Dimensionalidad | Analogo Excel \n",
        "-------------------|-------------------|------------------\n",
        "Series       | 1D |Columna \n",
        "Dataframe       | 2D | Hoja de calculo\n",
        "Panel       | 3D |Hojas de calculo multiples\n",
        "\n",
        "Las estructuras mas comunes son **Series** y **DataFrame** "
      ]
    },
    {
      "cell_type": "markdown",
      "metadata": {
        "id": "D2hhs4XCt6p7"
      },
      "source": [
        "# **Series**\n",
        "Se usan para modelar estructuras 1D, similar a las listas en Python aunque tienen mayor numero de bits incluyendo indice y nombre. \n",
        "\n",
        "Pueden albergar strings, floats, booleans\n",
        "\n"
      ]
    },
    {
      "cell_type": "code",
      "metadata": {
        "colab": {
          "base_uri": "https://localhost:8080/"
        },
        "id": "BJRZQw5Wf0sR",
        "outputId": "e7c783bd-9225-4fed-bd7c-a6e2b03c878d"
      },
      "source": [
        "import pandas as pd #pd es un alias\n",
        "maya =pd.Series([145,142,38,13],name=\"counts\") #Series es un metodo\n",
        "print(type(maya)) #el tipo de david\n",
        "print(maya)\n",
        "maya[3] #Empieza desde 0"
      ],
      "execution_count": null,
      "outputs": [
        {
          "output_type": "stream",
          "text": [
            "<class 'pandas.core.series.Series'>\n",
            "0    145\n",
            "1    142\n",
            "2     38\n",
            "3     13\n",
            "Name: counts, dtype: int64\n"
          ],
          "name": "stdout"
        },
        {
          "output_type": "execute_result",
          "data": {
            "text/plain": [
              "13"
            ]
          },
          "metadata": {},
          "execution_count": 1
        }
      ]
    },
    {
      "cell_type": "code",
      "metadata": {
        "colab": {
          "base_uri": "https://localhost:8080/"
        },
        "id": "aLKHeuv_upB9",
        "outputId": "47f2c9a4-848c-4845-8a8d-3273210cfb00"
      },
      "source": [
        "alexa=pd.Series([\"a\",\"l\",\"e\",\"x\",\"a\"],name=\"counts\")\n",
        "print(alexa)"
      ],
      "execution_count": null,
      "outputs": [
        {
          "output_type": "stream",
          "text": [
            "0    a\n",
            "1    l\n",
            "2    e\n",
            "3    x\n",
            "4    a\n",
            "Name: counts, dtype: object\n"
          ],
          "name": "stdout"
        }
      ]
    },
    {
      "cell_type": "code",
      "metadata": {
        "colab": {
          "base_uri": "https://localhost:8080/"
        },
        "id": "YW1ZOAUpvPE6",
        "outputId": "49fee501-73b6-4d7a-8d11-d6b52dbc67ff"
      },
      "source": [
        "print(alexa.index)\n",
        "print(alexa.values)"
      ],
      "execution_count": null,
      "outputs": [
        {
          "output_type": "stream",
          "text": [
            "RangeIndex(start=0, stop=5, step=1)\n",
            "['a' 'l' 'e' 'x' 'a']\n"
          ],
          "name": "stdout"
        }
      ]
    },
    {
      "cell_type": "code",
      "metadata": {
        "colab": {
          "base_uri": "https://localhost:8080/"
        },
        "id": "_3EZSKr0vj1x",
        "outputId": "f01bbe75-79b2-4b6e-efa2-cfff11ec298b"
      },
      "source": [
        "import pandas as pd\n",
        "alexa_two=pd.Series([5,4,3,2,1],name=\"counts\",index=[\"a\",\"l\",\"e\",\"x\",\"a\"])\n",
        "print(alexa_two)\n",
        "print(alexa_two.index)\n",
        "print(alexa_two.values)"
      ],
      "execution_count": 3,
      "outputs": [
        {
          "output_type": "stream",
          "text": [
            "a    5\n",
            "l    4\n",
            "e    3\n",
            "x    2\n",
            "a    1\n",
            "Name: counts, dtype: int64\n",
            "Index(['a', 'l', 'e', 'x', 'a'], dtype='object')\n",
            "[5 4 3 2 1]\n"
          ],
          "name": "stdout"
        }
      ]
    },
    {
      "cell_type": "code",
      "metadata": {
        "colab": {
          "base_uri": "https://localhost:8080/"
        },
        "id": "-0FC9waqv2Bl",
        "outputId": "f4721203-9c87-46f9-f90f-731836d062d3"
      },
      "source": [
        "alexa_two[[\"a\",\"l\"]]"
      ],
      "execution_count": 5,
      "outputs": [
        {
          "output_type": "execute_result",
          "data": {
            "text/plain": [
              "a    5\n",
              "a    1\n",
              "l    4\n",
              "Name: counts, dtype: int64"
            ]
          },
          "metadata": {},
          "execution_count": 5
        }
      ]
    },
    {
      "cell_type": "code",
      "metadata": {
        "colab": {
          "base_uri": "https://localhost:8080/"
        },
        "id": "KQMiXlRcwUIj",
        "outputId": "62dba974-973e-4d5c-f118-3ace255b5178"
      },
      "source": [
        "# Tambien pueden albergar diferentes objetos \n",
        "class J:\n",
        "   pass\n",
        "pedro = pd.Series(['David', 'Fran', 13, J()],\\\n",
        "                    name='JJ')\n",
        "pedro"
      ],
      "execution_count": null,
      "outputs": [
        {
          "output_type": "execute_result",
          "data": {
            "text/plain": [
              "0                                    David\n",
              "1                                     Fran\n",
              "2                                       13\n",
              "3    <__main__.J object at 0x7f19e6da0b90>\n",
              "Name: JJ, dtype: object"
            ]
          },
          "metadata": {},
          "execution_count": 12
        }
      ]
    },
    {
      "cell_type": "code",
      "metadata": {
        "colab": {
          "base_uri": "https://localhost:8080/"
        },
        "id": "UUSURKPCwmgX",
        "outputId": "635f1b79-a624-44a2-da69-592ebb1ce93e"
      },
      "source": [
        "#Valores nulos.\n",
        "nan_ser=pd.Series([2,None],index=[\"a\",\"b\"]) #Not a number (NaN)\n",
        "print(nan_ser)\n",
        "nan_ser.count()"
      ],
      "execution_count": null,
      "outputs": [
        {
          "output_type": "stream",
          "text": [
            "a    2.0\n",
            "b    NaN\n",
            "dtype: float64\n"
          ],
          "name": "stdout"
        },
        {
          "output_type": "execute_result",
          "data": {
            "text/plain": [
              "1"
            ]
          },
          "metadata": {
            "tags": []
          },
          "execution_count": 21
        }
      ]
    },
    {
      "cell_type": "code",
      "metadata": {
        "colab": {
          "base_uri": "https://localhost:8080/"
        },
        "id": "8Sjey5i7zDJO",
        "outputId": "660ad431-3cfc-4c4b-fb9b-2394e1ddb235"
      },
      "source": [
        "impares=pd.Series([1,3,5,7,9,11,13,15])\n",
        "print(impares)"
      ],
      "execution_count": null,
      "outputs": [
        {
          "output_type": "stream",
          "text": [
            "0     1\n",
            "1     3\n",
            "2     5\n",
            "3     7\n",
            "4     9\n",
            "5    11\n",
            "6    13\n",
            "7    15\n",
            "dtype: int64\n"
          ],
          "name": "stdout"
        }
      ]
    },
    {
      "cell_type": "code",
      "metadata": {
        "colab": {
          "base_uri": "https://localhost:8080/"
        },
        "id": "vAMbNj1nzb90",
        "outputId": "89db9f18-163d-46f0-8bbe-db659baac470"
      },
      "source": [
        "impares_dos=pd.Series(range(1,16,2))\n",
        "print(impares_dos)"
      ],
      "execution_count": null,
      "outputs": [
        {
          "output_type": "stream",
          "text": [
            "0     1\n",
            "1     3\n",
            "2     5\n",
            "3     7\n",
            "4     9\n",
            "5    11\n",
            "6    13\n",
            "7    15\n",
            "dtype: int64\n"
          ],
          "name": "stdout"
        }
      ]
    },
    {
      "cell_type": "code",
      "metadata": {
        "colab": {
          "base_uri": "https://localhost:8080/"
        },
        "id": "YmcyyNo5xy8o",
        "outputId": "1058fd5d-3aef-4d86-ac28-5ac0f75a41c3"
      },
      "source": [
        "impares_dos=pd.Series(range(1,16,2))\n",
        "print(impares_dos)\n",
        "impares_dos[2:5]"
      ],
      "execution_count": 13,
      "outputs": [
        {
          "output_type": "stream",
          "text": [
            "0     1\n",
            "1     3\n",
            "2     5\n",
            "3     7\n",
            "4     9\n",
            "5    11\n",
            "6    13\n",
            "7    15\n",
            "dtype: int64\n"
          ],
          "name": "stdout"
        },
        {
          "output_type": "execute_result",
          "data": {
            "text/plain": [
              "2    5\n",
              "3    7\n",
              "4    9\n",
              "dtype: int64"
            ]
          },
          "metadata": {},
          "execution_count": 13
        }
      ]
    },
    {
      "cell_type": "code",
      "metadata": {
        "colab": {
          "base_uri": "https://localhost:8080/"
        },
        "id": "NvEBMsGux2lK",
        "outputId": "c51f164e-0971-47a5-8228-ded4f672420c"
      },
      "source": [
        "impares_dos>10"
      ],
      "execution_count": 14,
      "outputs": [
        {
          "output_type": "execute_result",
          "data": {
            "text/plain": [
              "0    False\n",
              "1    False\n",
              "2    False\n",
              "3    False\n",
              "4    False\n",
              "5     True\n",
              "6     True\n",
              "7     True\n",
              "dtype: bool"
            ]
          },
          "metadata": {},
          "execution_count": 14
        }
      ]
    },
    {
      "cell_type": "code",
      "metadata": {
        "colab": {
          "base_uri": "https://localhost:8080/"
        },
        "id": "JE3QCStQ4ldS",
        "outputId": "602da9e0-db8c-459d-89b6-06018ad7bf71"
      },
      "source": [
        "#Uso de mask con el ejemplo de los impares. \n",
        "mask=impares_dos>10\n",
        "impares[mask] #para filtrar esos valores"
      ],
      "execution_count": null,
      "outputs": [
        {
          "output_type": "execute_result",
          "data": {
            "text/plain": [
              "5    11\n",
              "6    13\n",
              "7    15\n",
              "dtype: int64"
            ]
          },
          "metadata": {
            "tags": []
          },
          "execution_count": 47
        }
      ]
    },
    {
      "cell_type": "markdown",
      "metadata": {
        "id": "xfu4hK1jws2W"
      },
      "source": [
        "El objeto Series es mucho mas rapido, consume menos memoria y tiene más métodos que una lista.\n",
        "\n",
        "Tambien tiene muchas similitudes con Numpy array\n",
        "\n",
        "**Proceso CLAB (Creacion, Lectura, Actualizacion, Borrado)**"
      ]
    },
    {
      "cell_type": "code",
      "metadata": {
        "colab": {
          "base_uri": "https://localhost:8080/"
        },
        "id": "HR_rbv-70oQ1",
        "outputId": "3d88e668-6f63-4b57-bbfb-2cd7e6550bfe"
      },
      "source": [
        "#Diccionarios\n",
        "g2=pd.Series({\"1994\":7, \"1996\":[1,2]})\n",
        "print(g2)\n",
        "print(g2[\"1996\"])\n",
        "print(g2[\"1994\"])"
      ],
      "execution_count": 11,
      "outputs": [
        {
          "output_type": "stream",
          "text": [
            "1994         7\n",
            "1996    [1, 2]\n",
            "dtype: object\n",
            "[1, 2]\n",
            "7\n"
          ],
          "name": "stdout"
        }
      ]
    },
    {
      "cell_type": "code",
      "metadata": {
        "colab": {
          "base_uri": "https://localhost:8080/"
        },
        "id": "bbs7JZff1Me8",
        "outputId": "000d5f1d-e16b-49c1-ccac-eafd2fbdeccf"
      },
      "source": [
        "#Llamando un elemento en especifico. \n",
        "g2[\"1994\"]"
      ],
      "execution_count": null,
      "outputs": [
        {
          "output_type": "execute_result",
          "data": {
            "text/plain": [
              "7"
            ]
          },
          "metadata": {
            "tags": []
          },
          "execution_count": 35
        }
      ]
    },
    {
      "cell_type": "code",
      "metadata": {
        "colab": {
          "base_uri": "https://localhost:8080/"
        },
        "id": "JUgXHjFfxLFL",
        "outputId": "826e2b1b-d024-4234-e6bb-a91a1a536f47"
      },
      "source": [
        "# Creacion\n",
        "cidys = pd.Series([10, 7, 1, 22],\\\n",
        "                        index=['1968', '1969', '1970', '1970'],\\\n",
        "                        name='Per')\n",
        "for i in cidys:\n",
        "  print(i)"
      ],
      "execution_count": 18,
      "outputs": [
        {
          "output_type": "stream",
          "text": [
            "10\n",
            "7\n",
            "1\n",
            "22\n"
          ],
          "name": "stdout"
        }
      ]
    },
    {
      "cell_type": "code",
      "metadata": {
        "colab": {
          "base_uri": "https://localhost:8080/"
        },
        "id": "dW1SRSQWyH_s",
        "outputId": "e846787d-677f-4e17-8b64-6ce2951a69e8"
      },
      "source": [
        "print(22 in cidys) # no hay 22 dentro de los indices. \n",
        "print('1970' in cidys) # Si hay 1970 dentro de los indices. \n",
        "print(22 in set(cidys)) #en los valores si hay 22\n",
        "print(22 in cidys.values) #en los valores si hay 22\n",
        "# Se pueden hacer iteraciones sobre tuplas index, valor\n",
        "for item in cidys.iteritems():\n",
        "  print(item)"
      ],
      "execution_count": null,
      "outputs": [
        {
          "output_type": "stream",
          "text": [
            "False\n",
            "True\n",
            "True\n",
            "True\n",
            "('1968', 10)\n",
            "('1969', 7)\n",
            "('1970', 1)\n",
            "('1970', 22)\n"
          ],
          "name": "stdout"
        }
      ]
    },
    {
      "cell_type": "code",
      "metadata": {
        "colab": {
          "base_uri": "https://localhost:8080/"
        },
        "id": "h5b2Z5pc5Zam",
        "outputId": "258d7297-d265-43f4-883b-ea88d047528f"
      },
      "source": [
        "#Modificación\n",
        "anios=pd.Series([10, 7, 1, 22],index=['1968', '1969', '1970', '1970'])\n",
        "anios['1970']=5 #se actualizo el valor\n",
        "anios"
      ],
      "execution_count": 15,
      "outputs": [
        {
          "output_type": "execute_result",
          "data": {
            "text/plain": [
              "1968    10\n",
              "1969     7\n",
              "1970     5\n",
              "1970     5\n",
              "dtype: int64"
            ]
          },
          "metadata": {},
          "execution_count": 15
        }
      ]
    },
    {
      "cell_type": "code",
      "metadata": {
        "colab": {
          "base_uri": "https://localhost:8080/"
        },
        "id": "1PCgEER2zNt0",
        "outputId": "50ecbafc-e86c-4cd1-8283-db61a98dc8ee"
      },
      "source": [
        "# Actualizacion\n",
        "cidys['1969'] = 6\n",
        "print(cidys['1969'])\n",
        "print(cidys)"
      ],
      "execution_count": null,
      "outputs": [
        {
          "output_type": "stream",
          "text": [
            "6\n",
            "1968    10\n",
            "1969     6\n",
            "1970     1\n",
            "1970     2\n",
            "Name: Per, dtype: int64\n"
          ],
          "name": "stdout"
        }
      ]
    },
    {
      "cell_type": "code",
      "metadata": {
        "colab": {
          "base_uri": "https://localhost:8080/"
        },
        "id": "8PYzkY-d6Bx7",
        "outputId": "ca1e05e7-2309-4679-9b93-785ab9d9557e"
      },
      "source": [
        "#Creando o agregando un nuevo valor\n",
        "cidys=cidys.append(pd.Series({\"2000\":9}))\n",
        "print(cidys) "
      ],
      "execution_count": null,
      "outputs": [
        {
          "output_type": "stream",
          "text": [
            "1968    10\n",
            "1969     7\n",
            "1970     1\n",
            "1970     2\n",
            "2000     9\n",
            "dtype: int64\n"
          ],
          "name": "stdout"
        }
      ]
    },
    {
      "cell_type": "code",
      "metadata": {
        "colab": {
          "base_uri": "https://localhost:8080/"
        },
        "id": "9HQngZK-6d-l",
        "outputId": "f2e7d507-2958-408e-9005-3a28b4cafed6"
      },
      "source": [
        "#Para eliminar un elemento\n",
        "del cidys[\"2000\"]\n",
        "print(cidys)"
      ],
      "execution_count": null,
      "outputs": [
        {
          "output_type": "stream",
          "text": [
            "1968    10\n",
            "1969     7\n",
            "1970     1\n",
            "1970     2\n",
            "dtype: int64\n"
          ],
          "name": "stdout"
        }
      ]
    },
    {
      "cell_type": "code",
      "metadata": {
        "colab": {
          "base_uri": "https://localhost:8080/"
        },
        "id": "Rz4AVHUU0oq5",
        "outputId": "cc56fbcc-b6ef-424e-f3fd-b0b037704b53"
      },
      "source": [
        "#Filtros - para evitar la mascara\n",
        "cidys[cidys <= 2]"
      ],
      "execution_count": null,
      "outputs": [
        {
          "output_type": "execute_result",
          "data": {
            "text/plain": [
              "1970    1\n",
              "1970    2\n",
              "dtype: int64"
            ]
          },
          "metadata": {},
          "execution_count": 30
        }
      ]
    },
    {
      "cell_type": "markdown",
      "metadata": {
        "id": "iT5wu3i_15vH"
      },
      "source": [
        "# **Indexamiento de series**\n",
        "El atributo .iloc sirve para encontrar la posicion de los indices\n",
        "\n",
        "Por el contrario .loc permite encontrar los labels en el indice"
      ]
    },
    {
      "cell_type": "code",
      "metadata": {
        "colab": {
          "base_uri": "https://localhost:8080/"
        },
        "id": "AsDkGt1yz57O",
        "outputId": "92c9c91c-f14b-49ae-e8ef-689e40a33880"
      },
      "source": [
        "# Actualizando un indice duplicado \n",
        "cidys['1970'] = 2\n",
        "print(cidys)\n",
        "cidys = pd.Series([10, 7, 1, 22],index=['1968', '1969', '1970', '1970'])\n",
        "cidys.iloc[3] = 2 #Para actualizar solo un valor\n",
        "print(cidys)"
      ],
      "execution_count": 19,
      "outputs": [
        {
          "output_type": "stream",
          "text": [
            "1968    10\n",
            "1969     7\n",
            "1970     2\n",
            "1970     2\n",
            "Name: Per, dtype: int64\n",
            "1968    10\n",
            "1969     7\n",
            "1970     1\n",
            "1970     2\n",
            "dtype: int64\n"
          ],
          "name": "stdout"
        }
      ]
    },
    {
      "cell_type": "code",
      "metadata": {
        "colab": {
          "base_uri": "https://localhost:8080/"
        },
        "id": "dZzDrP3a72Nk",
        "outputId": "6dfca6dc-22d7-4e91-f219-62bee1aaf8cd"
      },
      "source": [
        "cidys.loc[\"1968\"]"
      ],
      "execution_count": 20,
      "outputs": [
        {
          "output_type": "execute_result",
          "data": {
            "text/plain": [
              "10"
            ]
          },
          "metadata": {},
          "execution_count": 20
        }
      ]
    },
    {
      "cell_type": "code",
      "metadata": {
        "colab": {
          "base_uri": "https://localhost:8080/"
        },
        "id": "l-Kl33Wh7qKU",
        "outputId": "bd7b6a5d-6295-4a55-8d0c-03b7d25c74c0"
      },
      "source": [
        "cidys.iloc[0:2]"
      ],
      "execution_count": null,
      "outputs": [
        {
          "output_type": "execute_result",
          "data": {
            "text/plain": [
              "1968    10\n",
              "1969     7\n",
              "dtype: int64"
            ]
          },
          "metadata": {},
          "execution_count": 35
        }
      ]
    },
    {
      "cell_type": "code",
      "metadata": {
        "colab": {
          "base_uri": "https://localhost:8080/"
        },
        "id": "E6uWIdiLA_VZ",
        "outputId": "8eba7e70-f53a-4c0a-c709-2f4a30f37249"
      },
      "source": [
        "cidys.iloc[0]"
      ],
      "execution_count": 21,
      "outputs": [
        {
          "output_type": "execute_result",
          "data": {
            "text/plain": [
              "10"
            ]
          },
          "metadata": {},
          "execution_count": 21
        }
      ]
    },
    {
      "cell_type": "code",
      "metadata": {
        "colab": {
          "base_uri": "https://localhost:8080/"
        },
        "id": "j4cGNd3g8Lij",
        "outputId": "3e83e935-9c3c-4d9c-d13c-1ffa4ce75884"
      },
      "source": [
        "impares_dos[2:4]"
      ],
      "execution_count": null,
      "outputs": [
        {
          "output_type": "execute_result",
          "data": {
            "text/plain": [
              "2    5\n",
              "3    7\n",
              "dtype: int64"
            ]
          },
          "metadata": {},
          "execution_count": 37
        }
      ]
    },
    {
      "cell_type": "code",
      "metadata": {
        "colab": {
          "base_uri": "https://localhost:8080/"
        },
        "id": "AKIcOdvG9HGE",
        "outputId": "792de05e-2088-4bae-f14c-18f5d38cc36c"
      },
      "source": [
        "impares_dos.iloc[2:4]"
      ],
      "execution_count": null,
      "outputs": [
        {
          "output_type": "execute_result",
          "data": {
            "text/plain": [
              "2    5\n",
              "3    7\n",
              "dtype: int64"
            ]
          },
          "metadata": {
            "tags": []
          },
          "execution_count": 59
        }
      ]
    },
    {
      "cell_type": "code",
      "metadata": {
        "colab": {
          "base_uri": "https://localhost:8080/"
        },
        "id": "NcKSClOf9J-H",
        "outputId": "4689e961-7ffb-47d0-ff9c-6925083c2b55"
      },
      "source": [
        "impares_dos.loc[2:4] #este si es incluyente .Loc es por orden de 0,1,2,3...(ver a las 2:00:00-ejemplo-)"
      ],
      "execution_count": null,
      "outputs": [
        {
          "output_type": "execute_result",
          "data": {
            "text/plain": [
              "2    5\n",
              "3    7\n",
              "4    9\n",
              "dtype: int64"
            ]
          },
          "metadata": {
            "tags": []
          },
          "execution_count": 60
        }
      ]
    },
    {
      "cell_type": "markdown",
      "metadata": {
        "id": "VFr_f6Xg2UnZ"
      },
      "source": [
        "Existen otros metodos llamados **.at** y **.iat** que son los analodos a .loc y .iloc solo que devuelven como resultado un objeto numpy.ndarray"
      ]
    },
    {
      "cell_type": "code",
      "metadata": {
        "colab": {
          "base_uri": "https://localhost:8080/"
        },
        "id": "Rc7EacE12akG",
        "outputId": "8fc37a3a-bf15-48ee-d8bf-ec8b7f33b494"
      },
      "source": [
        "cidys = pd.Series([10, 7, 1, 22],index=['1968', '1969', '1970', '1970'])\n",
        "cidys.at['1969']"
      ],
      "execution_count": null,
      "outputs": [
        {
          "output_type": "execute_result",
          "data": {
            "text/plain": [
              "7"
            ]
          },
          "metadata": {},
          "execution_count": 39
        }
      ]
    },
    {
      "cell_type": "code",
      "metadata": {
        "colab": {
          "base_uri": "https://localhost:8080/"
        },
        "id": "kBXPlCOP3LLf",
        "outputId": "bdbc437e-2307-47d2-d2b1-e309afc0f0a6"
      },
      "source": [
        "print(cidys.iloc[0:2])\n",
        "print(cidys.iloc[::3])\n",
        "print(cidys.iloc[:-2])"
      ],
      "execution_count": null,
      "outputs": [
        {
          "output_type": "stream",
          "text": [
            "1968    10\n",
            "1969     7\n",
            "dtype: int64\n",
            "1968    10\n",
            "1970    22\n",
            "dtype: int64\n",
            "1968    10\n",
            "1969     7\n",
            "dtype: int64\n"
          ],
          "name": "stdout"
        }
      ]
    },
    {
      "cell_type": "code",
      "metadata": {
        "colab": {
          "base_uri": "https://localhost:8080/"
        },
        "id": "HeOkrxbH3ZIV",
        "outputId": "b6895910-9d6a-4626-b346-81720397a817"
      },
      "source": [
        "mask = cidys > 7 #se fija en los indices. \n",
        "print(mask)\n",
        "print(cidys[mask])\n",
        "#Se conoce como BROADCASTING cuando se aplica cualquier operacion a todos los\n",
        "#elementos de una serie. \n",
        "cidys +2 # Otro ejemplo de broadcasting, se le sumo 2 a los indices. "
      ],
      "execution_count": null,
      "outputs": [
        {
          "output_type": "stream",
          "text": [
            "1968     True\n",
            "1969    False\n",
            "1970    False\n",
            "1970     True\n",
            "dtype: bool\n",
            "1968    10\n",
            "1970    22\n",
            "dtype: int64\n"
          ],
          "name": "stdout"
        },
        {
          "output_type": "execute_result",
          "data": {
            "text/plain": [
              "1968    12\n",
              "1969     9\n",
              "1970     3\n",
              "1970    24\n",
              "dtype: int64"
            ]
          },
          "metadata": {},
          "execution_count": 46
        }
      ]
    },
    {
      "cell_type": "markdown",
      "metadata": {
        "id": "r9sthEuH4IVw"
      },
      "source": [
        "**Operaciones logicas**\n",
        "and/or/not"
      ]
    },
    {
      "cell_type": "code",
      "metadata": {
        "colab": {
          "base_uri": "https://localhost:8080/"
        },
        "id": "OHIVc4dd36iX",
        "outputId": "7b967f93-94ff-48ae-fe45-e36f1229e073"
      },
      "source": [
        "print(cidys[mask | cidys <= 2])\n",
        "print('-----------') #REVISAR\n",
        "print(cidys[mask | (cidys <= 2)])"
      ],
      "execution_count": null,
      "outputs": [
        {
          "output_type": "stream",
          "text": [
            "1968    10\n",
            "1969     7\n",
            "1970     1\n",
            "1970    22\n",
            "dtype: int64\n",
            "-----------\n",
            "1968    10\n",
            "1970     1\n",
            "1970    22\n",
            "dtype: int64\n"
          ],
          "name": "stdout"
        }
      ]
    },
    {
      "cell_type": "markdown",
      "metadata": {
        "id": "EO_UNYob5CSH"
      },
      "source": [
        "# Métodos de series"
      ]
    },
    {
      "cell_type": "code",
      "metadata": {
        "colab": {
          "base_uri": "https://localhost:8080/"
        },
        "id": "DtTEWRSC5Ggq",
        "outputId": "b11949a5-2c4d-4844-96c2-9da9993fe3bb"
      },
      "source": [
        "import pandas as pd\n",
        "juan = pd.Series([3, None , 11, 9],\\\n",
        "                     index=['David', 'Pedro', 'Ju', 'Lin'],\\\n",
        "                     name='Counts')\n",
        "for value in juan: \n",
        "  print(value)"
      ],
      "execution_count": null,
      "outputs": [
        {
          "output_type": "stream",
          "text": [
            "3.0\n",
            "nan\n",
            "11.0\n",
            "9.0\n"
          ],
          "name": "stdout"
        }
      ]
    },
    {
      "cell_type": "code",
      "metadata": {
        "colab": {
          "base_uri": "https://localhost:8080/"
        },
        "id": "WpnNaxM65Sq3",
        "outputId": "8792b9d6-b5c1-4f40-df22-8f95c018ddef"
      },
      "source": [
        "for idx, value in juan.iteritems(): #iterar en indices y valores\n",
        "  print('indice: ',idx, '\\tValor: ' , value)"
      ],
      "execution_count": null,
      "outputs": [
        {
          "output_type": "stream",
          "text": [
            "indice:  David \tValor:  3.0\n",
            "indice:  Pedro \tValor:  nan\n",
            "indice:  Ju \tValor:  11.0\n",
            "indice:  Lin \tValor:  9.0\n"
          ],
          "name": "stdout"
        }
      ]
    },
    {
      "cell_type": "code",
      "metadata": {
        "colab": {
          "base_uri": "https://localhost:8080/"
        },
        "id": "hNhF9dlq5cI0",
        "outputId": "5e590439-0a42-409b-faf7-22306368da26"
      },
      "source": [
        "for idx in juan.keys():\n",
        "  print(idx)"
      ],
      "execution_count": null,
      "outputs": [
        {
          "output_type": "stream",
          "text": [
            "David\n",
            "Pedro\n",
            "Ju\n",
            "Lin\n"
          ],
          "name": "stdout"
        }
      ]
    },
    {
      "cell_type": "code",
      "metadata": {
        "colab": {
          "base_uri": "https://localhost:8080/"
        },
        "id": "mI9P1WrE5fQh",
        "outputId": "c92ffcae-7053-4c14-a82f-e45d2c89f7b1"
      },
      "source": [
        "print(juan.get('David'))\n",
        "print(juan.David)"
      ],
      "execution_count": null,
      "outputs": [
        {
          "output_type": "stream",
          "text": [
            "3.0\n",
            "3.0\n"
          ],
          "name": "stdout"
        }
      ]
    },
    {
      "cell_type": "code",
      "metadata": {
        "colab": {
          "base_uri": "https://localhost:8080/"
        },
        "id": "VbeQmEz98QSW",
        "outputId": "ebf90ddd-e3d0-43c7-e4dc-21097a0e9e42"
      },
      "source": [
        "#Fechas\n",
        "fechas = pd.to_datetime(pd.Series(['Sep 7, 2001',\\\n",
        "                            '9/8/2001', '9-9-2001', '10th of September 2001',\\\n",
        "                            'Once de Septiembre 2001']), errors='coerce')\n",
        "fechas"
      ],
      "execution_count": null,
      "outputs": [
        {
          "output_type": "execute_result",
          "data": {
            "text/plain": [
              "0   2001-09-07\n",
              "1   2001-09-08\n",
              "2   2001-09-09\n",
              "3   2001-09-10\n",
              "4          NaT\n",
              "dtype: datetime64[ns]"
            ]
          },
          "metadata": {},
          "execution_count": 57
        }
      ]
    },
    {
      "cell_type": "code",
      "metadata": {
        "colab": {
          "base_uri": "https://localhost:8080/"
        },
        "id": "nvNAHhCt8UBx",
        "outputId": "1b1fa839-e429-4858-94b5-427fe18f2e56"
      },
      "source": [
        "fechas[fechas >= '2001-09-09']"
      ],
      "execution_count": null,
      "outputs": [
        {
          "output_type": "execute_result",
          "data": {
            "text/plain": [
              "2   2001-09-09\n",
              "3   2001-09-10\n",
              "dtype: datetime64[ns]"
            ]
          },
          "metadata": {},
          "execution_count": 58
        }
      ]
    },
    {
      "cell_type": "code",
      "metadata": {
        "colab": {
          "base_uri": "https://localhost:8080/"
        },
        "id": "IWJgMpw08ipB",
        "outputId": "b47bfe3a-dd7f-4864-d275-f4b5155e188f"
      },
      "source": [
        "cumple = pd.to_datetime(pd.Series(['09-04-1994', '09-19-1968', '12-26-1966'], index=['yo', 'mamá', 'papá']))\n",
        "cumple"
      ],
      "execution_count": null,
      "outputs": [
        {
          "output_type": "execute_result",
          "data": {
            "text/plain": [
              "yo     1994-09-04\n",
              "mamá   1968-09-19\n",
              "papá   1966-12-26\n",
              "dtype: datetime64[ns]"
            ]
          },
          "metadata": {},
          "execution_count": 61
        }
      ]
    },
    {
      "cell_type": "code",
      "metadata": {
        "colab": {
          "base_uri": "https://localhost:8080/"
        },
        "id": "AqBiO8Nt5pfx",
        "outputId": "c87fefae-878d-45c9-ff35-50a56c9a5118"
      },
      "source": [
        "# Uso de counts\n",
        "jj = pd.Series([67.3, 100, 96.7, None, 100],\\\n",
        "               index=['R', 'P', 'G', 'P', 'B'],\\\n",
        "               name='test2')\n",
        "print(jj.count())\n",
        "print('----')\n",
        "print(jj.value_counts())\n",
        "print('----')\n",
        "print(jj.unique()) #no tuvo en cuenta el segundo 100\n",
        "print('----')\n",
        "print(jj.drop_duplicates())\n",
        "print('----')\n",
        "print(jj.duplicated())#Hay dos 100"
      ],
      "execution_count": null,
      "outputs": [
        {
          "output_type": "stream",
          "text": [
            "4\n",
            "----\n",
            "100.0    2\n",
            "96.7     1\n",
            "67.3     1\n",
            "Name: test2, dtype: int64\n",
            "----\n",
            "[ 67.3 100.   96.7   nan]\n",
            "----\n",
            "R     67.3\n",
            "P    100.0\n",
            "G     96.7\n",
            "P      NaN\n",
            "Name: test2, dtype: float64\n",
            "----\n",
            "R    False\n",
            "P    False\n",
            "G    False\n",
            "P    False\n",
            "B     True\n",
            "Name: test2, dtype: bool\n"
          ],
          "name": "stdout"
        }
      ]
    },
    {
      "cell_type": "code",
      "metadata": {
        "colab": {
          "base_uri": "https://localhost:8080/"
        },
        "id": "MRMS6-ra5_Hp",
        "outputId": "c313f176-47a9-4588-adbe-2c0115eb3498"
      },
      "source": [
        "print(jj.groupby(jj.index).first())\n",
        "print('-----------')\n",
        "print(jj.groupby(jj.index).last())"
      ],
      "execution_count": null,
      "outputs": [
        {
          "output_type": "stream",
          "text": [
            "B    100.0\n",
            "G     96.7\n",
            "P    100.0\n",
            "R     67.3\n",
            "Name: test2, dtype: float64\n",
            "-----------\n",
            "B    100.0\n",
            "G     96.7\n",
            "P    100.0\n",
            "R     67.3\n",
            "Name: test2, dtype: float64\n"
          ],
          "name": "stdout"
        }
      ]
    },
    {
      "cell_type": "code",
      "metadata": {
        "colab": {
          "base_uri": "https://localhost:8080/"
        },
        "id": "eqIMIcyz6S5E",
        "outputId": "bf91f4cc-9b2e-4ba2-af0e-bdc117e1d073"
      },
      "source": [
        "# Funciones estadisticas\n",
        "print(jj.mean()) #promedio\n",
        "print(jj.median()) #la media\n",
        "print(jj.quantile()) #cuantil"
      ],
      "execution_count": null,
      "outputs": [
        {
          "output_type": "stream",
          "text": [
            "91.0\n",
            "98.35\n",
            "98.35\n"
          ],
          "name": "stdout"
        }
      ]
    },
    {
      "cell_type": "code",
      "metadata": {
        "colab": {
          "base_uri": "https://localhost:8080/"
        },
        "id": "AxtYA0VS6rCq",
        "outputId": "772d7fb3-ed5d-4519-f42f-faed45ab742c"
      },
      "source": [
        "print(jj.quantile(0.1))\n",
        "print(jj.quantile(0.9))"
      ],
      "execution_count": null,
      "outputs": [
        {
          "output_type": "stream",
          "text": [
            "76.12\n",
            "100.0\n"
          ],
          "name": "stdout"
        }
      ]
    },
    {
      "cell_type": "code",
      "metadata": {
        "colab": {
          "base_uri": "https://localhost:8080/"
        },
        "id": "QdOJacNv68QU",
        "outputId": "37a3f27f-aed0-489a-9a8d-3f02238ea63d"
      },
      "source": [
        "print(jj.describe())\n",
        "print('-----------')\n",
        "print(jj.describe(percentiles=[0.05,0.1,0.2]))\n",
        "print('------------')\n",
        "print(jj.min())\n",
        "print('------------')\n",
        "print(jj.idxmin())\n",
        "print('------------')\n",
        "print(jj.max())\n",
        "print('------------')\n",
        "print(jj.idxmax())"
      ],
      "execution_count": null,
      "outputs": [
        {
          "output_type": "stream",
          "text": [
            "count      4.000000\n",
            "mean      91.000000\n",
            "std       15.876398\n",
            "min       67.300000\n",
            "25%       89.350000\n",
            "50%       98.350000\n",
            "75%      100.000000\n",
            "max      100.000000\n",
            "Name: test2, dtype: float64\n",
            "-----------\n",
            "count      4.000000\n",
            "mean      91.000000\n",
            "std       15.876398\n",
            "min       67.300000\n",
            "5%        71.710000\n",
            "10%       76.120000\n",
            "20%       84.940000\n",
            "50%       98.350000\n",
            "max      100.000000\n",
            "Name: test2, dtype: float64\n",
            "------------\n",
            "67.3\n",
            "------------\n",
            "R\n",
            "------------\n",
            "100.0\n",
            "------------\n",
            "P\n"
          ],
          "name": "stdout"
        }
      ]
    },
    {
      "cell_type": "code",
      "metadata": {
        "colab": {
          "base_uri": "https://localhost:8080/"
        },
        "id": "p241vnJ29cIO",
        "outputId": "7326c5e3-08c1-4832-9292-3a0dee67e3b8"
      },
      "source": [
        "# Lidiar con Nas\n",
        "print(jj.fillna(-1))\n",
        "print(jj.dropna())\n",
        "val_mask = jj.notnull()\n",
        "val_mask\n",
        "jj[val_mask]"
      ],
      "execution_count": null,
      "outputs": [
        {
          "output_type": "stream",
          "text": [
            "R     67.3\n",
            "P    100.0\n",
            "G     96.7\n",
            "P     -1.0\n",
            "B    100.0\n",
            "Name: test2, dtype: float64\n",
            "R     67.3\n",
            "P    100.0\n",
            "G     96.7\n",
            "B    100.0\n",
            "Name: test2, dtype: float64\n"
          ],
          "name": "stdout"
        },
        {
          "output_type": "execute_result",
          "data": {
            "text/plain": [
              "R     67.3\n",
              "P    100.0\n",
              "G     96.7\n",
              "B    100.0\n",
              "Name: test2, dtype: float64"
            ]
          },
          "metadata": {},
          "execution_count": 62
        }
      ]
    },
    {
      "cell_type": "code",
      "metadata": {
        "colab": {
          "base_uri": "https://localhost:8080/"
        },
        "id": "T3EVfNQa_Ox8",
        "outputId": "c03ab04d-2fd8-4fb4-a70a-ae3150e37d4e"
      },
      "source": [
        "# Sorting\n",
        "jj = pd.Series([67.3, 100, 96.7, None, 100],\\\n",
        "               index=['R', 'P', 'G', 'P', 'B'],\\\n",
        "               name='test2')\n",
        "orig = jj.copy()\n",
        "print(orig.sort_values()) #ordenando los valores de menor a mayor\n",
        "print(orig.sort_values(ascending=False))  #ordenando los valores de mayor a menor\n",
        "print(orig.sort_index())\n",
        "print(orig.sort_index(ascending=False))\n",
        "#print(orig.rank())"
      ],
      "execution_count": null,
      "outputs": [
        {
          "output_type": "stream",
          "text": [
            "R     67.3\n",
            "G     96.7\n",
            "P    100.0\n",
            "B    100.0\n",
            "P      NaN\n",
            "Name: test2, dtype: float64\n",
            "B    100.0\n",
            "P    100.0\n",
            "G     96.7\n",
            "R     67.3\n",
            "P      NaN\n",
            "Name: test2, dtype: float64\n",
            "B    100.0\n",
            "G     96.7\n",
            "P    100.0\n",
            "P      NaN\n",
            "R     67.3\n",
            "Name: test2, dtype: float64\n",
            "R     67.3\n",
            "P    100.0\n",
            "P      NaN\n",
            "G     96.7\n",
            "B    100.0\n",
            "Name: test2, dtype: float64\n"
          ],
          "name": "stdout"
        }
      ]
    },
    {
      "cell_type": "code",
      "metadata": {
        "colab": {
          "base_uri": "https://localhost:8080/"
        },
        "id": "IfJFV2q1_0fs",
        "outputId": "1043414b-09ec-4f19-9e01-45875b4ea3d5"
      },
      "source": [
        "# Aplicando funciones\n",
        "def format(x): \n",
        "  if x == 1:\n",
        "    template = '{} Alexa'\n",
        "  else:\n",
        "    template = '{} Alexa'\n",
        "  return template.format(x)\n",
        "jj.map(format)"
      ],
      "execution_count": null,
      "outputs": [
        {
          "output_type": "execute_result",
          "data": {
            "text/plain": [
              "R     67.3 Alexa\n",
              "P    100.0 Alexa\n",
              "G     96.7 Alexa\n",
              "P      nan Alexa\n",
              "B    100.0 Alexa\n",
              "Name: test2, dtype: object"
            ]
          },
          "metadata": {},
          "execution_count": 68
        }
      ]
    },
    {
      "cell_type": "code",
      "metadata": {
        "colab": {
          "base_uri": "https://localhost:8080/"
        },
        "id": "-OiytuoXAKQu",
        "outputId": "194eba3f-d2af-431d-b2db-6b315b1be1be"
      },
      "source": [
        "# Operaciones con strings\n",
        "nombres = pd.Series(['Jorge', 'John', 'Paula'])\n",
        "print(nombres.str.lower())\n",
        "print(nombres.str.findall('o'))"
      ],
      "execution_count": null,
      "outputs": [
        {
          "output_type": "stream",
          "text": [
            "0    jorge\n",
            "1     john\n",
            "2    paula\n",
            "dtype: object\n",
            "0    [o]\n",
            "1    [o]\n",
            "2     []\n",
            "dtype: object\n"
          ],
          "name": "stdout"
        }
      ]
    }
  ]
}