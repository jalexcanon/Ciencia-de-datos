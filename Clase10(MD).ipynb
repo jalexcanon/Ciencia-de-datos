{
  "nbformat": 4,
  "nbformat_minor": 0,
  "metadata": {
    "colab": {
      "name": "Clase10(MD).ipynb",
      "provenance": [],
      "authorship_tag": "ABX9TyNIecNnHhSqF1Jz8wlAG/HZ",
      "include_colab_link": true
    },
    "kernelspec": {
      "name": "python3",
      "display_name": "Python 3"
    },
    "language_info": {
      "name": "python"
    }
  },
  "cells": [
    {
      "cell_type": "markdown",
      "metadata": {
        "id": "view-in-github",
        "colab_type": "text"
      },
      "source": [
        "<a href=\"https://colab.research.google.com/github/jalexcanon/MujeresDigitales/blob/master/Clase10(MD).ipynb\" target=\"_parent\"><img src=\"https://colab.research.google.com/assets/colab-badge.svg\" alt=\"Open In Colab\"/></a>"
      ]
    },
    {
      "cell_type": "markdown",
      "metadata": {
        "id": "PttHojftAyrz"
      },
      "source": [
        "# **Dataframes**\n",
        "(conjunto de series)"
      ]
    },
    {
      "cell_type": "code",
      "metadata": {
        "id": "2x-IXZIkOSBd"
      },
      "source": [
        "import pandas as pd\n",
        "import numpy as np #toma solo datos numericos"
      ],
      "execution_count": 2,
      "outputs": []
    },
    {
      "cell_type": "code",
      "metadata": {
        "id": "QCPipSDQA3xA"
      },
      "source": [
        "data = np.array([['', \"col1\", \"col2\",\"col3\",\"col4\"],\n",
        "                 [\"row1\",11,22,33,44],\n",
        "                 [\"row2\",55,66,77,88],\n",
        "                 [\"row3\",99,1010,1111,1212],\n",
        "                 [\"row4\",1313,1414,1515,1616]]) "
      ],
      "execution_count": null,
      "outputs": []
    },
    {
      "cell_type": "code",
      "metadata": {
        "colab": {
          "base_uri": "https://localhost:8080/"
        },
        "id": "fb3Z7VzMOXhl",
        "outputId": "62a36ddc-0ac6-4d13-e5f8-68fc1a1a3b70"
      },
      "source": [
        "data"
      ],
      "execution_count": null,
      "outputs": [
        {
          "output_type": "execute_result",
          "data": {
            "text/plain": [
              "array([['', 'col1', 'col2', 'col3', 'col4'],\n",
              "       ['row1', '11', '22', '33', '44'],\n",
              "       ['row2', '55', '66', '77', '88'],\n",
              "       ['row3', '99', '1010', '1111', '1212'],\n",
              "       ['row4', '1313', '1414', '1515', '1616']], dtype='<U4')"
            ]
          },
          "metadata": {},
          "execution_count": 4
        }
      ]
    },
    {
      "cell_type": "code",
      "metadata": {
        "colab": {
          "base_uri": "https://localhost:8080/",
          "height": 175
        },
        "id": "m_afml-KOYLS",
        "outputId": "90a976f7-9416-48dc-d0e5-436f70e30403"
      },
      "source": [
        "df = pd.DataFrame(data=data[1:,1:], index=data[1:,0], columns=data[0,1:])\n",
        "df"
      ],
      "execution_count": null,
      "outputs": [
        {
          "output_type": "execute_result",
          "data": {
            "text/html": [
              "<div>\n",
              "<style scoped>\n",
              "    .dataframe tbody tr th:only-of-type {\n",
              "        vertical-align: middle;\n",
              "    }\n",
              "\n",
              "    .dataframe tbody tr th {\n",
              "        vertical-align: top;\n",
              "    }\n",
              "\n",
              "    .dataframe thead th {\n",
              "        text-align: right;\n",
              "    }\n",
              "</style>\n",
              "<table border=\"1\" class=\"dataframe\">\n",
              "  <thead>\n",
              "    <tr style=\"text-align: right;\">\n",
              "      <th></th>\n",
              "      <th>col1</th>\n",
              "      <th>col2</th>\n",
              "      <th>col3</th>\n",
              "      <th>col4</th>\n",
              "    </tr>\n",
              "  </thead>\n",
              "  <tbody>\n",
              "    <tr>\n",
              "      <th>row1</th>\n",
              "      <td>11</td>\n",
              "      <td>22</td>\n",
              "      <td>33</td>\n",
              "      <td>44</td>\n",
              "    </tr>\n",
              "    <tr>\n",
              "      <th>row2</th>\n",
              "      <td>55</td>\n",
              "      <td>66</td>\n",
              "      <td>77</td>\n",
              "      <td>88</td>\n",
              "    </tr>\n",
              "    <tr>\n",
              "      <th>row3</th>\n",
              "      <td>99</td>\n",
              "      <td>1010</td>\n",
              "      <td>1111</td>\n",
              "      <td>1212</td>\n",
              "    </tr>\n",
              "    <tr>\n",
              "      <th>row4</th>\n",
              "      <td>1313</td>\n",
              "      <td>1414</td>\n",
              "      <td>1515</td>\n",
              "      <td>1616</td>\n",
              "    </tr>\n",
              "  </tbody>\n",
              "</table>\n",
              "</div>"
            ],
            "text/plain": [
              "      col1  col2  col3  col4\n",
              "row1    11    22    33    44\n",
              "row2    55    66    77    88\n",
              "row3    99  1010  1111  1212\n",
              "row4  1313  1414  1515  1616"
            ]
          },
          "metadata": {},
          "execution_count": 7
        }
      ]
    },
    {
      "cell_type": "code",
      "metadata": {
        "colab": {
          "base_uri": "https://localhost:8080/"
        },
        "id": "ZQPiBCQZOkKc",
        "outputId": "4a739145-62cb-4ca5-eb8b-47e77ae5bdd7"
      },
      "source": [
        "print(df.shape) # Forma 4x4\n",
        "df['col1']['row1'] # coordenadas\n",
        "type(df['col1']) #conjunto de series. El dataframe solo recibe las columnas, por eso no puedo llamar las filas. "
      ],
      "execution_count": null,
      "outputs": [
        {
          "output_type": "stream",
          "text": [
            "(4, 4)\n"
          ],
          "name": "stdout"
        },
        {
          "output_type": "execute_result",
          "data": {
            "text/plain": [
              "pandas.core.series.Series"
            ]
          },
          "metadata": {},
          "execution_count": 9
        }
      ]
    },
    {
      "cell_type": "code",
      "metadata": {
        "colab": {
          "base_uri": "https://localhost:8080/",
          "height": 35
        },
        "id": "66_vqn0uPnqc",
        "outputId": "f2b20222-e046-4953-bf77-d7c274f68372"
      },
      "source": [
        "df.loc['row2','col1']"
      ],
      "execution_count": null,
      "outputs": [
        {
          "output_type": "execute_result",
          "data": {
            "application/vnd.google.colaboratory.intrinsic+json": {
              "type": "string"
            },
            "text/plain": [
              "'55'"
            ]
          },
          "metadata": {},
          "execution_count": 11
        }
      ]
    },
    {
      "cell_type": "code",
      "metadata": {
        "colab": {
          "base_uri": "https://localhost:8080/",
          "height": 35
        },
        "id": "lFuNfwpDP2G2",
        "outputId": "fd157f20-2d6e-4043-db23-cc06b652187f"
      },
      "source": [
        "df.iloc[1,0] #no es con nombres sino con números"
      ],
      "execution_count": null,
      "outputs": [
        {
          "output_type": "execute_result",
          "data": {
            "application/vnd.google.colaboratory.intrinsic+json": {
              "type": "string"
            },
            "text/plain": [
              "'55'"
            ]
          },
          "metadata": {},
          "execution_count": 12
        }
      ]
    },
    {
      "cell_type": "code",
      "metadata": {
        "colab": {
          "base_uri": "https://localhost:8080/"
        },
        "id": "1tTu7zaLTBi6",
        "outputId": "d9489497-fae8-4dc3-bf21-b19ca9da9ad4"
      },
      "source": [
        "for col in df.columns: #para imprimir las columnas\n",
        "  print(col)"
      ],
      "execution_count": null,
      "outputs": [
        {
          "output_type": "stream",
          "text": [
            "col1\n",
            "col2\n",
            "col3\n",
            "col4\n"
          ],
          "name": "stdout"
        }
      ]
    },
    {
      "cell_type": "code",
      "metadata": {
        "colab": {
          "base_uri": "https://localhost:8080/"
        },
        "id": "KKW39VCKQGow",
        "outputId": "30e88a7a-6ccf-4702-9362-4074a529c17e"
      },
      "source": [
        "#Hallar la diagonal - forma manual\n",
        "print(df)\n",
        "print(df.iloc[0,0],df.iloc[1,1],df.iloc[2,2],df.iloc[3,3])"
      ],
      "execution_count": null,
      "outputs": [
        {
          "output_type": "stream",
          "text": [
            "      col1  col2  col3  col4\n",
            "row1    11    22    33    44\n",
            "row2    55    66    77    88\n",
            "row3    99  1010  1111  1212\n",
            "row4  1313  1414  1515  1616\n",
            "11 66 1111 1616\n"
          ],
          "name": "stdout"
        }
      ]
    },
    {
      "cell_type": "code",
      "metadata": {
        "colab": {
          "base_uri": "https://localhost:8080/"
        },
        "id": "29o8oW-8TeXR",
        "outputId": "0993aa70-619f-4d53-c440-c472de77e4a9"
      },
      "source": [
        "#Hallar diagonal con for\n",
        "for i in range(4): #4x4\n",
        "  print(df.iloc[i,i])"
      ],
      "execution_count": null,
      "outputs": [
        {
          "output_type": "stream",
          "text": [
            "11\n",
            "66\n",
            "1111\n",
            "1616\n"
          ],
          "name": "stdout"
        }
      ]
    },
    {
      "cell_type": "code",
      "metadata": {
        "colab": {
          "base_uri": "https://localhost:8080/"
        },
        "id": "8UUC4BicUFLq",
        "outputId": "dbe054db-fa69-4294-92f5-63e5c0741e21"
      },
      "source": [
        "#Hallar diagonal con loc\n",
        "indices=df.index.to_list()\n",
        "columnas=df.columns.to_list()\n",
        "for i in range(4): #4x4\n",
        "  print(df.loc[indices[i],columnas[i]])"
      ],
      "execution_count": null,
      "outputs": [
        {
          "output_type": "stream",
          "text": [
            "11\n",
            "66\n",
            "1111\n",
            "1616\n"
          ],
          "name": "stdout"
        }
      ]
    },
    {
      "cell_type": "code",
      "metadata": {
        "colab": {
          "base_uri": "https://localhost:8080/"
        },
        "id": "5C7hwU0BWL4W",
        "outputId": "2f88cc22-b350-4eb9-8867-2283ab5f293d"
      },
      "source": [
        "df.iloc[0,:].to_list() #la primera fila en lista"
      ],
      "execution_count": null,
      "outputs": [
        {
          "output_type": "execute_result",
          "data": {
            "text/plain": [
              "['11', '22', '33', '44']"
            ]
          },
          "metadata": {},
          "execution_count": 44
        }
      ]
    },
    {
      "cell_type": "code",
      "metadata": {
        "colab": {
          "base_uri": "https://localhost:8080/",
          "height": 175
        },
        "id": "QahkuEOYV7hU",
        "outputId": "5dfefcaf-6cb0-4fc4-dd22-2aed366ff200"
      },
      "source": [
        "df.mean() #promedio de cada columna\n",
        "df.describe() #toma los valores como texto"
      ],
      "execution_count": null,
      "outputs": [
        {
          "output_type": "execute_result",
          "data": {
            "text/html": [
              "<div>\n",
              "<style scoped>\n",
              "    .dataframe tbody tr th:only-of-type {\n",
              "        vertical-align: middle;\n",
              "    }\n",
              "\n",
              "    .dataframe tbody tr th {\n",
              "        vertical-align: top;\n",
              "    }\n",
              "\n",
              "    .dataframe thead th {\n",
              "        text-align: right;\n",
              "    }\n",
              "</style>\n",
              "<table border=\"1\" class=\"dataframe\">\n",
              "  <thead>\n",
              "    <tr style=\"text-align: right;\">\n",
              "      <th></th>\n",
              "      <th>col1</th>\n",
              "      <th>col2</th>\n",
              "      <th>col3</th>\n",
              "      <th>col4</th>\n",
              "    </tr>\n",
              "  </thead>\n",
              "  <tbody>\n",
              "    <tr>\n",
              "      <th>count</th>\n",
              "      <td>4</td>\n",
              "      <td>4</td>\n",
              "      <td>4</td>\n",
              "      <td>4</td>\n",
              "    </tr>\n",
              "    <tr>\n",
              "      <th>unique</th>\n",
              "      <td>4</td>\n",
              "      <td>4</td>\n",
              "      <td>4</td>\n",
              "      <td>4</td>\n",
              "    </tr>\n",
              "    <tr>\n",
              "      <th>top</th>\n",
              "      <td>11</td>\n",
              "      <td>1414</td>\n",
              "      <td>77</td>\n",
              "      <td>1212</td>\n",
              "    </tr>\n",
              "    <tr>\n",
              "      <th>freq</th>\n",
              "      <td>1</td>\n",
              "      <td>1</td>\n",
              "      <td>1</td>\n",
              "      <td>1</td>\n",
              "    </tr>\n",
              "  </tbody>\n",
              "</table>\n",
              "</div>"
            ],
            "text/plain": [
              "       col1  col2 col3  col4\n",
              "count     4     4    4     4\n",
              "unique    4     4    4     4\n",
              "top      11  1414   77  1212\n",
              "freq      1     1    1     1"
            ]
          },
          "metadata": {},
          "execution_count": 46
        }
      ]
    },
    {
      "cell_type": "code",
      "metadata": {
        "colab": {
          "base_uri": "https://localhost:8080/"
        },
        "id": "ZYr8Ym1MXS7L",
        "outputId": "54df8e55-c2fd-43d5-8665-122c77210a7b"
      },
      "source": [
        "print(df)"
      ],
      "execution_count": null,
      "outputs": [
        {
          "output_type": "stream",
          "text": [
            "      col1  col2  col3  col4\n",
            "row1    11    22    33    44\n",
            "row2    55    66    77    88\n",
            "row3    99  1010  1111  1212\n",
            "row4  1313  1414  1515  1616\n"
          ],
          "name": "stdout"
        }
      ]
    },
    {
      "cell_type": "code",
      "metadata": {
        "colab": {
          "base_uri": "https://localhost:8080/"
        },
        "id": "udOvnn8iW62K",
        "outputId": "f1a38475-e30a-4ea3-ee2a-e02d7e53b85c"
      },
      "source": [
        "#diagonal superior\n",
        "for i in range(4):\n",
        "  print(df.iloc[i,i:]) #: imprime hasta el final"
      ],
      "execution_count": null,
      "outputs": [
        {
          "output_type": "stream",
          "text": [
            "col1    11\n",
            "col2    22\n",
            "col3    33\n",
            "col4    44\n",
            "Name: row1, dtype: object\n",
            "col2    66\n",
            "col3    77\n",
            "col4    88\n",
            "Name: row2, dtype: object\n",
            "col3    1111\n",
            "col4    1212\n",
            "Name: row3, dtype: object\n",
            "col4    1616\n",
            "Name: row4, dtype: object\n"
          ],
          "name": "stdout"
        }
      ]
    },
    {
      "cell_type": "code",
      "metadata": {
        "colab": {
          "base_uri": "https://localhost:8080/"
        },
        "id": "j1QR7iJzDE6k",
        "outputId": "1565f1b0-c9a9-409c-ccca-fb8a3098dfb0"
      },
      "source": [
        "# DataFrame = Matriz\n",
        "df2 = pd.DataFrame(np.array([[1,2,3],[4,5,6],[7,8,9]]))\n",
        "print(df2)\n",
        "print(df2.shape)"
      ],
      "execution_count": null,
      "outputs": [
        {
          "output_type": "stream",
          "text": [
            "   0  1  2\n",
            "0  1  2  3\n",
            "1  4  5  6\n",
            "2  7  8  9\n",
            "(3, 3)\n"
          ],
          "name": "stdout"
        }
      ]
    },
    {
      "cell_type": "code",
      "metadata": {
        "colab": {
          "base_uri": "https://localhost:8080/"
        },
        "id": "NMEEXoUmDXg_",
        "outputId": "36806619-410c-4523-cdba-6b8885f62be3"
      },
      "source": [
        "# Serie = data group by variables\n",
        "series = pd.Series({\"Argentina\": \"Buenos Aires\", \"Chile\": \"Santiago de Chile\", \"Colombia\": \"Bogotá\", \"Peru\":\"Lima\", \"Venezuela\":\"Caracas\", \"Mexico\":\"Mexico D.F.\"})\n",
        "print(series)\n",
        "print(series.shape)"
      ],
      "execution_count": null,
      "outputs": [
        {
          "output_type": "stream",
          "text": [
            "Argentina         Buenos Aires\n",
            "Chile        Santiago de Chile\n",
            "Colombia                Bogotá\n",
            "Peru                      Lima\n",
            "Venezuela              Caracas\n",
            "Mexico             Mexico D.F.\n",
            "dtype: object\n",
            "(6,)\n"
          ],
          "name": "stdout"
        }
      ]
    },
    {
      "cell_type": "code",
      "metadata": {
        "colab": {
          "base_uri": "https://localhost:8080/"
        },
        "id": "mDBenwAQDvha",
        "outputId": "aa26ae01-4720-4181-c6cf-1bd43eafd955"
      },
      "source": [
        "series2 = pd.Series({\"Argentina\": [\"Buenos Aires\", \"Rosario\", \"La Plata\"], \"Chile\": \"Santiago de Chile\", \"Colombia\": [\"Bogotá\", \"Medellin\", \"Cali\"], \"Peru\":\"Lima\", \"Venezuela\":\"Caracas\", \"Mexico\":\"Mexico D.F.\"})\n",
        "print(series2)\n",
        "print(series2.shape)"
      ],
      "execution_count": null,
      "outputs": [
        {
          "output_type": "stream",
          "text": [
            "Argentina    [Buenos Aires, Rosario, La Plata]\n",
            "Chile                        Santiago de Chile\n",
            "Colombia              [Bogotá, Medellin, Cali]\n",
            "Peru                                      Lima\n",
            "Venezuela                              Caracas\n",
            "Mexico                             Mexico D.F.\n",
            "dtype: object\n",
            "(6,)\n"
          ],
          "name": "stdout"
        }
      ]
    },
    {
      "cell_type": "code",
      "metadata": {
        "colab": {
          "base_uri": "https://localhost:8080/"
        },
        "id": "N3aUQ5UKD32x",
        "outputId": "ca8d2cef-59eb-4b55-bdac-2bff5d160f50"
      },
      "source": [
        "#construyendo\n",
        "df3 = pd.DataFrame(np.array([[1,2,3,4,5], [6,7,8,9,10],[11,12,13,14,15],[16,17,18,19,20],[21,22,23,24,25]]))\n",
        "print(df3)\n",
        "print(len(df3.index)) # index of dataframe\n",
        "print(len(df3.columns)) # Columns of dataframe"
      ],
      "execution_count": 3,
      "outputs": [
        {
          "output_type": "stream",
          "text": [
            "    0   1   2   3   4\n",
            "0   1   2   3   4   5\n",
            "1   6   7   8   9  10\n",
            "2  11  12  13  14  15\n",
            "3  16  17  18  19  20\n",
            "4  21  22  23  24  25\n",
            "5\n",
            "5\n"
          ],
          "name": "stdout"
        }
      ]
    },
    {
      "cell_type": "code",
      "metadata": {
        "colab": {
          "base_uri": "https://localhost:8080/",
          "height": 300
        },
        "id": "O9dMDUFzF9Ug",
        "outputId": "6bde7196-128d-44b2-bbdc-7b699da1aed9"
      },
      "source": [
        "# Show statistics of my data\n",
        "df3.describe()"
      ],
      "execution_count": null,
      "outputs": [
        {
          "output_type": "execute_result",
          "data": {
            "text/html": [
              "<div>\n",
              "<style scoped>\n",
              "    .dataframe tbody tr th:only-of-type {\n",
              "        vertical-align: middle;\n",
              "    }\n",
              "\n",
              "    .dataframe tbody tr th {\n",
              "        vertical-align: top;\n",
              "    }\n",
              "\n",
              "    .dataframe thead th {\n",
              "        text-align: right;\n",
              "    }\n",
              "</style>\n",
              "<table border=\"1\" class=\"dataframe\">\n",
              "  <thead>\n",
              "    <tr style=\"text-align: right;\">\n",
              "      <th></th>\n",
              "      <th>0</th>\n",
              "      <th>1</th>\n",
              "      <th>2</th>\n",
              "      <th>3</th>\n",
              "      <th>4</th>\n",
              "    </tr>\n",
              "  </thead>\n",
              "  <tbody>\n",
              "    <tr>\n",
              "      <th>count</th>\n",
              "      <td>5.000000</td>\n",
              "      <td>5.000000</td>\n",
              "      <td>5.000000</td>\n",
              "      <td>5.000000</td>\n",
              "      <td>5.000000</td>\n",
              "    </tr>\n",
              "    <tr>\n",
              "      <th>mean</th>\n",
              "      <td>11.000000</td>\n",
              "      <td>12.000000</td>\n",
              "      <td>13.000000</td>\n",
              "      <td>14.000000</td>\n",
              "      <td>15.000000</td>\n",
              "    </tr>\n",
              "    <tr>\n",
              "      <th>std</th>\n",
              "      <td>7.905694</td>\n",
              "      <td>7.905694</td>\n",
              "      <td>7.905694</td>\n",
              "      <td>7.905694</td>\n",
              "      <td>7.905694</td>\n",
              "    </tr>\n",
              "    <tr>\n",
              "      <th>min</th>\n",
              "      <td>1.000000</td>\n",
              "      <td>2.000000</td>\n",
              "      <td>3.000000</td>\n",
              "      <td>4.000000</td>\n",
              "      <td>5.000000</td>\n",
              "    </tr>\n",
              "    <tr>\n",
              "      <th>25%</th>\n",
              "      <td>6.000000</td>\n",
              "      <td>7.000000</td>\n",
              "      <td>8.000000</td>\n",
              "      <td>9.000000</td>\n",
              "      <td>10.000000</td>\n",
              "    </tr>\n",
              "    <tr>\n",
              "      <th>50%</th>\n",
              "      <td>11.000000</td>\n",
              "      <td>12.000000</td>\n",
              "      <td>13.000000</td>\n",
              "      <td>14.000000</td>\n",
              "      <td>15.000000</td>\n",
              "    </tr>\n",
              "    <tr>\n",
              "      <th>75%</th>\n",
              "      <td>16.000000</td>\n",
              "      <td>17.000000</td>\n",
              "      <td>18.000000</td>\n",
              "      <td>19.000000</td>\n",
              "      <td>20.000000</td>\n",
              "    </tr>\n",
              "    <tr>\n",
              "      <th>max</th>\n",
              "      <td>21.000000</td>\n",
              "      <td>22.000000</td>\n",
              "      <td>23.000000</td>\n",
              "      <td>24.000000</td>\n",
              "      <td>25.000000</td>\n",
              "    </tr>\n",
              "  </tbody>\n",
              "</table>\n",
              "</div>"
            ],
            "text/plain": [
              "               0          1          2          3          4\n",
              "count   5.000000   5.000000   5.000000   5.000000   5.000000\n",
              "mean   11.000000  12.000000  13.000000  14.000000  15.000000\n",
              "std     7.905694   7.905694   7.905694   7.905694   7.905694\n",
              "min     1.000000   2.000000   3.000000   4.000000   5.000000\n",
              "25%     6.000000   7.000000   8.000000   9.000000  10.000000\n",
              "50%    11.000000  12.000000  13.000000  14.000000  15.000000\n",
              "75%    16.000000  17.000000  18.000000  19.000000  20.000000\n",
              "max    21.000000  22.000000  23.000000  24.000000  25.000000"
            ]
          },
          "metadata": {},
          "execution_count": 15
        }
      ]
    },
    {
      "cell_type": "code",
      "metadata": {
        "colab": {
          "base_uri": "https://localhost:8080/",
          "height": 300
        },
        "id": "zkGnnugG9qzn",
        "outputId": "3cf32e75-ebcf-4f42-932a-277609a9ff7e"
      },
      "source": [
        "df4 = pd.DataFrame(np.random.randint(0,50,size=(100,5)))\n",
        "df4.describe()"
      ],
      "execution_count": 5,
      "outputs": [
        {
          "output_type": "execute_result",
          "data": {
            "text/html": [
              "<div>\n",
              "<style scoped>\n",
              "    .dataframe tbody tr th:only-of-type {\n",
              "        vertical-align: middle;\n",
              "    }\n",
              "\n",
              "    .dataframe tbody tr th {\n",
              "        vertical-align: top;\n",
              "    }\n",
              "\n",
              "    .dataframe thead th {\n",
              "        text-align: right;\n",
              "    }\n",
              "</style>\n",
              "<table border=\"1\" class=\"dataframe\">\n",
              "  <thead>\n",
              "    <tr style=\"text-align: right;\">\n",
              "      <th></th>\n",
              "      <th>0</th>\n",
              "      <th>1</th>\n",
              "      <th>2</th>\n",
              "      <th>3</th>\n",
              "      <th>4</th>\n",
              "    </tr>\n",
              "  </thead>\n",
              "  <tbody>\n",
              "    <tr>\n",
              "      <th>count</th>\n",
              "      <td>100.000000</td>\n",
              "      <td>100.000000</td>\n",
              "      <td>100.000000</td>\n",
              "      <td>100.00000</td>\n",
              "      <td>100.000000</td>\n",
              "    </tr>\n",
              "    <tr>\n",
              "      <th>mean</th>\n",
              "      <td>24.770000</td>\n",
              "      <td>24.860000</td>\n",
              "      <td>22.720000</td>\n",
              "      <td>24.35000</td>\n",
              "      <td>23.520000</td>\n",
              "    </tr>\n",
              "    <tr>\n",
              "      <th>std</th>\n",
              "      <td>14.321598</td>\n",
              "      <td>14.856907</td>\n",
              "      <td>14.559582</td>\n",
              "      <td>15.09992</td>\n",
              "      <td>14.951423</td>\n",
              "    </tr>\n",
              "    <tr>\n",
              "      <th>min</th>\n",
              "      <td>0.000000</td>\n",
              "      <td>0.000000</td>\n",
              "      <td>0.000000</td>\n",
              "      <td>0.00000</td>\n",
              "      <td>0.000000</td>\n",
              "    </tr>\n",
              "    <tr>\n",
              "      <th>25%</th>\n",
              "      <td>11.750000</td>\n",
              "      <td>13.000000</td>\n",
              "      <td>9.000000</td>\n",
              "      <td>13.00000</td>\n",
              "      <td>10.750000</td>\n",
              "    </tr>\n",
              "    <tr>\n",
              "      <th>50%</th>\n",
              "      <td>28.000000</td>\n",
              "      <td>26.500000</td>\n",
              "      <td>22.500000</td>\n",
              "      <td>24.50000</td>\n",
              "      <td>23.000000</td>\n",
              "    </tr>\n",
              "    <tr>\n",
              "      <th>75%</th>\n",
              "      <td>35.000000</td>\n",
              "      <td>37.000000</td>\n",
              "      <td>35.000000</td>\n",
              "      <td>38.00000</td>\n",
              "      <td>36.000000</td>\n",
              "    </tr>\n",
              "    <tr>\n",
              "      <th>max</th>\n",
              "      <td>49.000000</td>\n",
              "      <td>49.000000</td>\n",
              "      <td>48.000000</td>\n",
              "      <td>49.00000</td>\n",
              "      <td>49.000000</td>\n",
              "    </tr>\n",
              "  </tbody>\n",
              "</table>\n",
              "</div>"
            ],
            "text/plain": [
              "                0           1           2          3           4\n",
              "count  100.000000  100.000000  100.000000  100.00000  100.000000\n",
              "mean    24.770000   24.860000   22.720000   24.35000   23.520000\n",
              "std     14.321598   14.856907   14.559582   15.09992   14.951423\n",
              "min      0.000000    0.000000    0.000000    0.00000    0.000000\n",
              "25%     11.750000   13.000000    9.000000   13.00000   10.750000\n",
              "50%     28.000000   26.500000   22.500000   24.50000   23.000000\n",
              "75%     35.000000   37.000000   35.000000   38.00000   36.000000\n",
              "max     49.000000   49.000000   48.000000   49.00000   49.000000"
            ]
          },
          "metadata": {},
          "execution_count": 5
        }
      ]
    },
    {
      "cell_type": "code",
      "metadata": {
        "colab": {
          "base_uri": "https://localhost:8080/",
          "height": 206
        },
        "id": "QUMLJYBp99UQ",
        "outputId": "436072d2-8ca4-49fc-e3df-30c81b0ff4e9"
      },
      "source": [
        "df4.corr()"
      ],
      "execution_count": 6,
      "outputs": [
        {
          "output_type": "execute_result",
          "data": {
            "text/html": [
              "<div>\n",
              "<style scoped>\n",
              "    .dataframe tbody tr th:only-of-type {\n",
              "        vertical-align: middle;\n",
              "    }\n",
              "\n",
              "    .dataframe tbody tr th {\n",
              "        vertical-align: top;\n",
              "    }\n",
              "\n",
              "    .dataframe thead th {\n",
              "        text-align: right;\n",
              "    }\n",
              "</style>\n",
              "<table border=\"1\" class=\"dataframe\">\n",
              "  <thead>\n",
              "    <tr style=\"text-align: right;\">\n",
              "      <th></th>\n",
              "      <th>0</th>\n",
              "      <th>1</th>\n",
              "      <th>2</th>\n",
              "      <th>3</th>\n",
              "      <th>4</th>\n",
              "    </tr>\n",
              "  </thead>\n",
              "  <tbody>\n",
              "    <tr>\n",
              "      <th>0</th>\n",
              "      <td>1.000000</td>\n",
              "      <td>0.146491</td>\n",
              "      <td>-0.062609</td>\n",
              "      <td>-0.101402</td>\n",
              "      <td>-0.070667</td>\n",
              "    </tr>\n",
              "    <tr>\n",
              "      <th>1</th>\n",
              "      <td>0.146491</td>\n",
              "      <td>1.000000</td>\n",
              "      <td>-0.075412</td>\n",
              "      <td>0.086985</td>\n",
              "      <td>0.011972</td>\n",
              "    </tr>\n",
              "    <tr>\n",
              "      <th>2</th>\n",
              "      <td>-0.062609</td>\n",
              "      <td>-0.075412</td>\n",
              "      <td>1.000000</td>\n",
              "      <td>-0.008142</td>\n",
              "      <td>0.087911</td>\n",
              "    </tr>\n",
              "    <tr>\n",
              "      <th>3</th>\n",
              "      <td>-0.101402</td>\n",
              "      <td>0.086985</td>\n",
              "      <td>-0.008142</td>\n",
              "      <td>1.000000</td>\n",
              "      <td>-0.126090</td>\n",
              "    </tr>\n",
              "    <tr>\n",
              "      <th>4</th>\n",
              "      <td>-0.070667</td>\n",
              "      <td>0.011972</td>\n",
              "      <td>0.087911</td>\n",
              "      <td>-0.126090</td>\n",
              "      <td>1.000000</td>\n",
              "    </tr>\n",
              "  </tbody>\n",
              "</table>\n",
              "</div>"
            ],
            "text/plain": [
              "          0         1         2         3         4\n",
              "0  1.000000  0.146491 -0.062609 -0.101402 -0.070667\n",
              "1  0.146491  1.000000 -0.075412  0.086985  0.011972\n",
              "2 -0.062609 -0.075412  1.000000 -0.008142  0.087911\n",
              "3 -0.101402  0.086985 -0.008142  1.000000 -0.126090\n",
              "4 -0.070667  0.011972  0.087911 -0.126090  1.000000"
            ]
          },
          "metadata": {},
          "execution_count": 6
        }
      ]
    },
    {
      "cell_type": "code",
      "metadata": {
        "colab": {
          "base_uri": "https://localhost:8080/"
        },
        "id": "bX_0S6Ih-GMY",
        "outputId": "7e0ddeab-6ea9-494e-bf97-99dcb154e50a"
      },
      "source": [
        "df4.count() # Count of not null elements"
      ],
      "execution_count": 9,
      "outputs": [
        {
          "output_type": "execute_result",
          "data": {
            "text/plain": [
              "0    0\n",
              "1    0\n",
              "2    0\n",
              "3    0\n",
              "4    0\n",
              "dtype: int64"
            ]
          },
          "metadata": {},
          "execution_count": 9
        }
      ]
    },
    {
      "cell_type": "code",
      "metadata": {
        "colab": {
          "base_uri": "https://localhost:8080/"
        },
        "id": "Sg25Mmsy-Wei",
        "outputId": "4120544c-22ed-400a-b2c2-b7cdcde172b3"
      },
      "source": [
        "df4.max() # Max Value"
      ],
      "execution_count": 10,
      "outputs": [
        {
          "output_type": "execute_result",
          "data": {
            "text/plain": [
              "0    49\n",
              "1    49\n",
              "2    48\n",
              "3    49\n",
              "4    49\n",
              "dtype: int64"
            ]
          },
          "metadata": {},
          "execution_count": 10
        }
      ]
    },
    {
      "cell_type": "code",
      "metadata": {
        "colab": {
          "base_uri": "https://localhost:8080/"
        },
        "id": "ZZDHpimk-ZkY",
        "outputId": "5b448378-700a-4e7e-ca1e-5831aa61c86f"
      },
      "source": [
        "df4.min() # Min value"
      ],
      "execution_count": 11,
      "outputs": [
        {
          "output_type": "execute_result",
          "data": {
            "text/plain": [
              "0    0\n",
              "1    0\n",
              "2    0\n",
              "3    0\n",
              "4    0\n",
              "dtype: int64"
            ]
          },
          "metadata": {},
          "execution_count": 11
        }
      ]
    },
    {
      "cell_type": "code",
      "metadata": {
        "colab": {
          "base_uri": "https://localhost:8080/"
        },
        "id": "DX4jaqKi-dh_",
        "outputId": "59ac6cc5-837a-461e-8176-e0f4946c42b7"
      },
      "source": [
        "df4.mean() # Mean of all data"
      ],
      "execution_count": 12,
      "outputs": [
        {
          "output_type": "execute_result",
          "data": {
            "text/plain": [
              "0    24.77\n",
              "1    24.86\n",
              "2    22.72\n",
              "3    24.35\n",
              "4    23.52\n",
              "dtype: float64"
            ]
          },
          "metadata": {},
          "execution_count": 12
        }
      ]
    },
    {
      "cell_type": "code",
      "metadata": {
        "colab": {
          "base_uri": "https://localhost:8080/"
        },
        "id": "K0XH55fs-g2z",
        "outputId": "e1b6c53f-8d4d-4046-ed6c-a8e719b448d1"
      },
      "source": [
        "df4.std() # Standard Deviation"
      ],
      "execution_count": 13,
      "outputs": [
        {
          "output_type": "execute_result",
          "data": {
            "text/plain": [
              "0    14.321598\n",
              "1    14.856907\n",
              "2    14.559582\n",
              "3    15.099920\n",
              "4    14.951423\n",
              "dtype: float64"
            ]
          },
          "metadata": {},
          "execution_count": 13
        }
      ]
    },
    {
      "cell_type": "code",
      "metadata": {
        "colab": {
          "base_uri": "https://localhost:8080/"
        },
        "id": "PAEyUOIs-llN",
        "outputId": "9cf26d2e-8faf-4852-a539-de866cf0c8fc"
      },
      "source": [
        "df4.median() # Middle Value"
      ],
      "execution_count": 14,
      "outputs": [
        {
          "output_type": "execute_result",
          "data": {
            "text/plain": [
              "0    28.0\n",
              "1    26.5\n",
              "2    22.5\n",
              "3    24.5\n",
              "4    23.0\n",
              "dtype: float64"
            ]
          },
          "metadata": {},
          "execution_count": 14
        }
      ]
    },
    {
      "cell_type": "code",
      "metadata": {
        "colab": {
          "base_uri": "https://localhost:8080/"
        },
        "id": "VhOLqHZj-pSn",
        "outputId": "2ddfe98b-642b-406a-9829-68a6d19eed4f"
      },
      "source": [
        "df4[0] # Column"
      ],
      "execution_count": 15,
      "outputs": [
        {
          "output_type": "execute_result",
          "data": {
            "text/plain": [
              "0      6\n",
              "1      5\n",
              "2     25\n",
              "3     38\n",
              "4     42\n",
              "      ..\n",
              "95    29\n",
              "96    25\n",
              "97    12\n",
              "98    35\n",
              "99     5\n",
              "Name: 0, Length: 100, dtype: int64"
            ]
          },
          "metadata": {},
          "execution_count": 15
        }
      ]
    },
    {
      "cell_type": "code",
      "metadata": {
        "colab": {
          "base_uri": "https://localhost:8080/",
          "height": 423
        },
        "id": "RxOZc_ul-0pG",
        "outputId": "cb28112b-c21f-4a8c-8187-63e814634dd9"
      },
      "source": [
        "df4[[0,2,4]] # Two or more Columns"
      ],
      "execution_count": 16,
      "outputs": [
        {
          "output_type": "execute_result",
          "data": {
            "text/html": [
              "<div>\n",
              "<style scoped>\n",
              "    .dataframe tbody tr th:only-of-type {\n",
              "        vertical-align: middle;\n",
              "    }\n",
              "\n",
              "    .dataframe tbody tr th {\n",
              "        vertical-align: top;\n",
              "    }\n",
              "\n",
              "    .dataframe thead th {\n",
              "        text-align: right;\n",
              "    }\n",
              "</style>\n",
              "<table border=\"1\" class=\"dataframe\">\n",
              "  <thead>\n",
              "    <tr style=\"text-align: right;\">\n",
              "      <th></th>\n",
              "      <th>0</th>\n",
              "      <th>2</th>\n",
              "      <th>4</th>\n",
              "    </tr>\n",
              "  </thead>\n",
              "  <tbody>\n",
              "    <tr>\n",
              "      <th>0</th>\n",
              "      <td>6</td>\n",
              "      <td>40</td>\n",
              "      <td>28</td>\n",
              "    </tr>\n",
              "    <tr>\n",
              "      <th>1</th>\n",
              "      <td>5</td>\n",
              "      <td>45</td>\n",
              "      <td>40</td>\n",
              "    </tr>\n",
              "    <tr>\n",
              "      <th>2</th>\n",
              "      <td>25</td>\n",
              "      <td>3</td>\n",
              "      <td>12</td>\n",
              "    </tr>\n",
              "    <tr>\n",
              "      <th>3</th>\n",
              "      <td>38</td>\n",
              "      <td>35</td>\n",
              "      <td>28</td>\n",
              "    </tr>\n",
              "    <tr>\n",
              "      <th>4</th>\n",
              "      <td>42</td>\n",
              "      <td>43</td>\n",
              "      <td>45</td>\n",
              "    </tr>\n",
              "    <tr>\n",
              "      <th>...</th>\n",
              "      <td>...</td>\n",
              "      <td>...</td>\n",
              "      <td>...</td>\n",
              "    </tr>\n",
              "    <tr>\n",
              "      <th>95</th>\n",
              "      <td>29</td>\n",
              "      <td>29</td>\n",
              "      <td>16</td>\n",
              "    </tr>\n",
              "    <tr>\n",
              "      <th>96</th>\n",
              "      <td>25</td>\n",
              "      <td>29</td>\n",
              "      <td>11</td>\n",
              "    </tr>\n",
              "    <tr>\n",
              "      <th>97</th>\n",
              "      <td>12</td>\n",
              "      <td>30</td>\n",
              "      <td>25</td>\n",
              "    </tr>\n",
              "    <tr>\n",
              "      <th>98</th>\n",
              "      <td>35</td>\n",
              "      <td>21</td>\n",
              "      <td>20</td>\n",
              "    </tr>\n",
              "    <tr>\n",
              "      <th>99</th>\n",
              "      <td>5</td>\n",
              "      <td>8</td>\n",
              "      <td>42</td>\n",
              "    </tr>\n",
              "  </tbody>\n",
              "</table>\n",
              "<p>100 rows × 3 columns</p>\n",
              "</div>"
            ],
            "text/plain": [
              "     0   2   4\n",
              "0    6  40  28\n",
              "1    5  45  40\n",
              "2   25   3  12\n",
              "3   38  35  28\n",
              "4   42  43  45\n",
              "..  ..  ..  ..\n",
              "95  29  29  16\n",
              "96  25  29  11\n",
              "97  12  30  25\n",
              "98  35  21  20\n",
              "99   5   8  42\n",
              "\n",
              "[100 rows x 3 columns]"
            ]
          },
          "metadata": {},
          "execution_count": 16
        }
      ]
    },
    {
      "cell_type": "code",
      "metadata": {
        "id": "FcfyW0qK_TqC"
      },
      "source": [
        "df4.iloc[0][2] # same as M[0,2] Row 0 column 2"
      ],
      "execution_count": null,
      "outputs": []
    },
    {
      "cell_type": "code",
      "metadata": {
        "id": "VljtgCDF_WtQ"
      },
      "source": [
        "df4.loc[0] # Row 0 all columns"
      ],
      "execution_count": null,
      "outputs": []
    },
    {
      "cell_type": "code",
      "metadata": {
        "id": "sFR_fi1l_bN4"
      },
      "source": [
        "df4.iloc[0,:] # Row 0 all "
      ],
      "execution_count": null,
      "outputs": []
    },
    {
      "cell_type": "code",
      "metadata": {
        "id": "wehUA9S0_eew"
      },
      "source": [
        "df4.iloc[0,:] = [None,None,None,None,None]"
      ],
      "execution_count": null,
      "outputs": []
    },
    {
      "cell_type": "code",
      "metadata": {
        "id": "v6kp_RXU_itH"
      },
      "source": [
        "df4.isnull()"
      ],
      "execution_count": null,
      "outputs": []
    },
    {
      "cell_type": "code",
      "metadata": {
        "id": "rtcpzkAX_sYx"
      },
      "source": [
        "df4.isnull().sum()"
      ],
      "execution_count": null,
      "outputs": []
    }
  ]
}